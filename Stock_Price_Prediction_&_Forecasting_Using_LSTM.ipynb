{
  "nbformat": 4,
  "nbformat_minor": 0,
  "metadata": {
    "colab": {
      "name": "Stock Price Prediction & Forecasting Using LSTM.ipynb",
      "provenance": [],
      "collapsed_sections": [],
      "authorship_tag": "ABX9TyOJUZIOzewnLHn+VlogZNI4",
      "include_colab_link": true
    },
    "kernelspec": {
      "name": "python3",
      "display_name": "Python 3"
    }
  },
  "cells": [
    {
      "cell_type": "markdown",
      "metadata": {
        "id": "view-in-github",
        "colab_type": "text"
      },
      "source": [
        "<a href=\"https://colab.research.google.com/github/MuhammadShaheer-khan/Python-For-Finance-Stock-Analysis/blob/master/Stock_Price_Prediction_%26_Forecasting_Using_LSTM.ipynb\" target=\"_parent\"><img src=\"https://colab.research.google.com/assets/colab-badge.svg\" alt=\"Open In Colab\"/></a>"
      ]
    },
    {
      "cell_type": "code",
      "metadata": {
        "id": "8r7DMBGA9rTD"
      },
      "source": [
        "import pandas_datareader as pdr\r\n",
        "import pandas as pd\r\n",
        "import matplotlib.pyplot as plt\r\n",
        "from sklearn.preprocessing import MinMaxScaler\r\n",
        "import numpy as np\r\n",
        "from tensorflow.keras.models import Sequential\r\n",
        "from tensorflow.keras.layers import Dense\r\n",
        "from tensorflow.keras.layers import LSTM\r\n",
        "import math"
      ],
      "execution_count": 1,
      "outputs": []
    },
    {
      "cell_type": "code",
      "metadata": {
        "id": "YFGH2e3h94PA"
      },
      "source": [
        "df = pdr.get_data_tiingo(\"AAPL\", api_key=\"228ddadcc62071ee6ddf47e97a9479350f804127\")"
      ],
      "execution_count": 2,
      "outputs": []
    },
    {
      "cell_type": "code",
      "metadata": {
        "id": "quGIWVWu-GVT"
      },
      "source": [
        "df.to_csv(\"AAPL.csv\")"
      ],
      "execution_count": 3,
      "outputs": []
    },
    {
      "cell_type": "code",
      "metadata": {
        "id": "bKkWN1l8Amu6"
      },
      "source": [
        "df = pd.read_csv(\"AAPL.csv\")"
      ],
      "execution_count": 4,
      "outputs": []
    },
    {
      "cell_type": "code",
      "metadata": {
        "colab": {
          "base_uri": "https://localhost:8080/",
          "height": 204
        },
        "id": "BqBBquW3ArFy",
        "outputId": "d028021d-9ed0-4ed7-ee1d-a911e4b35a5c"
      },
      "source": [
        "df.head()"
      ],
      "execution_count": 5,
      "outputs": [
        {
          "output_type": "execute_result",
          "data": {
            "text/html": [
              "<div>\n",
              "<style scoped>\n",
              "    .dataframe tbody tr th:only-of-type {\n",
              "        vertical-align: middle;\n",
              "    }\n",
              "\n",
              "    .dataframe tbody tr th {\n",
              "        vertical-align: top;\n",
              "    }\n",
              "\n",
              "    .dataframe thead th {\n",
              "        text-align: right;\n",
              "    }\n",
              "</style>\n",
              "<table border=\"1\" class=\"dataframe\">\n",
              "  <thead>\n",
              "    <tr style=\"text-align: right;\">\n",
              "      <th></th>\n",
              "      <th>symbol</th>\n",
              "      <th>date</th>\n",
              "      <th>close</th>\n",
              "      <th>high</th>\n",
              "      <th>low</th>\n",
              "      <th>open</th>\n",
              "      <th>volume</th>\n",
              "      <th>adjClose</th>\n",
              "      <th>adjHigh</th>\n",
              "      <th>adjLow</th>\n",
              "      <th>adjOpen</th>\n",
              "      <th>adjVolume</th>\n",
              "      <th>divCash</th>\n",
              "      <th>splitFactor</th>\n",
              "    </tr>\n",
              "  </thead>\n",
              "  <tbody>\n",
              "    <tr>\n",
              "      <th>0</th>\n",
              "      <td>AAPL</td>\n",
              "      <td>2016-02-01 00:00:00+00:00</td>\n",
              "      <td>96.43</td>\n",
              "      <td>96.71</td>\n",
              "      <td>95.40</td>\n",
              "      <td>96.47</td>\n",
              "      <td>40943541</td>\n",
              "      <td>22.332087</td>\n",
              "      <td>22.396932</td>\n",
              "      <td>22.093551</td>\n",
              "      <td>22.341350</td>\n",
              "      <td>163774164</td>\n",
              "      <td>0.00</td>\n",
              "      <td>1.0</td>\n",
              "    </tr>\n",
              "    <tr>\n",
              "      <th>1</th>\n",
              "      <td>AAPL</td>\n",
              "      <td>2016-02-02 00:00:00+00:00</td>\n",
              "      <td>94.48</td>\n",
              "      <td>96.04</td>\n",
              "      <td>94.28</td>\n",
              "      <td>95.42</td>\n",
              "      <td>37357215</td>\n",
              "      <td>21.880489</td>\n",
              "      <td>22.241767</td>\n",
              "      <td>21.834171</td>\n",
              "      <td>22.098182</td>\n",
              "      <td>149428860</td>\n",
              "      <td>0.00</td>\n",
              "      <td>1.0</td>\n",
              "    </tr>\n",
              "    <tr>\n",
              "      <th>2</th>\n",
              "      <td>AAPL</td>\n",
              "      <td>2016-02-03 00:00:00+00:00</td>\n",
              "      <td>96.35</td>\n",
              "      <td>96.84</td>\n",
              "      <td>94.08</td>\n",
              "      <td>95.00</td>\n",
              "      <td>45964294</td>\n",
              "      <td>22.313560</td>\n",
              "      <td>22.427038</td>\n",
              "      <td>21.787854</td>\n",
              "      <td>22.000915</td>\n",
              "      <td>183857176</td>\n",
              "      <td>0.00</td>\n",
              "      <td>1.0</td>\n",
              "    </tr>\n",
              "    <tr>\n",
              "      <th>3</th>\n",
              "      <td>AAPL</td>\n",
              "      <td>2016-02-04 00:00:00+00:00</td>\n",
              "      <td>96.60</td>\n",
              "      <td>97.33</td>\n",
              "      <td>95.19</td>\n",
              "      <td>95.86</td>\n",
              "      <td>46471652</td>\n",
              "      <td>22.491883</td>\n",
              "      <td>22.661853</td>\n",
              "      <td>22.163585</td>\n",
              "      <td>22.319585</td>\n",
              "      <td>185886608</td>\n",
              "      <td>0.52</td>\n",
              "      <td>1.0</td>\n",
              "    </tr>\n",
              "    <tr>\n",
              "      <th>4</th>\n",
              "      <td>AAPL</td>\n",
              "      <td>2016-02-05 00:00:00+00:00</td>\n",
              "      <td>94.02</td>\n",
              "      <td>96.92</td>\n",
              "      <td>93.69</td>\n",
              "      <td>96.52</td>\n",
              "      <td>46418064</td>\n",
              "      <td>21.891168</td>\n",
              "      <td>22.566390</td>\n",
              "      <td>21.814333</td>\n",
              "      <td>22.473256</td>\n",
              "      <td>185672256</td>\n",
              "      <td>0.00</td>\n",
              "      <td>1.0</td>\n",
              "    </tr>\n",
              "  </tbody>\n",
              "</table>\n",
              "</div>"
            ],
            "text/plain": [
              "  symbol                       date  close  ...  adjVolume  divCash  splitFactor\n",
              "0   AAPL  2016-02-01 00:00:00+00:00  96.43  ...  163774164     0.00          1.0\n",
              "1   AAPL  2016-02-02 00:00:00+00:00  94.48  ...  149428860     0.00          1.0\n",
              "2   AAPL  2016-02-03 00:00:00+00:00  96.35  ...  183857176     0.00          1.0\n",
              "3   AAPL  2016-02-04 00:00:00+00:00  96.60  ...  185886608     0.52          1.0\n",
              "4   AAPL  2016-02-05 00:00:00+00:00  94.02  ...  185672256     0.00          1.0\n",
              "\n",
              "[5 rows x 14 columns]"
            ]
          },
          "metadata": {
            "tags": []
          },
          "execution_count": 5
        }
      ]
    },
    {
      "cell_type": "code",
      "metadata": {
        "colab": {
          "base_uri": "https://localhost:8080/",
          "height": 204
        },
        "id": "d3aGBGO6Eqik",
        "outputId": "80e9d43d-2187-4270-d76f-43a9fc54df31"
      },
      "source": [
        "df.tail()"
      ],
      "execution_count": 6,
      "outputs": [
        {
          "output_type": "execute_result",
          "data": {
            "text/html": [
              "<div>\n",
              "<style scoped>\n",
              "    .dataframe tbody tr th:only-of-type {\n",
              "        vertical-align: middle;\n",
              "    }\n",
              "\n",
              "    .dataframe tbody tr th {\n",
              "        vertical-align: top;\n",
              "    }\n",
              "\n",
              "    .dataframe thead th {\n",
              "        text-align: right;\n",
              "    }\n",
              "</style>\n",
              "<table border=\"1\" class=\"dataframe\">\n",
              "  <thead>\n",
              "    <tr style=\"text-align: right;\">\n",
              "      <th></th>\n",
              "      <th>symbol</th>\n",
              "      <th>date</th>\n",
              "      <th>close</th>\n",
              "      <th>high</th>\n",
              "      <th>low</th>\n",
              "      <th>open</th>\n",
              "      <th>volume</th>\n",
              "      <th>adjClose</th>\n",
              "      <th>adjHigh</th>\n",
              "      <th>adjLow</th>\n",
              "      <th>adjOpen</th>\n",
              "      <th>adjVolume</th>\n",
              "      <th>divCash</th>\n",
              "      <th>splitFactor</th>\n",
              "    </tr>\n",
              "  </thead>\n",
              "  <tbody>\n",
              "    <tr>\n",
              "      <th>1254</th>\n",
              "      <td>AAPL</td>\n",
              "      <td>2021-01-25 00:00:00+00:00</td>\n",
              "      <td>142.92</td>\n",
              "      <td>145.09</td>\n",
              "      <td>136.54</td>\n",
              "      <td>143.07</td>\n",
              "      <td>157611713</td>\n",
              "      <td>142.92</td>\n",
              "      <td>145.09</td>\n",
              "      <td>136.54</td>\n",
              "      <td>143.07</td>\n",
              "      <td>157611713</td>\n",
              "      <td>0.0</td>\n",
              "      <td>1.0</td>\n",
              "    </tr>\n",
              "    <tr>\n",
              "      <th>1255</th>\n",
              "      <td>AAPL</td>\n",
              "      <td>2021-01-26 00:00:00+00:00</td>\n",
              "      <td>143.16</td>\n",
              "      <td>144.30</td>\n",
              "      <td>141.37</td>\n",
              "      <td>143.60</td>\n",
              "      <td>98390555</td>\n",
              "      <td>143.16</td>\n",
              "      <td>144.30</td>\n",
              "      <td>141.37</td>\n",
              "      <td>143.60</td>\n",
              "      <td>98390555</td>\n",
              "      <td>0.0</td>\n",
              "      <td>1.0</td>\n",
              "    </tr>\n",
              "    <tr>\n",
              "      <th>1256</th>\n",
              "      <td>AAPL</td>\n",
              "      <td>2021-01-27 00:00:00+00:00</td>\n",
              "      <td>142.06</td>\n",
              "      <td>144.30</td>\n",
              "      <td>140.41</td>\n",
              "      <td>143.43</td>\n",
              "      <td>140843759</td>\n",
              "      <td>142.06</td>\n",
              "      <td>144.30</td>\n",
              "      <td>140.41</td>\n",
              "      <td>143.43</td>\n",
              "      <td>140843759</td>\n",
              "      <td>0.0</td>\n",
              "      <td>1.0</td>\n",
              "    </tr>\n",
              "    <tr>\n",
              "      <th>1257</th>\n",
              "      <td>AAPL</td>\n",
              "      <td>2021-01-28 00:00:00+00:00</td>\n",
              "      <td>137.09</td>\n",
              "      <td>141.99</td>\n",
              "      <td>136.70</td>\n",
              "      <td>139.52</td>\n",
              "      <td>142621128</td>\n",
              "      <td>137.09</td>\n",
              "      <td>141.99</td>\n",
              "      <td>136.70</td>\n",
              "      <td>139.52</td>\n",
              "      <td>142621128</td>\n",
              "      <td>0.0</td>\n",
              "      <td>1.0</td>\n",
              "    </tr>\n",
              "    <tr>\n",
              "      <th>1258</th>\n",
              "      <td>AAPL</td>\n",
              "      <td>2021-01-29 00:00:00+00:00</td>\n",
              "      <td>131.96</td>\n",
              "      <td>136.74</td>\n",
              "      <td>130.21</td>\n",
              "      <td>135.83</td>\n",
              "      <td>177523812</td>\n",
              "      <td>131.96</td>\n",
              "      <td>136.74</td>\n",
              "      <td>130.21</td>\n",
              "      <td>135.83</td>\n",
              "      <td>177523812</td>\n",
              "      <td>0.0</td>\n",
              "      <td>1.0</td>\n",
              "    </tr>\n",
              "  </tbody>\n",
              "</table>\n",
              "</div>"
            ],
            "text/plain": [
              "     symbol                       date   close  ...  adjVolume  divCash  splitFactor\n",
              "1254   AAPL  2021-01-25 00:00:00+00:00  142.92  ...  157611713      0.0          1.0\n",
              "1255   AAPL  2021-01-26 00:00:00+00:00  143.16  ...   98390555      0.0          1.0\n",
              "1256   AAPL  2021-01-27 00:00:00+00:00  142.06  ...  140843759      0.0          1.0\n",
              "1257   AAPL  2021-01-28 00:00:00+00:00  137.09  ...  142621128      0.0          1.0\n",
              "1258   AAPL  2021-01-29 00:00:00+00:00  131.96  ...  177523812      0.0          1.0\n",
              "\n",
              "[5 rows x 14 columns]"
            ]
          },
          "metadata": {
            "tags": []
          },
          "execution_count": 6
        }
      ]
    },
    {
      "cell_type": "code",
      "metadata": {
        "id": "yP88f8CBD0nK"
      },
      "source": [
        "df2 = df.reset_index()[\"close\"]"
      ],
      "execution_count": 7,
      "outputs": []
    },
    {
      "cell_type": "code",
      "metadata": {
        "colab": {
          "base_uri": "https://localhost:8080/"
        },
        "id": "kzWS913bEAhE",
        "outputId": "1d26f215-b4ee-4d87-d469-cc11def9ab0f"
      },
      "source": [
        "df2[1128:]"
      ],
      "execution_count": 8,
      "outputs": [
        {
          "output_type": "execute_result",
          "data": {
            "text/plain": [
              "1128    370.46\n",
              "1129    379.24\n",
              "1130    373.01\n",
              "1131    380.16\n",
              "1132    384.76\n",
              "         ...  \n",
              "1254    142.92\n",
              "1255    143.16\n",
              "1256    142.06\n",
              "1257    137.09\n",
              "1258    131.96\n",
              "Name: close, Length: 131, dtype: float64"
            ]
          },
          "metadata": {
            "tags": []
          },
          "execution_count": 8
        }
      ]
    },
    {
      "cell_type": "code",
      "metadata": {
        "colab": {
          "base_uri": "https://localhost:8080/"
        },
        "id": "tLK7ES4rEJaa",
        "outputId": "283a8fdd-36cd-40c8-8bac-ac52f75a1e6a"
      },
      "source": [
        "df2.shape"
      ],
      "execution_count": 9,
      "outputs": [
        {
          "output_type": "execute_result",
          "data": {
            "text/plain": [
              "(1259,)"
            ]
          },
          "metadata": {
            "tags": []
          },
          "execution_count": 9
        }
      ]
    },
    {
      "cell_type": "code",
      "metadata": {
        "colab": {
          "base_uri": "https://localhost:8080/",
          "height": 282
        },
        "id": "u16hS7I4ER0z",
        "outputId": "49112b8f-55ea-4b87-8d77-0bf11ee993ff"
      },
      "source": [
        "plt.plot(df2)"
      ],
      "execution_count": 10,
      "outputs": [
        {
          "output_type": "execute_result",
          "data": {
            "text/plain": [
              "[<matplotlib.lines.Line2D at 0x7fe88f24acc0>]"
            ]
          },
          "metadata": {
            "tags": []
          },
          "execution_count": 10
        },
        {
          "output_type": "display_data",
          "data": {
            "image/png": "[encoded data removed]",
            "text/plain": [
              "<Figure size 432x288 with 1 Axes>"
            ]
          },
          "metadata": {
            "tags": [],
            "needs_background": "light"
          }
        }
      ]
    },
    {
      "cell_type": "code",
      "metadata": {
        "colab": {
          "base_uri": "https://localhost:8080/"
        },
        "id": "u0qcTOdLFnuX",
        "outputId": "be3ff2dd-ef09-4b55-be59-1266176e3180"
      },
      "source": [
        "df2"
      ],
      "execution_count": 11,
      "outputs": [
        {
          "output_type": "execute_result",
          "data": {
            "text/plain": [
              "0        96.43\n",
              "1        94.48\n",
              "2        96.35\n",
              "3        96.60\n",
              "4        94.02\n",
              "         ...  \n",
              "1254    142.92\n",
              "1255    143.16\n",
              "1256    142.06\n",
              "1257    137.09\n",
              "1258    131.96\n",
              "Name: close, Length: 1259, dtype: float64"
            ]
          },
          "metadata": {
            "tags": []
          },
          "execution_count": 11
        }
      ]
    },
    {
      "cell_type": "code",
      "metadata": {
        "id": "fbAn3rfcEdpi"
      },
      "source": [
        "# LSTM are sensative to the scale of the data.  So we apply MinMaxScaler to convert val b/w 0 to 1\r\n",
        "\r\n",
        "scaler = MinMaxScaler(feature_range = (0, 1))\r\n",
        "df2 = scaler.fit_transform(np.array(df2).reshape(-1, 1))"
      ],
      "execution_count": 12,
      "outputs": []
    },
    {
      "cell_type": "code",
      "metadata": {
        "colab": {
          "base_uri": "https://localhost:8080/"
        },
        "id": "0VL1Lj7sFwFj",
        "outputId": "56e9a656-3b1e-4998-c33a-af83c43d3582"
      },
      "source": [
        "df2"
      ],
      "execution_count": 13,
      "outputs": [
        {
          "output_type": "execute_result",
          "data": {
            "text/plain": [
              "array([[0.01464823],\n",
              "       [0.00995791],\n",
              "       [0.0144558 ],\n",
              "       ...,\n",
              "       [0.12440168],\n",
              "       [0.11244738],\n",
              "       [0.10010824]])"
            ]
          },
          "metadata": {
            "tags": []
          },
          "execution_count": 13
        }
      ]
    },
    {
      "cell_type": "code",
      "metadata": {
        "id": "MLEfOg1qFxMr"
      },
      "source": [
        "# Split data in train and test\r\n",
        "training_size = int(len(df2) * 0.65)\r\n",
        "test_size = len(df2) - training_size\r\n",
        "train_data, test_data = df2[0:training_size,:], df2[training_size: len(df2), :1]"
      ],
      "execution_count": 14,
      "outputs": []
    },
    {
      "cell_type": "code",
      "metadata": {
        "colab": {
          "base_uri": "https://localhost:8080/"
        },
        "id": "ZXrQt9nnX8hf",
        "outputId": "2e0ede4f-c80f-4864-dcca-d44931b1c9b8"
      },
      "source": [
        "training_size, test_size"
      ],
      "execution_count": 15,
      "outputs": [
        {
          "output_type": "execute_result",
          "data": {
            "text/plain": [
              "(818, 441)"
            ]
          },
          "metadata": {
            "tags": []
          },
          "execution_count": 15
        }
      ]
    },
    {
      "cell_type": "code",
      "metadata": {
        "id": "eXp8SY6_YFiu"
      },
      "source": [
        "# Create an array od values into a dataset matrix\r\n",
        "\r\n",
        "def create_dataset(dataset, time_step = 1):\r\n",
        "  dataX, dataY = [], []\r\n",
        "  for i in range(len(dataset) - time_step - 1):\r\n",
        "    a = dataset[i:(i + time_step), 0]      # i = 0,  0,1,2,3 ----100\r\n",
        "    dataX.append(a)\r\n",
        "    dataY.append(dataset[i + time_step, 0])\r\n",
        "  return np.array(dataX), np.array(dataY)"
      ],
      "execution_count": 16,
      "outputs": []
    },
    {
      "cell_type": "code",
      "metadata": {
        "id": "T8lMgbV8Zk_A"
      },
      "source": [
        "# Reshape into X=t, t+1, t+2 t+3 and Y=t+4\r\n",
        "time_step = 100\r\n",
        "X_train, y_train = create_dataset(train_data, time_step)\r\n",
        "X_test, y_test = create_dataset(test_data, time_step)"
      ],
      "execution_count": 17,
      "outputs": []
    },
    {
      "cell_type": "code",
      "metadata": {
        "colab": {
          "base_uri": "https://localhost:8080/"
        },
        "id": "UpAAE_awad-3",
        "outputId": "e098b139-6558-43ff-f816-dfc4b0b36fbd"
      },
      "source": [
        "print(X_train)"
      ],
      "execution_count": 18,
      "outputs": [
        {
          "output_type": "stream",
          "text": [
            "[[0.01464823 0.00995791 0.0144558  ... 0.01144919 0.01339747 0.01253157]\n",
            " [0.00995791 0.0144558  0.01505713 ... 0.01339747 0.01253157 0.01385448]\n",
            " [0.0144558  0.01505713 0.00885147 ... 0.01253157 0.01385448 0.00736019]\n",
            " ...\n",
            " [0.21457607 0.21224293 0.22725195 ... 0.28175586 0.28098617 0.27646422]\n",
            " [0.21224293 0.22725195 0.20769693 ... 0.28098617 0.27646422 0.27410704]\n",
            " [0.22725195 0.20769693 0.20295851 ... 0.27646422 0.27410704 0.27485268]]\n"
          ],
          "name": "stdout"
        }
      ]
    },
    {
      "cell_type": "code",
      "metadata": {
        "colab": {
          "base_uri": "https://localhost:8080/"
        },
        "id": "vTUdx4huagjc",
        "outputId": "08c995c1-c93b-46b9-e10e-589ee91e8459"
      },
      "source": [
        "print(X_test)"
      ],
      "execution_count": 19,
      "outputs": [
        {
          "output_type": "stream",
          "text": [
            "[[0.2857727  0.29202646 0.28416115 ... 0.31417919 0.3064101  0.30879134]\n",
            " [0.29202646 0.28416115 0.27064342 ... 0.3064101  0.30879134 0.30628984]\n",
            " [0.28416115 0.27064342 0.27073963 ... 0.30879134 0.30628984 0.31434756]\n",
            " ...\n",
            " [0.10544799 0.09876127 0.07345761 ... 0.11191822 0.11720986 0.12647023]\n",
            " [0.09876127 0.07345761 0.07365003 ... 0.11720986 0.12647023 0.1270475 ]\n",
            " [0.07345761 0.07365003 0.05407096 ... 0.12647023 0.1270475  0.12440168]]\n"
          ],
          "name": "stdout"
        }
      ]
    },
    {
      "cell_type": "code",
      "metadata": {
        "colab": {
          "base_uri": "https://localhost:8080/"
        },
        "id": "Hqo1vsN5aiSz",
        "outputId": "e3d18af1-1526-4589-e2f7-d4c97d1cb4a7"
      },
      "source": [
        "X_test.shape"
      ],
      "execution_count": 20,
      "outputs": [
        {
          "output_type": "execute_result",
          "data": {
            "text/plain": [
              "(340, 100)"
            ]
          },
          "metadata": {
            "tags": []
          },
          "execution_count": 20
        }
      ]
    },
    {
      "cell_type": "code",
      "metadata": {
        "id": "ylwKzi4KatME",
        "colab": {
          "base_uri": "https://localhost:8080/"
        },
        "outputId": "80525308-e885-4fe1-b31c-e7280800ccfa"
      },
      "source": [
        "y_test.shape"
      ],
      "execution_count": 21,
      "outputs": [
        {
          "output_type": "execute_result",
          "data": {
            "text/plain": [
              "(340,)"
            ]
          },
          "metadata": {
            "tags": []
          },
          "execution_count": 21
        }
      ]
    },
    {
      "cell_type": "code",
      "metadata": {
        "id": "f3QTNrBV7bgl"
      },
      "source": [
        "# Reshape input to be [samples, time steps, features] which is required for LSTM\r\n",
        "X_train = X_train.reshape(X_train.shape[0], X_train.shape[1], 1)\r\n",
        "X_test = X_test.reshape(X_test.shape[0], X_test.shape[1], 1)"
      ],
      "execution_count": 22,
      "outputs": []
    },
    {
      "cell_type": "code",
      "metadata": {
        "id": "If-7q49M8xFg"
      },
      "source": [
        "model = Sequential()\r\n",
        "model.add(LSTM(50, return_sequences= True, input_shape = (100, 1)))\r\n",
        "model.add(LSTM(50, return_sequences= True))\r\n",
        "model.add(LSTM(50))\r\n",
        "model.add(Dense(1))\r\n",
        "model.compile(loss=\"mean_squared_error\", optimizer = \"adam\")"
      ],
      "execution_count": 23,
      "outputs": []
    },
    {
      "cell_type": "code",
      "metadata": {
        "colab": {
          "base_uri": "https://localhost:8080/"
        },
        "id": "ADFC-IetMF-u",
        "outputId": "7f25ab72-82ef-4a5a-c1ce-0362d02f6e04"
      },
      "source": [
        "model.summary()"
      ],
      "execution_count": 24,
      "outputs": [
        {
          "output_type": "stream",
          "text": [
            "Model: \"sequential\"\n",
            "_________________________________________________________________\n",
            "Layer (type)                 Output Shape              Param #   \n",
            "=================================================================\n",
            "lstm (LSTM)                  (None, 100, 50)           10400     \n",
            "_________________________________________________________________\n",
            "lstm_1 (LSTM)                (None, 100, 50)           20200     \n",
            "_________________________________________________________________\n",
            "lstm_2 (LSTM)                (None, 50)                20200     \n",
            "_________________________________________________________________\n",
            "dense (Dense)                (None, 1)                 51        \n",
            "=================================================================\n",
            "Total params: 50,851\n",
            "Trainable params: 50,851\n",
            "Non-trainable params: 0\n",
            "_________________________________________________________________\n"
          ],
          "name": "stdout"
        }
      ]
    },
    {
      "cell_type": "code",
      "metadata": {
        "colab": {
          "base_uri": "https://localhost:8080/"
        },
        "id": "9FgLWp0OMILA",
        "outputId": "b60a52d5-542f-4959-92ff-9fcd0496a2e7"
      },
      "source": [
        "model.fit(X_train, y_train, validation_data=(X_test, y_test), epochs=105, batch_size=64, verbose=1)"
      ],
      "execution_count": 25,
      "outputs": [
        {
          "output_type": "stream",
          "text": [
            "Epoch 1/105\n",
            "12/12 [==============================] - 8s 277ms/step - loss: 0.0151 - val_loss: 0.0541\n",
            "Epoch 2/105\n",
            "12/12 [==============================] - 2s 169ms/step - loss: 0.0028 - val_loss: 0.0242\n",
            "Epoch 3/105\n",
            "12/12 [==============================] - 2s 166ms/step - loss: 0.0017 - val_loss: 0.0243\n",
            "Epoch 4/105\n",
            "12/12 [==============================] - 2s 166ms/step - loss: 5.5216e-04 - val_loss: 0.0204\n",
            "Epoch 5/105\n",
            "12/12 [==============================] - 2s 179ms/step - loss: 4.6975e-04 - val_loss: 0.0198\n",
            "Epoch 6/105\n",
            "12/12 [==============================] - 2s 170ms/step - loss: 4.1072e-04 - val_loss: 0.0197\n",
            "Epoch 7/105\n",
            "12/12 [==============================] - 2s 170ms/step - loss: 3.8138e-04 - val_loss: 0.0189\n",
            "Epoch 8/105\n",
            "12/12 [==============================] - 2s 169ms/step - loss: 3.8376e-04 - val_loss: 0.0186\n",
            "Epoch 9/105\n",
            "12/12 [==============================] - 2s 170ms/step - loss: 3.2451e-04 - val_loss: 0.0183\n",
            "Epoch 10/105\n",
            "12/12 [==============================] - 2s 173ms/step - loss: 3.3190e-04 - val_loss: 0.0183\n",
            "Epoch 11/105\n",
            "12/12 [==============================] - 2s 168ms/step - loss: 3.2063e-04 - val_loss: 0.0177\n",
            "Epoch 12/105\n",
            "12/12 [==============================] - 2s 172ms/step - loss: 3.0378e-04 - val_loss: 0.0175\n",
            "Epoch 13/105\n",
            "12/12 [==============================] - 2s 172ms/step - loss: 2.9591e-04 - val_loss: 0.0168\n",
            "Epoch 14/105\n",
            "12/12 [==============================] - 2s 171ms/step - loss: 3.1147e-04 - val_loss: 0.0163\n",
            "Epoch 15/105\n",
            "12/12 [==============================] - 2s 176ms/step - loss: 2.8665e-04 - val_loss: 0.0164\n",
            "Epoch 16/105\n",
            "12/12 [==============================] - 2s 169ms/step - loss: 2.7324e-04 - val_loss: 0.0163\n",
            "Epoch 17/105\n",
            "12/12 [==============================] - 2s 170ms/step - loss: 2.5513e-04 - val_loss: 0.0157\n",
            "Epoch 18/105\n",
            "12/12 [==============================] - 2s 174ms/step - loss: 2.6422e-04 - val_loss: 0.0174\n",
            "Epoch 19/105\n",
            "12/12 [==============================] - 2s 170ms/step - loss: 2.8090e-04 - val_loss: 0.0155\n",
            "Epoch 20/105\n",
            "12/12 [==============================] - 2s 174ms/step - loss: 2.3299e-04 - val_loss: 0.0163\n",
            "Epoch 21/105\n",
            "12/12 [==============================] - 2s 175ms/step - loss: 2.2597e-04 - val_loss: 0.0159\n",
            "Epoch 22/105\n",
            "12/12 [==============================] - 2s 170ms/step - loss: 2.3488e-04 - val_loss: 0.0156\n",
            "Epoch 23/105\n",
            "12/12 [==============================] - 2s 173ms/step - loss: 2.2487e-04 - val_loss: 0.0161\n",
            "Epoch 24/105\n",
            "12/12 [==============================] - 2s 170ms/step - loss: 2.2910e-04 - val_loss: 0.0155\n",
            "Epoch 25/105\n",
            "12/12 [==============================] - 2s 175ms/step - loss: 2.0430e-04 - val_loss: 0.0169\n",
            "Epoch 26/105\n",
            "12/12 [==============================] - 2s 180ms/step - loss: 3.1395e-04 - val_loss: 0.0154\n",
            "Epoch 27/105\n",
            "12/12 [==============================] - 2s 171ms/step - loss: 2.1749e-04 - val_loss: 0.0151\n",
            "Epoch 28/105\n",
            "12/12 [==============================] - 2s 175ms/step - loss: 2.6211e-04 - val_loss: 0.0160\n",
            "Epoch 29/105\n",
            "12/12 [==============================] - 2s 176ms/step - loss: 2.7827e-04 - val_loss: 0.0149\n",
            "Epoch 30/105\n",
            "12/12 [==============================] - 2s 176ms/step - loss: 2.4057e-04 - val_loss: 0.0148\n",
            "Epoch 31/105\n",
            "12/12 [==============================] - 2s 174ms/step - loss: 2.1183e-04 - val_loss: 0.0150\n",
            "Epoch 32/105\n",
            "12/12 [==============================] - 2s 174ms/step - loss: 1.7857e-04 - val_loss: 0.0150\n",
            "Epoch 33/105\n",
            "12/12 [==============================] - 2s 175ms/step - loss: 1.9366e-04 - val_loss: 0.0151\n",
            "Epoch 34/105\n",
            "12/12 [==============================] - 2s 174ms/step - loss: 1.8041e-04 - val_loss: 0.0152\n",
            "Epoch 35/105\n",
            "12/12 [==============================] - 2s 174ms/step - loss: 1.8183e-04 - val_loss: 0.0154\n",
            "Epoch 36/105\n",
            "12/12 [==============================] - 2s 174ms/step - loss: 1.6991e-04 - val_loss: 0.0155\n",
            "Epoch 37/105\n",
            "12/12 [==============================] - 2s 181ms/step - loss: 1.8691e-04 - val_loss: 0.0154\n",
            "Epoch 38/105\n",
            "12/12 [==============================] - 2s 182ms/step - loss: 1.8515e-04 - val_loss: 0.0152\n",
            "Epoch 39/105\n",
            "12/12 [==============================] - 2s 180ms/step - loss: 1.7339e-04 - val_loss: 0.0155\n",
            "Epoch 40/105\n",
            "12/12 [==============================] - 2s 177ms/step - loss: 2.1360e-04 - val_loss: 0.0150\n",
            "Epoch 41/105\n",
            "12/12 [==============================] - 2s 179ms/step - loss: 1.5859e-04 - val_loss: 0.0157\n",
            "Epoch 42/105\n",
            "12/12 [==============================] - 2s 182ms/step - loss: 1.7641e-04 - val_loss: 0.0149\n",
            "Epoch 43/105\n",
            "12/12 [==============================] - 2s 178ms/step - loss: 1.7905e-04 - val_loss: 0.0151\n",
            "Epoch 44/105\n",
            "12/12 [==============================] - 2s 179ms/step - loss: 1.8000e-04 - val_loss: 0.0148\n",
            "Epoch 45/105\n",
            "12/12 [==============================] - 2s 179ms/step - loss: 1.5748e-04 - val_loss: 0.0150\n",
            "Epoch 46/105\n",
            "12/12 [==============================] - 2s 176ms/step - loss: 2.0066e-04 - val_loss: 0.0150\n",
            "Epoch 47/105\n",
            "12/12 [==============================] - 2s 186ms/step - loss: 1.5471e-04 - val_loss: 0.0150\n",
            "Epoch 48/105\n",
            "12/12 [==============================] - 2s 179ms/step - loss: 1.6565e-04 - val_loss: 0.0150\n",
            "Epoch 49/105\n",
            "12/12 [==============================] - 2s 181ms/step - loss: 1.5061e-04 - val_loss: 0.0145\n",
            "Epoch 50/105\n",
            "12/12 [==============================] - 2s 181ms/step - loss: 1.6416e-04 - val_loss: 0.0152\n",
            "Epoch 51/105\n",
            "12/12 [==============================] - 2s 181ms/step - loss: 1.5793e-04 - val_loss: 0.0147\n",
            "Epoch 52/105\n",
            "12/12 [==============================] - 2s 180ms/step - loss: 1.5518e-04 - val_loss: 0.0152\n",
            "Epoch 53/105\n",
            "12/12 [==============================] - 2s 178ms/step - loss: 1.4974e-04 - val_loss: 0.0145\n",
            "Epoch 54/105\n",
            "12/12 [==============================] - 2s 185ms/step - loss: 1.4385e-04 - val_loss: 0.0148\n",
            "Epoch 55/105\n",
            "12/12 [==============================] - 2s 178ms/step - loss: 1.3309e-04 - val_loss: 0.0151\n",
            "Epoch 56/105\n",
            "12/12 [==============================] - 2s 178ms/step - loss: 1.7470e-04 - val_loss: 0.0143\n",
            "Epoch 57/105\n",
            "12/12 [==============================] - 2s 193ms/step - loss: 1.7910e-04 - val_loss: 0.0149\n",
            "Epoch 58/105\n",
            "12/12 [==============================] - 2s 179ms/step - loss: 1.5331e-04 - val_loss: 0.0144\n",
            "Epoch 59/105\n",
            "12/12 [==============================] - 2s 181ms/step - loss: 1.4777e-04 - val_loss: 0.0138\n",
            "Epoch 60/105\n",
            "12/12 [==============================] - 2s 183ms/step - loss: 1.5889e-04 - val_loss: 0.0143\n",
            "Epoch 61/105\n",
            "12/12 [==============================] - 2s 188ms/step - loss: 1.4469e-04 - val_loss: 0.0139\n",
            "Epoch 62/105\n",
            "12/12 [==============================] - 2s 197ms/step - loss: 1.4964e-04 - val_loss: 0.0152\n",
            "Epoch 63/105\n",
            "12/12 [==============================] - 2s 198ms/step - loss: 1.8307e-04 - val_loss: 0.0137\n",
            "Epoch 64/105\n",
            "12/12 [==============================] - 2s 187ms/step - loss: 1.3436e-04 - val_loss: 0.0136\n",
            "Epoch 65/105\n",
            "12/12 [==============================] - 2s 180ms/step - loss: 1.4263e-04 - val_loss: 0.0141\n",
            "Epoch 66/105\n",
            "12/12 [==============================] - 2s 181ms/step - loss: 1.5234e-04 - val_loss: 0.0130\n",
            "Epoch 67/105\n",
            "12/12 [==============================] - 2s 179ms/step - loss: 1.4596e-04 - val_loss: 0.0137\n",
            "Epoch 68/105\n",
            "12/12 [==============================] - 2s 177ms/step - loss: 2.0265e-04 - val_loss: 0.0130\n",
            "Epoch 69/105\n",
            "12/12 [==============================] - 2s 180ms/step - loss: 1.4100e-04 - val_loss: 0.0126\n",
            "Epoch 70/105\n",
            "12/12 [==============================] - 2s 180ms/step - loss: 1.4270e-04 - val_loss: 0.0116\n",
            "Epoch 71/105\n",
            "12/12 [==============================] - 2s 177ms/step - loss: 1.6344e-04 - val_loss: 0.0122\n",
            "Epoch 72/105\n",
            "12/12 [==============================] - 2s 180ms/step - loss: 1.3409e-04 - val_loss: 0.0121\n",
            "Epoch 73/105\n",
            "12/12 [==============================] - 2s 178ms/step - loss: 1.6733e-04 - val_loss: 0.0117\n",
            "Epoch 74/105\n",
            "12/12 [==============================] - 2s 180ms/step - loss: 1.5269e-04 - val_loss: 0.0117\n",
            "Epoch 75/105\n",
            "12/12 [==============================] - 2s 179ms/step - loss: 1.4916e-04 - val_loss: 0.0116\n",
            "Epoch 76/105\n",
            "12/12 [==============================] - 2s 180ms/step - loss: 1.4328e-04 - val_loss: 0.0113\n",
            "Epoch 77/105\n",
            "12/12 [==============================] - 2s 179ms/step - loss: 1.2469e-04 - val_loss: 0.0124\n",
            "Epoch 78/105\n",
            "12/12 [==============================] - 2s 182ms/step - loss: 1.6250e-04 - val_loss: 0.0110\n",
            "Epoch 79/105\n",
            "12/12 [==============================] - 2s 183ms/step - loss: 1.3958e-04 - val_loss: 0.0110\n",
            "Epoch 80/105\n",
            "12/12 [==============================] - 2s 180ms/step - loss: 1.1924e-04 - val_loss: 0.0106\n",
            "Epoch 81/105\n",
            "12/12 [==============================] - 2s 184ms/step - loss: 1.3567e-04 - val_loss: 0.0110\n",
            "Epoch 82/105\n",
            "12/12 [==============================] - 2s 179ms/step - loss: 1.2387e-04 - val_loss: 0.0105\n",
            "Epoch 83/105\n",
            "12/12 [==============================] - 2s 177ms/step - loss: 1.2437e-04 - val_loss: 0.0104\n",
            "Epoch 84/105\n",
            "12/12 [==============================] - 2s 177ms/step - loss: 1.3387e-04 - val_loss: 0.0102\n",
            "Epoch 85/105\n",
            "12/12 [==============================] - 2s 175ms/step - loss: 1.4262e-04 - val_loss: 0.0102\n",
            "Epoch 86/105\n",
            "12/12 [==============================] - 2s 176ms/step - loss: 1.4202e-04 - val_loss: 0.0097\n",
            "Epoch 87/105\n",
            "12/12 [==============================] - 2s 176ms/step - loss: 1.2571e-04 - val_loss: 0.0098\n",
            "Epoch 88/105\n",
            "12/12 [==============================] - 2s 178ms/step - loss: 1.1361e-04 - val_loss: 0.0097\n",
            "Epoch 89/105\n",
            "12/12 [==============================] - 2s 178ms/step - loss: 1.0996e-04 - val_loss: 0.0094\n",
            "Epoch 90/105\n",
            "12/12 [==============================] - 2s 179ms/step - loss: 1.3345e-04 - val_loss: 0.0092\n",
            "Epoch 91/105\n",
            "12/12 [==============================] - 2s 178ms/step - loss: 1.2096e-04 - val_loss: 0.0091\n",
            "Epoch 92/105\n",
            "12/12 [==============================] - 2s 180ms/step - loss: 1.1376e-04 - val_loss: 0.0090\n",
            "Epoch 93/105\n",
            "12/12 [==============================] - 2s 180ms/step - loss: 1.1897e-04 - val_loss: 0.0088\n",
            "Epoch 94/105\n",
            "12/12 [==============================] - 2s 179ms/step - loss: 1.1035e-04 - val_loss: 0.0090\n",
            "Epoch 95/105\n",
            "12/12 [==============================] - 2s 179ms/step - loss: 1.2155e-04 - val_loss: 0.0092\n",
            "Epoch 96/105\n",
            "12/12 [==============================] - 2s 179ms/step - loss: 1.2838e-04 - val_loss: 0.0083\n",
            "Epoch 97/105\n",
            "12/12 [==============================] - 2s 178ms/step - loss: 1.1699e-04 - val_loss: 0.0088\n",
            "Epoch 98/105\n",
            "12/12 [==============================] - 2s 185ms/step - loss: 1.2540e-04 - val_loss: 0.0084\n",
            "Epoch 99/105\n",
            "12/12 [==============================] - 2s 175ms/step - loss: 1.1632e-04 - val_loss: 0.0084\n",
            "Epoch 100/105\n",
            "12/12 [==============================] - 2s 179ms/step - loss: 1.2051e-04 - val_loss: 0.0082\n",
            "Epoch 101/105\n",
            "12/12 [==============================] - 2s 182ms/step - loss: 1.0500e-04 - val_loss: 0.0083\n",
            "Epoch 102/105\n",
            "12/12 [==============================] - 2s 178ms/step - loss: 1.0950e-04 - val_loss: 0.0081\n",
            "Epoch 103/105\n",
            "12/12 [==============================] - 2s 186ms/step - loss: 1.3622e-04 - val_loss: 0.0078\n",
            "Epoch 104/105\n",
            "12/12 [==============================] - 2s 181ms/step - loss: 1.2260e-04 - val_loss: 0.0078\n",
            "Epoch 105/105\n",
            "12/12 [==============================] - 2s 180ms/step - loss: 1.1749e-04 - val_loss: 0.0078\n"
          ],
          "name": "stdout"
        },
        {
          "output_type": "execute_result",
          "data": {
            "text/plain": [
              "<tensorflow.python.keras.callbacks.History at 0x7fe88b3cc748>"
            ]
          },
          "metadata": {
            "tags": []
          },
          "execution_count": 25
        }
      ]
    },
    {
      "cell_type": "code",
      "metadata": {
        "id": "UViDBj03MmJ-"
      },
      "source": [
        "import tensorflow as tf"
      ],
      "execution_count": 26,
      "outputs": []
    },
    {
      "cell_type": "code",
      "metadata": {
        "colab": {
          "base_uri": "https://localhost:8080/",
          "height": 35
        },
        "id": "O6zSX8y9QyYR",
        "outputId": "a6368063-a38f-47c8-bee5-f07a1a77d870"
      },
      "source": [
        "tf.__version__"
      ],
      "execution_count": 27,
      "outputs": [
        {
          "output_type": "execute_result",
          "data": {
            "application/vnd.google.colaboratory.intrinsic+json": {
              "type": "string"
            },
            "text/plain": [
              "'2.4.1'"
            ]
          },
          "metadata": {
            "tags": []
          },
          "execution_count": 27
        }
      ]
    },
    {
      "cell_type": "code",
      "metadata": {
        "id": "s5PsJ3k4Q2JD"
      },
      "source": [
        "# Lets do the prediction and check performance metrics\r\n",
        "train_predict = model.predict(X_train)\r\n",
        "test_predict = model.predict(X_test)"
      ],
      "execution_count": 28,
      "outputs": []
    },
    {
      "cell_type": "code",
      "metadata": {
        "id": "8Va_DodQRLOz"
      },
      "source": [
        "# Transformback to original form\r\n",
        "train_predict = scaler.inverse_transform(train_predict)\r\n",
        "test_predict = scaler.inverse_transform(test_predict)"
      ],
      "execution_count": 29,
      "outputs": []
    },
    {
      "cell_type": "code",
      "metadata": {
        "colab": {
          "base_uri": "https://localhost:8080/"
        },
        "id": "B6nn6aeQnEnS",
        "outputId": "f0294149-0956-45ff-a5b1-e66c77c38962"
      },
      "source": [
        "# Calculate RMSE performance metrics\r\n",
        "from sklearn.metrics import mean_squared_error\r\n",
        "math.sqrt(mean_squared_error(y_train, train_predict))"
      ],
      "execution_count": 30,
      "outputs": [
        {
          "output_type": "execute_result",
          "data": {
            "text/plain": [
              "162.68175867614173"
            ]
          },
          "metadata": {
            "tags": []
          },
          "execution_count": 30
        }
      ]
    },
    {
      "cell_type": "code",
      "metadata": {
        "colab": {
          "base_uri": "https://localhost:8080/"
        },
        "id": "ZF_Zdou0o_wU",
        "outputId": "82ea3b67-3ed2-45da-b08c-9d58ec50900b"
      },
      "source": [
        "math.sqrt(mean_squared_error(y_test, test_predict))"
      ],
      "execution_count": 31,
      "outputs": [
        {
          "output_type": "execute_result",
          "data": {
            "text/plain": [
              "263.16979567721637"
            ]
          },
          "metadata": {
            "tags": []
          },
          "execution_count": 31
        }
      ]
    },
    {
      "cell_type": "code",
      "metadata": {
        "colab": {
          "base_uri": "https://localhost:8080/",
          "height": 265
        },
        "id": "XcubFTcfpSU0",
        "outputId": "832b379f-23b7-497e-ea2d-6e54ea0cc1f6"
      },
      "source": [
        "# Plotting the predictions\r\n",
        "## Shift train predictions for plotting\r\n",
        "\r\n",
        "look_back = 100\r\n",
        "trainPredictPlot = np.empty_like(df2)\r\n",
        "trainPredictPlot[:, :] = np.nan\r\n",
        "trainPredictPlot[look_back:len(train_predict) + look_back, :] = train_predict\r\n",
        "\r\n",
        "## Shift test predictions for plotting\r\n",
        "\r\n",
        "testPredictPlot = np.empty_like(df2)\r\n",
        "testPredictPlot[:, :] = np.nan\r\n",
        "testPredictPlot[len(train_predict) + (look_back * 2) + 1 : len(df2) - 1, :] = test_predict\r\n",
        "\r\n",
        "# Plot baseline and predictions\r\n",
        "plt.plot(scaler.inverse_transform(df2))\r\n",
        "plt.plot(train_predict)\r\n",
        "plt.plot(test_predict)\r\n",
        "plt.show()"
      ],
      "execution_count": 32,
      "outputs": [
        {
          "output_type": "display_data",
          "data": {
            "image/png": "[encoded data removed]",
            "text/plain": [
              "<Figure size 432x288 with 1 Axes>"
            ]
          },
          "metadata": {
            "tags": [],
            "needs_background": "light"
          }
        }
      ]
    },
    {
      "cell_type": "markdown",
      "metadata": {
        "id": "2s6WTwlRsLjQ"
      },
      "source": [
        "## Predict the future 30 days"
      ]
    },
    {
      "cell_type": "code",
      "metadata": {
        "colab": {
          "base_uri": "https://localhost:8080/"
        },
        "id": "aopiaTfqrQ-3",
        "outputId": "2a00695d-9612-4402-e1a0-fa75f77a982f"
      },
      "source": [
        "len(test_data)"
      ],
      "execution_count": 33,
      "outputs": [
        {
          "output_type": "execute_result",
          "data": {
            "text/plain": [
              "441"
            ]
          },
          "metadata": {
            "tags": []
          },
          "execution_count": 33
        }
      ]
    },
    {
      "cell_type": "code",
      "metadata": {
        "colab": {
          "base_uri": "https://localhost:8080/"
        },
        "id": "SJyNnr6rs8sF",
        "outputId": "4b8ad0f4-daa0-4695-fb2d-47dec429abc3"
      },
      "source": [
        "x_input = test_data[341:].reshape(1, -1)\r\n",
        "x_input.shape"
      ],
      "execution_count": 34,
      "outputs": [
        {
          "output_type": "execute_result",
          "data": {
            "text/plain": [
              "(1, 100)"
            ]
          },
          "metadata": {
            "tags": []
          },
          "execution_count": 34
        }
      ]
    },
    {
      "cell_type": "code",
      "metadata": {
        "id": "WIUEmV6ftYxc"
      },
      "source": [
        "temp_input = list(x_input)\r\n",
        "temp_input = temp_input[0].tolist()"
      ],
      "execution_count": 35,
      "outputs": []
    },
    {
      "cell_type": "code",
      "metadata": {
        "colab": {
          "base_uri": "https://localhost:8080/"
        },
        "id": "bFRDR44Wtumz",
        "outputId": "b5128fd4-8296-4d49-ae1e-e4b650f42f57"
      },
      "source": [
        "# Demostrate prediction for the next 10 days\r\n",
        "from numpy import array\r\n",
        "\r\n",
        "lst_output = []\r\n",
        "n_steps = 100\r\n",
        "i = 0\r\n",
        "while(i<30):\r\n",
        "\r\n",
        "  if (len(temp_input) > 100):\r\n",
        "    # Print(temp_input)\r\n",
        "    x_input = np.array(temp_input[1:])\r\n",
        "    print(\"{} day input {}\".format(i, x_input))\r\n",
        "    x_input = x_input.reshape(1, -1)\r\n",
        "    x_input = x_input.reshape((1, n_steps, 1))\r\n",
        "    # print(x_input)\r\n",
        "    yhat = model.predict(x_input, verbose=0)\r\n",
        "    print(\"{} day output {}\".format(i, yhat))\r\n",
        "    temp_input.extend(yhat[0].tolist())\r\n",
        "    temp_input=temp_input[1:]\r\n",
        "    #print (temp_input)\r\n",
        "    lst_output.extend(yhat.tolist())\r\n",
        "    i=i+1\r\n",
        "  else:\r\n",
        "    x_input = x_input.reshape((1, n_steps,1))\r\n",
        "    yhat = model.predict(x_input, verbose=0)\r\n",
        "    print(yhat[0])\r\n",
        "    temp_input.extend(yhat[0].tolist())\r\n",
        "    print(len(temp_input))\r\n",
        "    lst_output.extend(yhat.tolist())\r\n",
        "    i=i+1\r\n",
        "\r\n",
        "print(lst_output)"
      ],
      "execution_count": 36,
      "outputs": [
        {
          "output_type": "stream",
          "text": [
            "[0.12187222]\n",
            "101\n",
            "1 day input [0.06489477 0.0556825  0.05209862 0.06016837 0.06061335 0.0524113\n",
            " 0.04810583 0.03968731 0.04748046 0.05164161 0.04036079 0.04300661\n",
            " 0.0527721  0.05921828 0.05712568 0.06126278 0.06361996 0.05455201\n",
            " 0.06292243 0.05488876 0.05950692 0.05924233 0.06405292 0.08192423\n",
            " 0.07398677 0.07420325 0.07304871 0.06898376 0.06167168 0.06535177\n",
            " 0.06381239 0.06111846 0.0594107  0.05943476 0.06316296 0.05017438\n",
            " 0.06008419 0.044546   0.04432952 0.04834636 0.05919423 0.06900782\n",
            " 0.06819002 0.06248948 0.06164762 0.07011425 0.06944077 0.06956103\n",
            " 0.07206254 0.06987372 0.06660253 0.06806975 0.06494287 0.05654841\n",
            " 0.05972339 0.06179194 0.06313891 0.06905592 0.07788334 0.07874925\n",
            " 0.07841251 0.07675286 0.08036079 0.08187613 0.07562237 0.0791341\n",
            " 0.0771377  0.07562237 0.09029465 0.09012628 0.09226699 0.08734817\n",
            " 0.0911365  0.09991581 0.09770295 0.10013229 0.11148527 0.10710764\n",
            " 0.10434155 0.1018641  0.09397474 0.09782321 0.08721587 0.09760673\n",
            " 0.10032471 0.09294047 0.09250752 0.09753458 0.0927721  0.08851473\n",
            " 0.09017438 0.10027661 0.11191822 0.11720986 0.12647023 0.1270475\n",
            " 0.12440168 0.11244738 0.10010824 0.12187222]\n",
            "1 day output [[0.12245395]]\n",
            "2 day input [0.0556825  0.05209862 0.06016837 0.06061335 0.0524113  0.04810583\n",
            " 0.03968731 0.04748046 0.05164161 0.04036079 0.04300661 0.0527721\n",
            " 0.05921828 0.05712568 0.06126278 0.06361996 0.05455201 0.06292243\n",
            " 0.05488876 0.05950692 0.05924233 0.06405292 0.08192423 0.07398677\n",
            " 0.07420325 0.07304871 0.06898376 0.06167168 0.06535177 0.06381239\n",
            " 0.06111846 0.0594107  0.05943476 0.06316296 0.05017438 0.06008419\n",
            " 0.044546   0.04432952 0.04834636 0.05919423 0.06900782 0.06819002\n",
            " 0.06248948 0.06164762 0.07011425 0.06944077 0.06956103 0.07206254\n",
            " 0.06987372 0.06660253 0.06806975 0.06494287 0.05654841 0.05972339\n",
            " 0.06179194 0.06313891 0.06905592 0.07788334 0.07874925 0.07841251\n",
            " 0.07675286 0.08036079 0.08187613 0.07562237 0.0791341  0.0771377\n",
            " 0.07562237 0.09029465 0.09012628 0.09226699 0.08734817 0.0911365\n",
            " 0.09991581 0.09770295 0.10013229 0.11148527 0.10710764 0.10434155\n",
            " 0.1018641  0.09397474 0.09782321 0.08721587 0.09760673 0.10032471\n",
            " 0.09294047 0.09250752 0.09753458 0.0927721  0.08851473 0.09017438\n",
            " 0.10027661 0.11191822 0.11720986 0.12647023 0.1270475  0.12440168\n",
            " 0.11244738 0.10010824 0.12187222 0.12245395]\n",
            "2 day output [[0.12273411]]\n",
            "3 day input [0.05209862 0.06016837 0.06061335 0.0524113  0.04810583 0.03968731\n",
            " 0.04748046 0.05164161 0.04036079 0.04300661 0.0527721  0.05921828\n",
            " 0.05712568 0.06126278 0.06361996 0.05455201 0.06292243 0.05488876\n",
            " 0.05950692 0.05924233 0.06405292 0.08192423 0.07398677 0.07420325\n",
            " 0.07304871 0.06898376 0.06167168 0.06535177 0.06381239 0.06111846\n",
            " 0.0594107  0.05943476 0.06316296 0.05017438 0.06008419 0.044546\n",
            " 0.04432952 0.04834636 0.05919423 0.06900782 0.06819002 0.06248948\n",
            " 0.06164762 0.07011425 0.06944077 0.06956103 0.07206254 0.06987372\n",
            " 0.06660253 0.06806975 0.06494287 0.05654841 0.05972339 0.06179194\n",
            " 0.06313891 0.06905592 0.07788334 0.07874925 0.07841251 0.07675286\n",
            " 0.08036079 0.08187613 0.07562237 0.0791341  0.0771377  0.07562237\n",
            " 0.09029465 0.09012628 0.09226699 0.08734817 0.0911365  0.09991581\n",
            " 0.09770295 0.10013229 0.11148527 0.10710764 0.10434155 0.1018641\n",
            " 0.09397474 0.09782321 0.08721587 0.09760673 0.10032471 0.09294047\n",
            " 0.09250752 0.09753458 0.0927721  0.08851473 0.09017438 0.10027661\n",
            " 0.11191822 0.11720986 0.12647023 0.1270475  0.12440168 0.11244738\n",
            " 0.10010824 0.12187222 0.12245395 0.12273411]\n",
            "3 day output [[0.12304353]]\n",
            "4 day input [0.06016837 0.06061335 0.0524113  0.04810583 0.03968731 0.04748046\n",
            " 0.05164161 0.04036079 0.04300661 0.0527721  0.05921828 0.05712568\n",
            " 0.06126278 0.06361996 0.05455201 0.06292243 0.05488876 0.05950692\n",
            " 0.05924233 0.06405292 0.08192423 0.07398677 0.07420325 0.07304871\n",
            " 0.06898376 0.06167168 0.06535177 0.06381239 0.06111846 0.0594107\n",
            " 0.05943476 0.06316296 0.05017438 0.06008419 0.044546   0.04432952\n",
            " 0.04834636 0.05919423 0.06900782 0.06819002 0.06248948 0.06164762\n",
            " 0.07011425 0.06944077 0.06956103 0.07206254 0.06987372 0.06660253\n",
            " 0.06806975 0.06494287 0.05654841 0.05972339 0.06179194 0.06313891\n",
            " 0.06905592 0.07788334 0.07874925 0.07841251 0.07675286 0.08036079\n",
            " 0.08187613 0.07562237 0.0791341  0.0771377  0.07562237 0.09029465\n",
            " 0.09012628 0.09226699 0.08734817 0.0911365  0.09991581 0.09770295\n",
            " 0.10013229 0.11148527 0.10710764 0.10434155 0.1018641  0.09397474\n",
            " 0.09782321 0.08721587 0.09760673 0.10032471 0.09294047 0.09250752\n",
            " 0.09753458 0.0927721  0.08851473 0.09017438 0.10027661 0.11191822\n",
            " 0.11720986 0.12647023 0.1270475  0.12440168 0.11244738 0.10010824\n",
            " 0.12187222 0.12245395 0.12273411 0.12304353]\n",
            "4 day output [[0.12348631]]\n",
            "5 day input [0.06061335 0.0524113  0.04810583 0.03968731 0.04748046 0.05164161\n",
            " 0.04036079 0.04300661 0.0527721  0.05921828 0.05712568 0.06126278\n",
            " 0.06361996 0.05455201 0.06292243 0.05488876 0.05950692 0.05924233\n",
            " 0.06405292 0.08192423 0.07398677 0.07420325 0.07304871 0.06898376\n",
            " 0.06167168 0.06535177 0.06381239 0.06111846 0.0594107  0.05943476\n",
            " 0.06316296 0.05017438 0.06008419 0.044546   0.04432952 0.04834636\n",
            " 0.05919423 0.06900782 0.06819002 0.06248948 0.06164762 0.07011425\n",
            " 0.06944077 0.06956103 0.07206254 0.06987372 0.06660253 0.06806975\n",
            " 0.06494287 0.05654841 0.05972339 0.06179194 0.06313891 0.06905592\n",
            " 0.07788334 0.07874925 0.07841251 0.07675286 0.08036079 0.08187613\n",
            " 0.07562237 0.0791341  0.0771377  0.07562237 0.09029465 0.09012628\n",
            " 0.09226699 0.08734817 0.0911365  0.09991581 0.09770295 0.10013229\n",
            " 0.11148527 0.10710764 0.10434155 0.1018641  0.09397474 0.09782321\n",
            " 0.08721587 0.09760673 0.10032471 0.09294047 0.09250752 0.09753458\n",
            " 0.0927721  0.08851473 0.09017438 0.10027661 0.11191822 0.11720986\n",
            " 0.12647023 0.1270475  0.12440168 0.11244738 0.10010824 0.12187222\n",
            " 0.12245395 0.12273411 0.12304353 0.12348631]\n",
            "5 day output [[0.12406085]]\n",
            "6 day input [0.0524113  0.04810583 0.03968731 0.04748046 0.05164161 0.04036079\n",
            " 0.04300661 0.0527721  0.05921828 0.05712568 0.06126278 0.06361996\n",
            " 0.05455201 0.06292243 0.05488876 0.05950692 0.05924233 0.06405292\n",
            " 0.08192423 0.07398677 0.07420325 0.07304871 0.06898376 0.06167168\n",
            " 0.06535177 0.06381239 0.06111846 0.0594107  0.05943476 0.06316296\n",
            " 0.05017438 0.06008419 0.044546   0.04432952 0.04834636 0.05919423\n",
            " 0.06900782 0.06819002 0.06248948 0.06164762 0.07011425 0.06944077\n",
            " 0.06956103 0.07206254 0.06987372 0.06660253 0.06806975 0.06494287\n",
            " 0.05654841 0.05972339 0.06179194 0.06313891 0.06905592 0.07788334\n",
            " 0.07874925 0.07841251 0.07675286 0.08036079 0.08187613 0.07562237\n",
            " 0.0791341  0.0771377  0.07562237 0.09029465 0.09012628 0.09226699\n",
            " 0.08734817 0.0911365  0.09991581 0.09770295 0.10013229 0.11148527\n",
            " 0.10710764 0.10434155 0.1018641  0.09397474 0.09782321 0.08721587\n",
            " 0.09760673 0.10032471 0.09294047 0.09250752 0.09753458 0.0927721\n",
            " 0.08851473 0.09017438 0.10027661 0.11191822 0.11720986 0.12647023\n",
            " 0.1270475  0.12440168 0.11244738 0.10010824 0.12187222 0.12245395\n",
            " 0.12273411 0.12304353 0.12348631 0.12406085]\n",
            "6 day output [[0.1247308]]\n",
            "7 day input [0.04810583 0.03968731 0.04748046 0.05164161 0.04036079 0.04300661\n",
            " 0.0527721  0.05921828 0.05712568 0.06126278 0.06361996 0.05455201\n",
            " 0.06292243 0.05488876 0.05950692 0.05924233 0.06405292 0.08192423\n",
            " 0.07398677 0.07420325 0.07304871 0.06898376 0.06167168 0.06535177\n",
            " 0.06381239 0.06111846 0.0594107  0.05943476 0.06316296 0.05017438\n",
            " 0.06008419 0.044546   0.04432952 0.04834636 0.05919423 0.06900782\n",
            " 0.06819002 0.06248948 0.06164762 0.07011425 0.06944077 0.06956103\n",
            " 0.07206254 0.06987372 0.06660253 0.06806975 0.06494287 0.05654841\n",
            " 0.05972339 0.06179194 0.06313891 0.06905592 0.07788334 0.07874925\n",
            " 0.07841251 0.07675286 0.08036079 0.08187613 0.07562237 0.0791341\n",
            " 0.0771377  0.07562237 0.09029465 0.09012628 0.09226699 0.08734817\n",
            " 0.0911365  0.09991581 0.09770295 0.10013229 0.11148527 0.10710764\n",
            " 0.10434155 0.1018641  0.09397474 0.09782321 0.08721587 0.09760673\n",
            " 0.10032471 0.09294047 0.09250752 0.09753458 0.0927721  0.08851473\n",
            " 0.09017438 0.10027661 0.11191822 0.11720986 0.12647023 0.1270475\n",
            " 0.12440168 0.11244738 0.10010824 0.12187222 0.12245395 0.12273411\n",
            " 0.12304353 0.12348631 0.12406085 0.1247308 ]\n",
            "7 day output [[0.1254589]]\n",
            "8 day input [0.03968731 0.04748046 0.05164161 0.04036079 0.04300661 0.0527721\n",
            " 0.05921828 0.05712568 0.06126278 0.06361996 0.05455201 0.06292243\n",
            " 0.05488876 0.05950692 0.05924233 0.06405292 0.08192423 0.07398677\n",
            " 0.07420325 0.07304871 0.06898376 0.06167168 0.06535177 0.06381239\n",
            " 0.06111846 0.0594107  0.05943476 0.06316296 0.05017438 0.06008419\n",
            " 0.044546   0.04432952 0.04834636 0.05919423 0.06900782 0.06819002\n",
            " 0.06248948 0.06164762 0.07011425 0.06944077 0.06956103 0.07206254\n",
            " 0.06987372 0.06660253 0.06806975 0.06494287 0.05654841 0.05972339\n",
            " 0.06179194 0.06313891 0.06905592 0.07788334 0.07874925 0.07841251\n",
            " 0.07675286 0.08036079 0.08187613 0.07562237 0.0791341  0.0771377\n",
            " 0.07562237 0.09029465 0.09012628 0.09226699 0.08734817 0.0911365\n",
            " 0.09991581 0.09770295 0.10013229 0.11148527 0.10710764 0.10434155\n",
            " 0.1018641  0.09397474 0.09782321 0.08721587 0.09760673 0.10032471\n",
            " 0.09294047 0.09250752 0.09753458 0.0927721  0.08851473 0.09017438\n",
            " 0.10027661 0.11191822 0.11720986 0.12647023 0.1270475  0.12440168\n",
            " 0.11244738 0.10010824 0.12187222 0.12245395 0.12273411 0.12304353\n",
            " 0.12348631 0.12406085 0.1247308  0.1254589 ]\n",
            "8 day output [[0.12621905]]\n",
            "9 day input [0.04748046 0.05164161 0.04036079 0.04300661 0.0527721  0.05921828\n",
            " 0.05712568 0.06126278 0.06361996 0.05455201 0.06292243 0.05488876\n",
            " 0.05950692 0.05924233 0.06405292 0.08192423 0.07398677 0.07420325\n",
            " 0.07304871 0.06898376 0.06167168 0.06535177 0.06381239 0.06111846\n",
            " 0.0594107  0.05943476 0.06316296 0.05017438 0.06008419 0.044546\n",
            " 0.04432952 0.04834636 0.05919423 0.06900782 0.06819002 0.06248948\n",
            " 0.06164762 0.07011425 0.06944077 0.06956103 0.07206254 0.06987372\n",
            " 0.06660253 0.06806975 0.06494287 0.05654841 0.05972339 0.06179194\n",
            " 0.06313891 0.06905592 0.07788334 0.07874925 0.07841251 0.07675286\n",
            " 0.08036079 0.08187613 0.07562237 0.0791341  0.0771377  0.07562237\n",
            " 0.09029465 0.09012628 0.09226699 0.08734817 0.0911365  0.09991581\n",
            " 0.09770295 0.10013229 0.11148527 0.10710764 0.10434155 0.1018641\n",
            " 0.09397474 0.09782321 0.08721587 0.09760673 0.10032471 0.09294047\n",
            " 0.09250752 0.09753458 0.0927721  0.08851473 0.09017438 0.10027661\n",
            " 0.11191822 0.11720986 0.12647023 0.1270475  0.12440168 0.11244738\n",
            " 0.10010824 0.12187222 0.12245395 0.12273411 0.12304353 0.12348631\n",
            " 0.12406085 0.1247308  0.1254589  0.12621905]\n",
            "9 day output [[0.12699692]]\n",
            "10 day input [0.05164161 0.04036079 0.04300661 0.0527721  0.05921828 0.05712568\n",
            " 0.06126278 0.06361996 0.05455201 0.06292243 0.05488876 0.05950692\n",
            " 0.05924233 0.06405292 0.08192423 0.07398677 0.07420325 0.07304871\n",
            " 0.06898376 0.06167168 0.06535177 0.06381239 0.06111846 0.0594107\n",
            " 0.05943476 0.06316296 0.05017438 0.06008419 0.044546   0.04432952\n",
            " 0.04834636 0.05919423 0.06900782 0.06819002 0.06248948 0.06164762\n",
            " 0.07011425 0.06944077 0.06956103 0.07206254 0.06987372 0.06660253\n",
            " 0.06806975 0.06494287 0.05654841 0.05972339 0.06179194 0.06313891\n",
            " 0.06905592 0.07788334 0.07874925 0.07841251 0.07675286 0.08036079\n",
            " 0.08187613 0.07562237 0.0791341  0.0771377  0.07562237 0.09029465\n",
            " 0.09012628 0.09226699 0.08734817 0.0911365  0.09991581 0.09770295\n",
            " 0.10013229 0.11148527 0.10710764 0.10434155 0.1018641  0.09397474\n",
            " 0.09782321 0.08721587 0.09760673 0.10032471 0.09294047 0.09250752\n",
            " 0.09753458 0.0927721  0.08851473 0.09017438 0.10027661 0.11191822\n",
            " 0.11720986 0.12647023 0.1270475  0.12440168 0.11244738 0.10010824\n",
            " 0.12187222 0.12245395 0.12273411 0.12304353 0.12348631 0.12406085\n",
            " 0.1247308  0.1254589  0.12621905 0.12699692]\n",
            "10 day output [[0.12778684]]\n",
            "11 day input [0.04036079 0.04300661 0.0527721  0.05921828 0.05712568 0.06126278\n",
            " 0.06361996 0.05455201 0.06292243 0.05488876 0.05950692 0.05924233\n",
            " 0.06405292 0.08192423 0.07398677 0.07420325 0.07304871 0.06898376\n",
            " 0.06167168 0.06535177 0.06381239 0.06111846 0.0594107  0.05943476\n",
            " 0.06316296 0.05017438 0.06008419 0.044546   0.04432952 0.04834636\n",
            " 0.05919423 0.06900782 0.06819002 0.06248948 0.06164762 0.07011425\n",
            " 0.06944077 0.06956103 0.07206254 0.06987372 0.06660253 0.06806975\n",
            " 0.06494287 0.05654841 0.05972339 0.06179194 0.06313891 0.06905592\n",
            " 0.07788334 0.07874925 0.07841251 0.07675286 0.08036079 0.08187613\n",
            " 0.07562237 0.0791341  0.0771377  0.07562237 0.09029465 0.09012628\n",
            " 0.09226699 0.08734817 0.0911365  0.09991581 0.09770295 0.10013229\n",
            " 0.11148527 0.10710764 0.10434155 0.1018641  0.09397474 0.09782321\n",
            " 0.08721587 0.09760673 0.10032471 0.09294047 0.09250752 0.09753458\n",
            " 0.0927721  0.08851473 0.09017438 0.10027661 0.11191822 0.11720986\n",
            " 0.12647023 0.1270475  0.12440168 0.11244738 0.10010824 0.12187222\n",
            " 0.12245395 0.12273411 0.12304353 0.12348631 0.12406085 0.1247308\n",
            " 0.1254589  0.12621905 0.12699692 0.12778684]\n",
            "11 day output [[0.1285879]]\n",
            "12 day input [0.04300661 0.0527721  0.05921828 0.05712568 0.06126278 0.06361996\n",
            " 0.05455201 0.06292243 0.05488876 0.05950692 0.05924233 0.06405292\n",
            " 0.08192423 0.07398677 0.07420325 0.07304871 0.06898376 0.06167168\n",
            " 0.06535177 0.06381239 0.06111846 0.0594107  0.05943476 0.06316296\n",
            " 0.05017438 0.06008419 0.044546   0.04432952 0.04834636 0.05919423\n",
            " 0.06900782 0.06819002 0.06248948 0.06164762 0.07011425 0.06944077\n",
            " 0.06956103 0.07206254 0.06987372 0.06660253 0.06806975 0.06494287\n",
            " 0.05654841 0.05972339 0.06179194 0.06313891 0.06905592 0.07788334\n",
            " 0.07874925 0.07841251 0.07675286 0.08036079 0.08187613 0.07562237\n",
            " 0.0791341  0.0771377  0.07562237 0.09029465 0.09012628 0.09226699\n",
            " 0.08734817 0.0911365  0.09991581 0.09770295 0.10013229 0.11148527\n",
            " 0.10710764 0.10434155 0.1018641  0.09397474 0.09782321 0.08721587\n",
            " 0.09760673 0.10032471 0.09294047 0.09250752 0.09753458 0.0927721\n",
            " 0.08851473 0.09017438 0.10027661 0.11191822 0.11720986 0.12647023\n",
            " 0.1270475  0.12440168 0.11244738 0.10010824 0.12187222 0.12245395\n",
            " 0.12273411 0.12304353 0.12348631 0.12406085 0.1247308  0.1254589\n",
            " 0.12621905 0.12699692 0.12778684 0.1285879 ]\n",
            "12 day output [[0.12940124]]\n",
            "13 day input [0.0527721  0.05921828 0.05712568 0.06126278 0.06361996 0.05455201\n",
            " 0.06292243 0.05488876 0.05950692 0.05924233 0.06405292 0.08192423\n",
            " 0.07398677 0.07420325 0.07304871 0.06898376 0.06167168 0.06535177\n",
            " 0.06381239 0.06111846 0.0594107  0.05943476 0.06316296 0.05017438\n",
            " 0.06008419 0.044546   0.04432952 0.04834636 0.05919423 0.06900782\n",
            " 0.06819002 0.06248948 0.06164762 0.07011425 0.06944077 0.06956103\n",
            " 0.07206254 0.06987372 0.06660253 0.06806975 0.06494287 0.05654841\n",
            " 0.05972339 0.06179194 0.06313891 0.06905592 0.07788334 0.07874925\n",
            " 0.07841251 0.07675286 0.08036079 0.08187613 0.07562237 0.0791341\n",
            " 0.0771377  0.07562237 0.09029465 0.09012628 0.09226699 0.08734817\n",
            " 0.0911365  0.09991581 0.09770295 0.10013229 0.11148527 0.10710764\n",
            " 0.10434155 0.1018641  0.09397474 0.09782321 0.08721587 0.09760673\n",
            " 0.10032471 0.09294047 0.09250752 0.09753458 0.0927721  0.08851473\n",
            " 0.09017438 0.10027661 0.11191822 0.11720986 0.12647023 0.1270475\n",
            " 0.12440168 0.11244738 0.10010824 0.12187222 0.12245395 0.12273411\n",
            " 0.12304353 0.12348631 0.12406085 0.1247308  0.1254589  0.12621905\n",
            " 0.12699692 0.12778684 0.1285879  0.12940124]\n",
            "13 day output [[0.13022828]]\n",
            "14 day input [0.05921828 0.05712568 0.06126278 0.06361996 0.05455201 0.06292243\n",
            " 0.05488876 0.05950692 0.05924233 0.06405292 0.08192423 0.07398677\n",
            " 0.07420325 0.07304871 0.06898376 0.06167168 0.06535177 0.06381239\n",
            " 0.06111846 0.0594107  0.05943476 0.06316296 0.05017438 0.06008419\n",
            " 0.044546   0.04432952 0.04834636 0.05919423 0.06900782 0.06819002\n",
            " 0.06248948 0.06164762 0.07011425 0.06944077 0.06956103 0.07206254\n",
            " 0.06987372 0.06660253 0.06806975 0.06494287 0.05654841 0.05972339\n",
            " 0.06179194 0.06313891 0.06905592 0.07788334 0.07874925 0.07841251\n",
            " 0.07675286 0.08036079 0.08187613 0.07562237 0.0791341  0.0771377\n",
            " 0.07562237 0.09029465 0.09012628 0.09226699 0.08734817 0.0911365\n",
            " 0.09991581 0.09770295 0.10013229 0.11148527 0.10710764 0.10434155\n",
            " 0.1018641  0.09397474 0.09782321 0.08721587 0.09760673 0.10032471\n",
            " 0.09294047 0.09250752 0.09753458 0.0927721  0.08851473 0.09017438\n",
            " 0.10027661 0.11191822 0.11720986 0.12647023 0.1270475  0.12440168\n",
            " 0.11244738 0.10010824 0.12187222 0.12245395 0.12273411 0.12304353\n",
            " 0.12348631 0.12406085 0.1247308  0.1254589  0.12621905 0.12699692\n",
            " 0.12778684 0.1285879  0.12940124 0.13022828]\n",
            "14 day output [[0.13106988]]\n",
            "15 day input [0.05712568 0.06126278 0.06361996 0.05455201 0.06292243 0.05488876\n",
            " 0.05950692 0.05924233 0.06405292 0.08192423 0.07398677 0.07420325\n",
            " 0.07304871 0.06898376 0.06167168 0.06535177 0.06381239 0.06111846\n",
            " 0.0594107  0.05943476 0.06316296 0.05017438 0.06008419 0.044546\n",
            " 0.04432952 0.04834636 0.05919423 0.06900782 0.06819002 0.06248948\n",
            " 0.06164762 0.07011425 0.06944077 0.06956103 0.07206254 0.06987372\n",
            " 0.06660253 0.06806975 0.06494287 0.05654841 0.05972339 0.06179194\n",
            " 0.06313891 0.06905592 0.07788334 0.07874925 0.07841251 0.07675286\n",
            " 0.08036079 0.08187613 0.07562237 0.0791341  0.0771377  0.07562237\n",
            " 0.09029465 0.09012628 0.09226699 0.08734817 0.0911365  0.09991581\n",
            " 0.09770295 0.10013229 0.11148527 0.10710764 0.10434155 0.1018641\n",
            " 0.09397474 0.09782321 0.08721587 0.09760673 0.10032471 0.09294047\n",
            " 0.09250752 0.09753458 0.0927721  0.08851473 0.09017438 0.10027661\n",
            " 0.11191822 0.11720986 0.12647023 0.1270475  0.12440168 0.11244738\n",
            " 0.10010824 0.12187222 0.12245395 0.12273411 0.12304353 0.12348631\n",
            " 0.12406085 0.1247308  0.1254589  0.12621905 0.12699692 0.12778684\n",
            " 0.1285879  0.12940124 0.13022828 0.13106988]\n",
            "15 day output [[0.13192627]]\n",
            "16 day input [0.06126278 0.06361996 0.05455201 0.06292243 0.05488876 0.05950692\n",
            " 0.05924233 0.06405292 0.08192423 0.07398677 0.07420325 0.07304871\n",
            " 0.06898376 0.06167168 0.06535177 0.06381239 0.06111846 0.0594107\n",
            " 0.05943476 0.06316296 0.05017438 0.06008419 0.044546   0.04432952\n",
            " 0.04834636 0.05919423 0.06900782 0.06819002 0.06248948 0.06164762\n",
            " 0.07011425 0.06944077 0.06956103 0.07206254 0.06987372 0.06660253\n",
            " 0.06806975 0.06494287 0.05654841 0.05972339 0.06179194 0.06313891\n",
            " 0.06905592 0.07788334 0.07874925 0.07841251 0.07675286 0.08036079\n",
            " 0.08187613 0.07562237 0.0791341  0.0771377  0.07562237 0.09029465\n",
            " 0.09012628 0.09226699 0.08734817 0.0911365  0.09991581 0.09770295\n",
            " 0.10013229 0.11148527 0.10710764 0.10434155 0.1018641  0.09397474\n",
            " 0.09782321 0.08721587 0.09760673 0.10032471 0.09294047 0.09250752\n",
            " 0.09753458 0.0927721  0.08851473 0.09017438 0.10027661 0.11191822\n",
            " 0.11720986 0.12647023 0.1270475  0.12440168 0.11244738 0.10010824\n",
            " 0.12187222 0.12245395 0.12273411 0.12304353 0.12348631 0.12406085\n",
            " 0.1247308  0.1254589  0.12621905 0.12699692 0.12778684 0.1285879\n",
            " 0.12940124 0.13022828 0.13106988 0.13192627]\n",
            "16 day output [[0.13279681]]\n",
            "17 day input [0.06361996 0.05455201 0.06292243 0.05488876 0.05950692 0.05924233\n",
            " 0.06405292 0.08192423 0.07398677 0.07420325 0.07304871 0.06898376\n",
            " 0.06167168 0.06535177 0.06381239 0.06111846 0.0594107  0.05943476\n",
            " 0.06316296 0.05017438 0.06008419 0.044546   0.04432952 0.04834636\n",
            " 0.05919423 0.06900782 0.06819002 0.06248948 0.06164762 0.07011425\n",
            " 0.06944077 0.06956103 0.07206254 0.06987372 0.06660253 0.06806975\n",
            " 0.06494287 0.05654841 0.05972339 0.06179194 0.06313891 0.06905592\n",
            " 0.07788334 0.07874925 0.07841251 0.07675286 0.08036079 0.08187613\n",
            " 0.07562237 0.0791341  0.0771377  0.07562237 0.09029465 0.09012628\n",
            " 0.09226699 0.08734817 0.0911365  0.09991581 0.09770295 0.10013229\n",
            " 0.11148527 0.10710764 0.10434155 0.1018641  0.09397474 0.09782321\n",
            " 0.08721587 0.09760673 0.10032471 0.09294047 0.09250752 0.09753458\n",
            " 0.0927721  0.08851473 0.09017438 0.10027661 0.11191822 0.11720986\n",
            " 0.12647023 0.1270475  0.12440168 0.11244738 0.10010824 0.12187222\n",
            " 0.12245395 0.12273411 0.12304353 0.12348631 0.12406085 0.1247308\n",
            " 0.1254589  0.12621905 0.12699692 0.12778684 0.1285879  0.12940124\n",
            " 0.13022828 0.13106988 0.13192627 0.13279681]\n",
            "17 day output [[0.13368054]]\n",
            "18 day input [0.05455201 0.06292243 0.05488876 0.05950692 0.05924233 0.06405292\n",
            " 0.08192423 0.07398677 0.07420325 0.07304871 0.06898376 0.06167168\n",
            " 0.06535177 0.06381239 0.06111846 0.0594107  0.05943476 0.06316296\n",
            " 0.05017438 0.06008419 0.044546   0.04432952 0.04834636 0.05919423\n",
            " 0.06900782 0.06819002 0.06248948 0.06164762 0.07011425 0.06944077\n",
            " 0.06956103 0.07206254 0.06987372 0.06660253 0.06806975 0.06494287\n",
            " 0.05654841 0.05972339 0.06179194 0.06313891 0.06905592 0.07788334\n",
            " 0.07874925 0.07841251 0.07675286 0.08036079 0.08187613 0.07562237\n",
            " 0.0791341  0.0771377  0.07562237 0.09029465 0.09012628 0.09226699\n",
            " 0.08734817 0.0911365  0.09991581 0.09770295 0.10013229 0.11148527\n",
            " 0.10710764 0.10434155 0.1018641  0.09397474 0.09782321 0.08721587\n",
            " 0.09760673 0.10032471 0.09294047 0.09250752 0.09753458 0.0927721\n",
            " 0.08851473 0.09017438 0.10027661 0.11191822 0.11720986 0.12647023\n",
            " 0.1270475  0.12440168 0.11244738 0.10010824 0.12187222 0.12245395\n",
            " 0.12273411 0.12304353 0.12348631 0.12406085 0.1247308  0.1254589\n",
            " 0.12621905 0.12699692 0.12778684 0.1285879  0.12940124 0.13022828\n",
            " 0.13106988 0.13192627 0.13279681 0.13368054]\n",
            "18 day output [[0.1345761]]\n",
            "19 day input [0.06292243 0.05488876 0.05950692 0.05924233 0.06405292 0.08192423\n",
            " 0.07398677 0.07420325 0.07304871 0.06898376 0.06167168 0.06535177\n",
            " 0.06381239 0.06111846 0.0594107  0.05943476 0.06316296 0.05017438\n",
            " 0.06008419 0.044546   0.04432952 0.04834636 0.05919423 0.06900782\n",
            " 0.06819002 0.06248948 0.06164762 0.07011425 0.06944077 0.06956103\n",
            " 0.07206254 0.06987372 0.06660253 0.06806975 0.06494287 0.05654841\n",
            " 0.05972339 0.06179194 0.06313891 0.06905592 0.07788334 0.07874925\n",
            " 0.07841251 0.07675286 0.08036079 0.08187613 0.07562237 0.0791341\n",
            " 0.0771377  0.07562237 0.09029465 0.09012628 0.09226699 0.08734817\n",
            " 0.0911365  0.09991581 0.09770295 0.10013229 0.11148527 0.10710764\n",
            " 0.10434155 0.1018641  0.09397474 0.09782321 0.08721587 0.09760673\n",
            " 0.10032471 0.09294047 0.09250752 0.09753458 0.0927721  0.08851473\n",
            " 0.09017438 0.10027661 0.11191822 0.11720986 0.12647023 0.1270475\n",
            " 0.12440168 0.11244738 0.10010824 0.12187222 0.12245395 0.12273411\n",
            " 0.12304353 0.12348631 0.12406085 0.1247308  0.1254589  0.12621905\n",
            " 0.12699692 0.12778684 0.1285879  0.12940124 0.13022828 0.13106988\n",
            " 0.13192627 0.13279681 0.13368054 0.1345761 ]\n",
            "19 day output [[0.13548195]]\n",
            "20 day input [0.05488876 0.05950692 0.05924233 0.06405292 0.08192423 0.07398677\n",
            " 0.07420325 0.07304871 0.06898376 0.06167168 0.06535177 0.06381239\n",
            " 0.06111846 0.0594107  0.05943476 0.06316296 0.05017438 0.06008419\n",
            " 0.044546   0.04432952 0.04834636 0.05919423 0.06900782 0.06819002\n",
            " 0.06248948 0.06164762 0.07011425 0.06944077 0.06956103 0.07206254\n",
            " 0.06987372 0.06660253 0.06806975 0.06494287 0.05654841 0.05972339\n",
            " 0.06179194 0.06313891 0.06905592 0.07788334 0.07874925 0.07841251\n",
            " 0.07675286 0.08036079 0.08187613 0.07562237 0.0791341  0.0771377\n",
            " 0.07562237 0.09029465 0.09012628 0.09226699 0.08734817 0.0911365\n",
            " 0.09991581 0.09770295 0.10013229 0.11148527 0.10710764 0.10434155\n",
            " 0.1018641  0.09397474 0.09782321 0.08721587 0.09760673 0.10032471\n",
            " 0.09294047 0.09250752 0.09753458 0.0927721  0.08851473 0.09017438\n",
            " 0.10027661 0.11191822 0.11720986 0.12647023 0.1270475  0.12440168\n",
            " 0.11244738 0.10010824 0.12187222 0.12245395 0.12273411 0.12304353\n",
            " 0.12348631 0.12406085 0.1247308  0.1254589  0.12621905 0.12699692\n",
            " 0.12778684 0.1285879  0.12940124 0.13022828 0.13106988 0.13192627\n",
            " 0.13279681 0.13368054 0.1345761  0.13548195]\n",
            "20 day output [[0.13639665]]\n",
            "21 day input [0.05950692 0.05924233 0.06405292 0.08192423 0.07398677 0.07420325\n",
            " 0.07304871 0.06898376 0.06167168 0.06535177 0.06381239 0.06111846\n",
            " 0.0594107  0.05943476 0.06316296 0.05017438 0.06008419 0.044546\n",
            " 0.04432952 0.04834636 0.05919423 0.06900782 0.06819002 0.06248948\n",
            " 0.06164762 0.07011425 0.06944077 0.06956103 0.07206254 0.06987372\n",
            " 0.06660253 0.06806975 0.06494287 0.05654841 0.05972339 0.06179194\n",
            " 0.06313891 0.06905592 0.07788334 0.07874925 0.07841251 0.07675286\n",
            " 0.08036079 0.08187613 0.07562237 0.0791341  0.0771377  0.07562237\n",
            " 0.09029465 0.09012628 0.09226699 0.08734817 0.0911365  0.09991581\n",
            " 0.09770295 0.10013229 0.11148527 0.10710764 0.10434155 0.1018641\n",
            " 0.09397474 0.09782321 0.08721587 0.09760673 0.10032471 0.09294047\n",
            " 0.09250752 0.09753458 0.0927721  0.08851473 0.09017438 0.10027661\n",
            " 0.11191822 0.11720986 0.12647023 0.1270475  0.12440168 0.11244738\n",
            " 0.10010824 0.12187222 0.12245395 0.12273411 0.12304353 0.12348631\n",
            " 0.12406085 0.1247308  0.1254589  0.12621905 0.12699692 0.12778684\n",
            " 0.1285879  0.12940124 0.13022828 0.13106988 0.13192627 0.13279681\n",
            " 0.13368054 0.1345761  0.13548195 0.13639665]\n",
            "21 day output [[0.13731866]]\n",
            "22 day input [0.05924233 0.06405292 0.08192423 0.07398677 0.07420325 0.07304871\n",
            " 0.06898376 0.06167168 0.06535177 0.06381239 0.06111846 0.0594107\n",
            " 0.05943476 0.06316296 0.05017438 0.06008419 0.044546   0.04432952\n",
            " 0.04834636 0.05919423 0.06900782 0.06819002 0.06248948 0.06164762\n",
            " 0.07011425 0.06944077 0.06956103 0.07206254 0.06987372 0.06660253\n",
            " 0.06806975 0.06494287 0.05654841 0.05972339 0.06179194 0.06313891\n",
            " 0.06905592 0.07788334 0.07874925 0.07841251 0.07675286 0.08036079\n",
            " 0.08187613 0.07562237 0.0791341  0.0771377  0.07562237 0.09029465\n",
            " 0.09012628 0.09226699 0.08734817 0.0911365  0.09991581 0.09770295\n",
            " 0.10013229 0.11148527 0.10710764 0.10434155 0.1018641  0.09397474\n",
            " 0.09782321 0.08721587 0.09760673 0.10032471 0.09294047 0.09250752\n",
            " 0.09753458 0.0927721  0.08851473 0.09017438 0.10027661 0.11191822\n",
            " 0.11720986 0.12647023 0.1270475  0.12440168 0.11244738 0.10010824\n",
            " 0.12187222 0.12245395 0.12273411 0.12304353 0.12348631 0.12406085\n",
            " 0.1247308  0.1254589  0.12621905 0.12699692 0.12778684 0.1285879\n",
            " 0.12940124 0.13022828 0.13106988 0.13192627 0.13279681 0.13368054\n",
            " 0.1345761  0.13548195 0.13639665 0.13731866]\n",
            "22 day output [[0.13824661]]\n",
            "23 day input [0.06405292 0.08192423 0.07398677 0.07420325 0.07304871 0.06898376\n",
            " 0.06167168 0.06535177 0.06381239 0.06111846 0.0594107  0.05943476\n",
            " 0.06316296 0.05017438 0.06008419 0.044546   0.04432952 0.04834636\n",
            " 0.05919423 0.06900782 0.06819002 0.06248948 0.06164762 0.07011425\n",
            " 0.06944077 0.06956103 0.07206254 0.06987372 0.06660253 0.06806975\n",
            " 0.06494287 0.05654841 0.05972339 0.06179194 0.06313891 0.06905592\n",
            " 0.07788334 0.07874925 0.07841251 0.07675286 0.08036079 0.08187613\n",
            " 0.07562237 0.0791341  0.0771377  0.07562237 0.09029465 0.09012628\n",
            " 0.09226699 0.08734817 0.0911365  0.09991581 0.09770295 0.10013229\n",
            " 0.11148527 0.10710764 0.10434155 0.1018641  0.09397474 0.09782321\n",
            " 0.08721587 0.09760673 0.10032471 0.09294047 0.09250752 0.09753458\n",
            " 0.0927721  0.08851473 0.09017438 0.10027661 0.11191822 0.11720986\n",
            " 0.12647023 0.1270475  0.12440168 0.11244738 0.10010824 0.12187222\n",
            " 0.12245395 0.12273411 0.12304353 0.12348631 0.12406085 0.1247308\n",
            " 0.1254589  0.12621905 0.12699692 0.12778684 0.1285879  0.12940124\n",
            " 0.13022828 0.13106988 0.13192627 0.13279681 0.13368054 0.1345761\n",
            " 0.13548195 0.13639665 0.13731866 0.13824661]\n",
            "23 day output [[0.13917932]]\n",
            "24 day input [0.08192423 0.07398677 0.07420325 0.07304871 0.06898376 0.06167168\n",
            " 0.06535177 0.06381239 0.06111846 0.0594107  0.05943476 0.06316296\n",
            " 0.05017438 0.06008419 0.044546   0.04432952 0.04834636 0.05919423\n",
            " 0.06900782 0.06819002 0.06248948 0.06164762 0.07011425 0.06944077\n",
            " 0.06956103 0.07206254 0.06987372 0.06660253 0.06806975 0.06494287\n",
            " 0.05654841 0.05972339 0.06179194 0.06313891 0.06905592 0.07788334\n",
            " 0.07874925 0.07841251 0.07675286 0.08036079 0.08187613 0.07562237\n",
            " 0.0791341  0.0771377  0.07562237 0.09029465 0.09012628 0.09226699\n",
            " 0.08734817 0.0911365  0.09991581 0.09770295 0.10013229 0.11148527\n",
            " 0.10710764 0.10434155 0.1018641  0.09397474 0.09782321 0.08721587\n",
            " 0.09760673 0.10032471 0.09294047 0.09250752 0.09753458 0.0927721\n",
            " 0.08851473 0.09017438 0.10027661 0.11191822 0.11720986 0.12647023\n",
            " 0.1270475  0.12440168 0.11244738 0.10010824 0.12187222 0.12245395\n",
            " 0.12273411 0.12304353 0.12348631 0.12406085 0.1247308  0.1254589\n",
            " 0.12621905 0.12699692 0.12778684 0.1285879  0.12940124 0.13022828\n",
            " 0.13106988 0.13192627 0.13279681 0.13368054 0.1345761  0.13548195\n",
            " 0.13639665 0.13731866 0.13824661 0.13917932]\n",
            "24 day output [[0.14011562]]\n",
            "25 day input [0.07398677 0.07420325 0.07304871 0.06898376 0.06167168 0.06535177\n",
            " 0.06381239 0.06111846 0.0594107  0.05943476 0.06316296 0.05017438\n",
            " 0.06008419 0.044546   0.04432952 0.04834636 0.05919423 0.06900782\n",
            " 0.06819002 0.06248948 0.06164762 0.07011425 0.06944077 0.06956103\n",
            " 0.07206254 0.06987372 0.06660253 0.06806975 0.06494287 0.05654841\n",
            " 0.05972339 0.06179194 0.06313891 0.06905592 0.07788334 0.07874925\n",
            " 0.07841251 0.07675286 0.08036079 0.08187613 0.07562237 0.0791341\n",
            " 0.0771377  0.07562237 0.09029465 0.09012628 0.09226699 0.08734817\n",
            " 0.0911365  0.09991581 0.09770295 0.10013229 0.11148527 0.10710764\n",
            " 0.10434155 0.1018641  0.09397474 0.09782321 0.08721587 0.09760673\n",
            " 0.10032471 0.09294047 0.09250752 0.09753458 0.0927721  0.08851473\n",
            " 0.09017438 0.10027661 0.11191822 0.11720986 0.12647023 0.1270475\n",
            " 0.12440168 0.11244738 0.10010824 0.12187222 0.12245395 0.12273411\n",
            " 0.12304353 0.12348631 0.12406085 0.1247308  0.1254589  0.12621905\n",
            " 0.12699692 0.12778684 0.1285879  0.12940124 0.13022828 0.13106988\n",
            " 0.13192627 0.13279681 0.13368054 0.1345761  0.13548195 0.13639665\n",
            " 0.13731866 0.13824661 0.13917932 0.14011562]\n",
            "25 day output [[0.14105462]]\n",
            "26 day input [0.07420325 0.07304871 0.06898376 0.06167168 0.06535177 0.06381239\n",
            " 0.06111846 0.0594107  0.05943476 0.06316296 0.05017438 0.06008419\n",
            " 0.044546   0.04432952 0.04834636 0.05919423 0.06900782 0.06819002\n",
            " 0.06248948 0.06164762 0.07011425 0.06944077 0.06956103 0.07206254\n",
            " 0.06987372 0.06660253 0.06806975 0.06494287 0.05654841 0.05972339\n",
            " 0.06179194 0.06313891 0.06905592 0.07788334 0.07874925 0.07841251\n",
            " 0.07675286 0.08036079 0.08187613 0.07562237 0.0791341  0.0771377\n",
            " 0.07562237 0.09029465 0.09012628 0.09226699 0.08734817 0.0911365\n",
            " 0.09991581 0.09770295 0.10013229 0.11148527 0.10710764 0.10434155\n",
            " 0.1018641  0.09397474 0.09782321 0.08721587 0.09760673 0.10032471\n",
            " 0.09294047 0.09250752 0.09753458 0.0927721  0.08851473 0.09017438\n",
            " 0.10027661 0.11191822 0.11720986 0.12647023 0.1270475  0.12440168\n",
            " 0.11244738 0.10010824 0.12187222 0.12245395 0.12273411 0.12304353\n",
            " 0.12348631 0.12406085 0.1247308  0.1254589  0.12621905 0.12699692\n",
            " 0.12778684 0.1285879  0.12940124 0.13022828 0.13106988 0.13192627\n",
            " 0.13279681 0.13368054 0.1345761  0.13548195 0.13639665 0.13731866\n",
            " 0.13824661 0.13917932 0.14011562 0.14105462]\n",
            "26 day output [[0.14199546]]\n",
            "27 day input [0.07304871 0.06898376 0.06167168 0.06535177 0.06381239 0.06111846\n",
            " 0.0594107  0.05943476 0.06316296 0.05017438 0.06008419 0.044546\n",
            " 0.04432952 0.04834636 0.05919423 0.06900782 0.06819002 0.06248948\n",
            " 0.06164762 0.07011425 0.06944077 0.06956103 0.07206254 0.06987372\n",
            " 0.06660253 0.06806975 0.06494287 0.05654841 0.05972339 0.06179194\n",
            " 0.06313891 0.06905592 0.07788334 0.07874925 0.07841251 0.07675286\n",
            " 0.08036079 0.08187613 0.07562237 0.0791341  0.0771377  0.07562237\n",
            " 0.09029465 0.09012628 0.09226699 0.08734817 0.0911365  0.09991581\n",
            " 0.09770295 0.10013229 0.11148527 0.10710764 0.10434155 0.1018641\n",
            " 0.09397474 0.09782321 0.08721587 0.09760673 0.10032471 0.09294047\n",
            " 0.09250752 0.09753458 0.0927721  0.08851473 0.09017438 0.10027661\n",
            " 0.11191822 0.11720986 0.12647023 0.1270475  0.12440168 0.11244738\n",
            " 0.10010824 0.12187222 0.12245395 0.12273411 0.12304353 0.12348631\n",
            " 0.12406085 0.1247308  0.1254589  0.12621905 0.12699692 0.12778684\n",
            " 0.1285879  0.12940124 0.13022828 0.13106988 0.13192627 0.13279681\n",
            " 0.13368054 0.1345761  0.13548195 0.13639665 0.13731866 0.13824661\n",
            " 0.13917932 0.14011562 0.14105462 0.14199546]\n",
            "27 day output [[0.14293751]]\n",
            "28 day input [0.06898376 0.06167168 0.06535177 0.06381239 0.06111846 0.0594107\n",
            " 0.05943476 0.06316296 0.05017438 0.06008419 0.044546   0.04432952\n",
            " 0.04834636 0.05919423 0.06900782 0.06819002 0.06248948 0.06164762\n",
            " 0.07011425 0.06944077 0.06956103 0.07206254 0.06987372 0.06660253\n",
            " 0.06806975 0.06494287 0.05654841 0.05972339 0.06179194 0.06313891\n",
            " 0.06905592 0.07788334 0.07874925 0.07841251 0.07675286 0.08036079\n",
            " 0.08187613 0.07562237 0.0791341  0.0771377  0.07562237 0.09029465\n",
            " 0.09012628 0.09226699 0.08734817 0.0911365  0.09991581 0.09770295\n",
            " 0.10013229 0.11148527 0.10710764 0.10434155 0.1018641  0.09397474\n",
            " 0.09782321 0.08721587 0.09760673 0.10032471 0.09294047 0.09250752\n",
            " 0.09753458 0.0927721  0.08851473 0.09017438 0.10027661 0.11191822\n",
            " 0.11720986 0.12647023 0.1270475  0.12440168 0.11244738 0.10010824\n",
            " 0.12187222 0.12245395 0.12273411 0.12304353 0.12348631 0.12406085\n",
            " 0.1247308  0.1254589  0.12621905 0.12699692 0.12778684 0.1285879\n",
            " 0.12940124 0.13022828 0.13106988 0.13192627 0.13279681 0.13368054\n",
            " 0.1345761  0.13548195 0.13639665 0.13731866 0.13824661 0.13917932\n",
            " 0.14011562 0.14105462 0.14199546 0.14293751]\n",
            "28 day output [[0.14388026]]\n",
            "29 day input [0.06167168 0.06535177 0.06381239 0.06111846 0.0594107  0.05943476\n",
            " 0.06316296 0.05017438 0.06008419 0.044546   0.04432952 0.04834636\n",
            " 0.05919423 0.06900782 0.06819002 0.06248948 0.06164762 0.07011425\n",
            " 0.06944077 0.06956103 0.07206254 0.06987372 0.06660253 0.06806975\n",
            " 0.06494287 0.05654841 0.05972339 0.06179194 0.06313891 0.06905592\n",
            " 0.07788334 0.07874925 0.07841251 0.07675286 0.08036079 0.08187613\n",
            " 0.07562237 0.0791341  0.0771377  0.07562237 0.09029465 0.09012628\n",
            " 0.09226699 0.08734817 0.0911365  0.09991581 0.09770295 0.10013229\n",
            " 0.11148527 0.10710764 0.10434155 0.1018641  0.09397474 0.09782321\n",
            " 0.08721587 0.09760673 0.10032471 0.09294047 0.09250752 0.09753458\n",
            " 0.0927721  0.08851473 0.09017438 0.10027661 0.11191822 0.11720986\n",
            " 0.12647023 0.1270475  0.12440168 0.11244738 0.10010824 0.12187222\n",
            " 0.12245395 0.12273411 0.12304353 0.12348631 0.12406085 0.1247308\n",
            " 0.1254589  0.12621905 0.12699692 0.12778684 0.1285879  0.12940124\n",
            " 0.13022828 0.13106988 0.13192627 0.13279681 0.13368054 0.1345761\n",
            " 0.13548195 0.13639665 0.13731866 0.13824661 0.13917932 0.14011562\n",
            " 0.14105462 0.14199546 0.14293751 0.14388026]\n",
            "29 day output [[0.1448233]]\n",
            "[[0.12187221646308899], [0.1224539503455162], [0.12273410707712173], [0.12304352968931198], [0.12348631024360657], [0.12406084686517715], [0.12473079562187195], [0.12545889616012573], [0.12621904909610748], [0.12699691951274872], [0.12778684496879578], [0.12858790159225464], [0.12940123677253723], [0.13022828102111816], [0.13106988370418549], [0.1319262683391571], [0.13279680907726288], [0.1336805373430252], [0.13457609713077545], [0.13548195362091064], [0.1363966464996338], [0.1373186558485031], [0.13824661076068878], [0.1391793191432953], [0.1401156187057495], [0.14105461537837982], [0.14199545979499817], [0.14293751120567322], [0.14388026297092438], [0.14482329785823822]]\n"
          ],
          "name": "stdout"
        }
      ]
    },
    {
      "cell_type": "code",
      "metadata": {
        "id": "PtRc3ejs1Xpb"
      },
      "source": [
        "day_new = np.arange(1, 101)\r\n",
        "day_pred = np.arange(101, 131)"
      ],
      "execution_count": 37,
      "outputs": []
    },
    {
      "cell_type": "code",
      "metadata": {
        "colab": {
          "base_uri": "https://localhost:8080/"
        },
        "id": "uLI9ulM42oo2",
        "outputId": "1dd66d24-334a-4f4d-8b19-e8d7144c34ec"
      },
      "source": [
        "len(df2)"
      ],
      "execution_count": 38,
      "outputs": [
        {
          "output_type": "execute_result",
          "data": {
            "text/plain": [
              "1259"
            ]
          },
          "metadata": {
            "tags": []
          },
          "execution_count": 38
        }
      ]
    },
    {
      "cell_type": "code",
      "metadata": {
        "id": "6fAdfWJn2yy0"
      },
      "source": [
        "df3 = df2.tolist()\r\n",
        "df3.extend(lst_output)"
      ],
      "execution_count": 39,
      "outputs": []
    },
    {
      "cell_type": "code",
      "metadata": {
        "colab": {
          "base_uri": "https://localhost:8080/",
          "height": 282
        },
        "id": "VQvexkHU28qc",
        "outputId": "ee014bca-4cf2-45cc-97c8-852ee1fd6ed0"
      },
      "source": [
        "plt.plot(day_new, scaler.inverse_transform(df2[1159:]))\r\n",
        "plt.plot(day_pred, scaler.inverse_transform(lst_output))"
      ],
      "execution_count": 42,
      "outputs": [
        {
          "output_type": "execute_result",
          "data": {
            "text/plain": [
              "[<matplotlib.lines.Line2D at 0x7fe887175ac8>]"
            ]
          },
          "metadata": {
            "tags": []
          },
          "execution_count": 42
        },
        {
          "output_type": "display_data",
          "data": {
            "image/png": "[encoded data removed]",
            "text/plain": [
              "<Figure size 432x288 with 1 Axes>"
            ]
          },
          "metadata": {
            "tags": [],
            "needs_background": "light"
          }
        }
      ]
    }
  ]
}