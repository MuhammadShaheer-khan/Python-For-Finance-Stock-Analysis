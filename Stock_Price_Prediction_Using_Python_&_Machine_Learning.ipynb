{
  "nbformat": 4,
  "nbformat_minor": 0,
  "metadata": {
    "colab": {
      "name": "Stock Price Prediction Using Python & Machine Learning.ipynb",
      "provenance": [],
      "collapsed_sections": [],
      "authorship_tag": "ABX9TyN3nq8wklGouIMEaSldtF9n",
      "include_colab_link": true
    },
    "kernelspec": {
      "name": "python3",
      "display_name": "Python 3"
    }
  },
  "cells": [
    {
      "cell_type": "markdown",
      "metadata": {
        "id": "view-in-github",
        "colab_type": "text"
      },
      "source": [
        "<a href=\"https://colab.research.google.com/github/MuhammadShaheer-khan/Python-For-Finance-Stock-Analysis/blob/master/Stock_Price_Prediction_Using_Python_%26_Machine_Learning.ipynb\" target=\"_parent\"><img src=\"https://colab.research.google.com/assets/colab-badge.svg\" alt=\"Open In Colab\"/></a>"
      ]
    },
    {
      "cell_type": "code",
      "metadata": {
        "id": "lwTwE-0i45Nu"
      },
      "source": [
        "# Description: This program uses an Artificial RNN and LSTM to predict the closing price of X corporation using the past 60 days stock price"
      ],
      "execution_count": 44,
      "outputs": []
    },
    {
      "cell_type": "code",
      "metadata": {
        "id": "_wcvcGPUeO2V"
      },
      "source": [
        "# import Libraries\r\n",
        "import pandas_datareader as web\r\n",
        "import numpy as np\r\n",
        "import pandas as pd\r\n",
        "import matplotlib.pyplot as plt\r\n",
        "plt.style.use(\"fivethirtyeight\")\r\n",
        "from sklearn.preprocessing import MinMaxScaler\r\n",
        "from keras.models import Sequential\r\n",
        "from keras.layers import Dense, LSTM"
      ],
      "execution_count": 45,
      "outputs": []
    },
    {
      "cell_type": "code",
      "metadata": {
        "id": "eOwEtaAgg6rU",
        "colab": {
          "base_uri": "https://localhost:8080/",
          "height": 450
        },
        "outputId": "53c853fc-8bad-4d17-e2eb-74e04177f8a9"
      },
      "source": [
        "# Get the stock quote\r\n",
        "df = web.DataReader(\"AAPl\", data_source=\"yahoo\", start=\"2015-01-23\", end=\"2020-12-23\")\r\n",
        "df"
      ],
      "execution_count": 46,
      "outputs": [
        {
          "output_type": "execute_result",
          "data": {
            "text/html": [
              "<div>\n",
              "<style scoped>\n",
              "    .dataframe tbody tr th:only-of-type {\n",
              "        vertical-align: middle;\n",
              "    }\n",
              "\n",
              "    .dataframe tbody tr th {\n",
              "        vertical-align: top;\n",
              "    }\n",
              "\n",
              "    .dataframe thead th {\n",
              "        text-align: right;\n",
              "    }\n",
              "</style>\n",
              "<table border=\"1\" class=\"dataframe\">\n",
              "  <thead>\n",
              "    <tr style=\"text-align: right;\">\n",
              "      <th></th>\n",
              "      <th>High</th>\n",
              "      <th>Low</th>\n",
              "      <th>Open</th>\n",
              "      <th>Close</th>\n",
              "      <th>Volume</th>\n",
              "      <th>Adj Close</th>\n",
              "    </tr>\n",
              "    <tr>\n",
              "      <th>Date</th>\n",
              "      <th></th>\n",
              "      <th></th>\n",
              "      <th></th>\n",
              "      <th></th>\n",
              "      <th></th>\n",
              "      <th></th>\n",
              "    </tr>\n",
              "  </thead>\n",
              "  <tbody>\n",
              "    <tr>\n",
              "      <th>2015-01-23</th>\n",
              "      <td>28.437500</td>\n",
              "      <td>27.882500</td>\n",
              "      <td>28.075001</td>\n",
              "      <td>28.245001</td>\n",
              "      <td>185859200.0</td>\n",
              "      <td>25.729790</td>\n",
              "    </tr>\n",
              "    <tr>\n",
              "      <th>2015-01-26</th>\n",
              "      <td>28.590000</td>\n",
              "      <td>28.200001</td>\n",
              "      <td>28.434999</td>\n",
              "      <td>28.275000</td>\n",
              "      <td>222460000.0</td>\n",
              "      <td>25.757124</td>\n",
              "    </tr>\n",
              "    <tr>\n",
              "      <th>2015-01-27</th>\n",
              "      <td>28.120001</td>\n",
              "      <td>27.257500</td>\n",
              "      <td>28.105000</td>\n",
              "      <td>27.285000</td>\n",
              "      <td>382274800.0</td>\n",
              "      <td>24.855284</td>\n",
              "    </tr>\n",
              "    <tr>\n",
              "      <th>2015-01-28</th>\n",
              "      <td>29.530001</td>\n",
              "      <td>28.827499</td>\n",
              "      <td>29.407499</td>\n",
              "      <td>28.827499</td>\n",
              "      <td>585908400.0</td>\n",
              "      <td>26.260420</td>\n",
              "    </tr>\n",
              "    <tr>\n",
              "      <th>2015-01-29</th>\n",
              "      <td>29.797501</td>\n",
              "      <td>28.889999</td>\n",
              "      <td>29.080000</td>\n",
              "      <td>29.725000</td>\n",
              "      <td>337745600.0</td>\n",
              "      <td>27.077997</td>\n",
              "    </tr>\n",
              "    <tr>\n",
              "      <th>...</th>\n",
              "      <td>...</td>\n",
              "      <td>...</td>\n",
              "      <td>...</td>\n",
              "      <td>...</td>\n",
              "      <td>...</td>\n",
              "      <td>...</td>\n",
              "    </tr>\n",
              "    <tr>\n",
              "      <th>2020-12-17</th>\n",
              "      <td>129.580002</td>\n",
              "      <td>128.039993</td>\n",
              "      <td>128.899994</td>\n",
              "      <td>128.699997</td>\n",
              "      <td>94359800.0</td>\n",
              "      <td>128.699997</td>\n",
              "    </tr>\n",
              "    <tr>\n",
              "      <th>2020-12-18</th>\n",
              "      <td>129.100006</td>\n",
              "      <td>126.120003</td>\n",
              "      <td>128.960007</td>\n",
              "      <td>126.660004</td>\n",
              "      <td>192541500.0</td>\n",
              "      <td>126.660004</td>\n",
              "    </tr>\n",
              "    <tr>\n",
              "      <th>2020-12-21</th>\n",
              "      <td>128.309998</td>\n",
              "      <td>123.449997</td>\n",
              "      <td>125.019997</td>\n",
              "      <td>128.229996</td>\n",
              "      <td>121251600.0</td>\n",
              "      <td>128.229996</td>\n",
              "    </tr>\n",
              "    <tr>\n",
              "      <th>2020-12-22</th>\n",
              "      <td>134.410004</td>\n",
              "      <td>129.649994</td>\n",
              "      <td>131.610001</td>\n",
              "      <td>131.880005</td>\n",
              "      <td>168904800.0</td>\n",
              "      <td>131.880005</td>\n",
              "    </tr>\n",
              "    <tr>\n",
              "      <th>2020-12-23</th>\n",
              "      <td>132.429993</td>\n",
              "      <td>130.779999</td>\n",
              "      <td>132.160004</td>\n",
              "      <td>130.960007</td>\n",
              "      <td>88223700.0</td>\n",
              "      <td>130.960007</td>\n",
              "    </tr>\n",
              "  </tbody>\n",
              "</table>\n",
              "<p>1492 rows × 6 columns</p>\n",
              "</div>"
            ],
            "text/plain": [
              "                  High         Low  ...       Volume   Adj Close\n",
              "Date                                ...                         \n",
              "2015-01-23   28.437500   27.882500  ...  185859200.0   25.729790\n",
              "2015-01-26   28.590000   28.200001  ...  222460000.0   25.757124\n",
              "2015-01-27   28.120001   27.257500  ...  382274800.0   24.855284\n",
              "2015-01-28   29.530001   28.827499  ...  585908400.0   26.260420\n",
              "2015-01-29   29.797501   28.889999  ...  337745600.0   27.077997\n",
              "...                ...         ...  ...          ...         ...\n",
              "2020-12-17  129.580002  128.039993  ...   94359800.0  128.699997\n",
              "2020-12-18  129.100006  126.120003  ...  192541500.0  126.660004\n",
              "2020-12-21  128.309998  123.449997  ...  121251600.0  128.229996\n",
              "2020-12-22  134.410004  129.649994  ...  168904800.0  131.880005\n",
              "2020-12-23  132.429993  130.779999  ...   88223700.0  130.960007\n",
              "\n",
              "[1492 rows x 6 columns]"
            ]
          },
          "metadata": {
            "tags": []
          },
          "execution_count": 46
        }
      ]
    },
    {
      "cell_type": "code",
      "metadata": {
        "colab": {
          "base_uri": "https://localhost:8080/"
        },
        "id": "o0RKff8A6shu",
        "outputId": "af058c0c-efd0-4c84-964b-0c96f0ba3933"
      },
      "source": [
        "df.shape"
      ],
      "execution_count": 47,
      "outputs": [
        {
          "output_type": "execute_result",
          "data": {
            "text/plain": [
              "(1492, 6)"
            ]
          },
          "metadata": {
            "tags": []
          },
          "execution_count": 47
        }
      ]
    },
    {
      "cell_type": "code",
      "metadata": {
        "colab": {
          "base_uri": "https://localhost:8080/",
          "height": 575
        },
        "id": "DvG4_3qh6v0s",
        "outputId": "f959398b-8831-4c6f-c4b4-c451a4e7269d"
      },
      "source": [
        "# Visulize the closing price\r\n",
        "plt.figure(figsize=(16,8))\r\n",
        "plt.title(\"Close Price History\")\r\n",
        "plt.plot(df[\"Close\"])\r\n",
        "plt.xlabel(\"Date\", fontsize=18)\r\n",
        "plt.ylabel(\"Close Price USD ($)\")"
      ],
      "execution_count": 48,
      "outputs": [
        {
          "output_type": "execute_result",
          "data": {
            "text/plain": [
              "Text(0, 0.5, 'Close Price USD ($)')"
            ]
          },
          "metadata": {
            "tags": []
          },
          "execution_count": 48
        },
        {
          "output_type": "display_data",
          "data": {
            "image/png": "[encoded data removed]",
            "text/plain": [
              "<Figure size 1152x576 with 1 Axes>"
            ]
          },
          "metadata": {
            "tags": []
          }
        }
      ]
    },
    {
      "cell_type": "code",
      "metadata": {
        "colab": {
          "base_uri": "https://localhost:8080/"
        },
        "id": "Nze31CAL8mbh",
        "outputId": "8bd25330-128c-4b3e-9f32-d18c89677383"
      },
      "source": [
        "import math\r\n",
        "# Create a new dataframe with only the \"Close column\"\r\n",
        "data = df.filter([\"Close\"])\r\n",
        "# COnvert datafram to numpy array\r\n",
        "dataset = data.values\r\n",
        "# Get the numbers of rows to train the model\r\n",
        "training_data_len = math.ceil(len(dataset) * .8)\r\n",
        "training_data_len"
      ],
      "execution_count": 49,
      "outputs": [
        {
          "output_type": "execute_result",
          "data": {
            "text/plain": [
              "1194"
            ]
          },
          "metadata": {
            "tags": []
          },
          "execution_count": 49
        }
      ]
    },
    {
      "cell_type": "code",
      "metadata": {
        "colab": {
          "base_uri": "https://localhost:8080/"
        },
        "id": "4H-WkB9_Muew",
        "outputId": "f86e32f9-fb4e-4b83-e6c7-7429ae481c18"
      },
      "source": [
        "# Scale the data\r\n",
        "scaler = MinMaxScaler(feature_range = (0, 1))\r\n",
        "scaled_data = scaler.fit_transform(dataset)\r\n",
        "scaled_data"
      ],
      "execution_count": 50,
      "outputs": [
        {
          "output_type": "execute_result",
          "data": {
            "text/plain": [
              "array([[0.05071914],\n",
              "       [0.05098796],\n",
              "       [0.04211659],\n",
              "       ...,\n",
              "       [0.94668222],\n",
              "       [0.97938987],\n",
              "       [0.97114578]])"
            ]
          },
          "metadata": {
            "tags": []
          },
          "execution_count": 50
        }
      ]
    },
    {
      "cell_type": "code",
      "metadata": {
        "colab": {
          "base_uri": "https://localhost:8080/"
        },
        "id": "8ywYzTRFNTSM",
        "outputId": "66757537-64da-4604-e8e2-b6db49d4a431"
      },
      "source": [
        "# Create the scaled training data set\r\n",
        "train_data = scaled_data[0:training_data_len, :]\r\n",
        "\r\n",
        "# Split the data\r\n",
        "x_train = []\r\n",
        "y_train = []\r\n",
        "\r\n",
        "for i in range(60, len(train_data)):\r\n",
        "  x_train.append(train_data[i-60:i, 0])\r\n",
        "  y_train.append(train_data[i, 0])\r\n",
        "  if i<=61:\r\n",
        "    print(x_train)\r\n",
        "    print(y_train)\r\n",
        "    print()"
      ],
      "execution_count": 51,
      "outputs": [
        {
          "output_type": "stream",
          "text": [
            "[array([0.05071914, 0.05098796, 0.04211659, 0.05593889, 0.06398138,\n",
            "       0.06008336, 0.0633765 , 0.06342132, 0.06545993, 0.06631123,\n",
            "       0.06404858, 0.06581838, 0.07097093, 0.07737803, 0.08091761,\n",
            "       0.08230657, 0.08398675, 0.08598057, 0.0853757 , 0.08772796,\n",
            "       0.09556881, 0.09370941, 0.08613737, 0.08978898, 0.08539812,\n",
            "       0.08680945, 0.08741433, 0.08557731, 0.08080561, 0.08123125,\n",
            "       0.08244098, 0.07654915, 0.07146378, 0.07641472, 0.07448811,\n",
            "       0.07753484, 0.08221696, 0.08542051, 0.08324747, 0.07966308,\n",
            "       0.0825978 , 0.08143288, 0.07401766, 0.07594427, 0.07372643,\n",
            "       0.080716  , 0.07636992, 0.07596668, 0.07836374, 0.08291143,\n",
            "       0.07990951, 0.078991  , 0.08114164, 0.08235137, 0.08179131,\n",
            "       0.08055918, 0.08163449, 0.08026794, 0.0770868 , 0.08347149])]\n",
            "[0.08192573463050709]\n",
            "\n",
            "[array([0.05071914, 0.05098796, 0.04211659, 0.05593889, 0.06398138,\n",
            "       0.06008336, 0.0633765 , 0.06342132, 0.06545993, 0.06631123,\n",
            "       0.06404858, 0.06581838, 0.07097093, 0.07737803, 0.08091761,\n",
            "       0.08230657, 0.08398675, 0.08598057, 0.0853757 , 0.08772796,\n",
            "       0.09556881, 0.09370941, 0.08613737, 0.08978898, 0.08539812,\n",
            "       0.08680945, 0.08741433, 0.08557731, 0.08080561, 0.08123125,\n",
            "       0.08244098, 0.07654915, 0.07146378, 0.07641472, 0.07448811,\n",
            "       0.07753484, 0.08221696, 0.08542051, 0.08324747, 0.07966308,\n",
            "       0.0825978 , 0.08143288, 0.07401766, 0.07594427, 0.07372643,\n",
            "       0.080716  , 0.07636992, 0.07596668, 0.07836374, 0.08291143,\n",
            "       0.07990951, 0.078991  , 0.08114164, 0.08235137, 0.08179131,\n",
            "       0.08055918, 0.08163449, 0.08026794, 0.0770868 , 0.08347149]), array([0.05098796, 0.04211659, 0.05593889, 0.06398138, 0.06008336,\n",
            "       0.0633765 , 0.06342132, 0.06545993, 0.06631123, 0.06404858,\n",
            "       0.06581838, 0.07097093, 0.07737803, 0.08091761, 0.08230657,\n",
            "       0.08398675, 0.08598057, 0.0853757 , 0.08772796, 0.09556881,\n",
            "       0.09370941, 0.08613737, 0.08978898, 0.08539812, 0.08680945,\n",
            "       0.08741433, 0.08557731, 0.08080561, 0.08123125, 0.08244098,\n",
            "       0.07654915, 0.07146378, 0.07641472, 0.07448811, 0.07753484,\n",
            "       0.08221696, 0.08542051, 0.08324747, 0.07966308, 0.0825978 ,\n",
            "       0.08143288, 0.07401766, 0.07594427, 0.07372643, 0.080716  ,\n",
            "       0.07636992, 0.07596668, 0.07836374, 0.08291143, 0.07990951,\n",
            "       0.078991  , 0.08114164, 0.08235137, 0.08179131, 0.08055918,\n",
            "       0.08163449, 0.08026794, 0.0770868 , 0.08347149, 0.08192573])]\n",
            "[0.08192573463050709, 0.08575653250066198]\n",
            "\n"
          ],
          "name": "stdout"
        }
      ]
    },
    {
      "cell_type": "code",
      "metadata": {
        "id": "MjU3xAiJOS3T"
      },
      "source": [
        "# Convert the x_train and y_train to numpy array\r\n",
        "x_train, y_train = np.array(x_train), np.array(y_train)"
      ],
      "execution_count": 52,
      "outputs": []
    },
    {
      "cell_type": "code",
      "metadata": {
        "colab": {
          "base_uri": "https://localhost:8080/"
        },
        "id": "bjhrVwhtPBFF",
        "outputId": "2ed77e9a-75bd-466b-91ff-2dbfe2a45b9d"
      },
      "source": [
        "x_train.shape"
      ],
      "execution_count": 53,
      "outputs": [
        {
          "output_type": "execute_result",
          "data": {
            "text/plain": [
              "(1134, 60)"
            ]
          },
          "metadata": {
            "tags": []
          },
          "execution_count": 53
        }
      ]
    },
    {
      "cell_type": "code",
      "metadata": {
        "colab": {
          "base_uri": "https://localhost:8080/"
        },
        "id": "Yj5eSZVvPHIs",
        "outputId": "83764c92-f99b-4b9e-eaf1-8db80788be97"
      },
      "source": [
        "# Reshap the data\r\n",
        "x_train = np.reshape(x_train, (x_train.shape[0], 60, 1))\r\n",
        "x_train.shape"
      ],
      "execution_count": 54,
      "outputs": [
        {
          "output_type": "execute_result",
          "data": {
            "text/plain": [
              "(1134, 60, 1)"
            ]
          },
          "metadata": {
            "tags": []
          },
          "execution_count": 54
        }
      ]
    },
    {
      "cell_type": "code",
      "metadata": {
        "id": "gV6W83yFPs0d"
      },
      "source": [
        "# Build the LSTM model\r\n",
        "model = Sequential()\r\n",
        "model.add(LSTM(50, return_sequences=True, input_shape=(x_train.shape[1], 1)))\r\n",
        "model.add(LSTM(50, return_sequences=False))\r\n",
        "model.add(Dense(25))\r\n",
        "model.add(Dense(1))"
      ],
      "execution_count": 55,
      "outputs": []
    },
    {
      "cell_type": "code",
      "metadata": {
        "id": "Eiz6682TVv83"
      },
      "source": [
        "# Compilr the model\r\n",
        "model.compile(optimizer=\"adam\", loss=\"mean_squared_error\")"
      ],
      "execution_count": 56,
      "outputs": []
    },
    {
      "cell_type": "code",
      "metadata": {
        "colab": {
          "base_uri": "https://localhost:8080/"
        },
        "id": "IlJBds9EomTS",
        "outputId": "fb32c145-41b3-4ac8-d910-8431afbdc5f2"
      },
      "source": [
        "model.fit(x_train,y_train,batch_size=1, epochs=1)"
      ],
      "execution_count": 57,
      "outputs": [
        {
          "output_type": "stream",
          "text": [
            "1134/1134 [==============================] - 26s 21ms/step - loss: 7.3358e-04\n"
          ],
          "name": "stdout"
        },
        {
          "output_type": "execute_result",
          "data": {
            "text/plain": [
              "<tensorflow.python.keras.callbacks.History at 0x7fc1d6db0780>"
            ]
          },
          "metadata": {
            "tags": []
          },
          "execution_count": 57
        }
      ]
    },
    {
      "cell_type": "code",
      "metadata": {
        "id": "LNAXnhKcoxjH"
      },
      "source": [
        "# Create testing data set\r\n",
        "# Create a new array containing scaled value from index ___ to ___\r\n",
        "test_data = scaled_data[training_data_len - 60:, :]\r\n",
        "x_test = []\r\n",
        "y_test = dataset[training_data_len:, :]\r\n",
        "for i in range(60, len(test_data)):\r\n",
        "  x_test.append(test_data[i-60:i, 0])"
      ],
      "execution_count": 58,
      "outputs": []
    },
    {
      "cell_type": "code",
      "metadata": {
        "id": "kiDpy24eqzUu"
      },
      "source": [
        "# Convert data into numpy array\r\n",
        "x_test = np.array(x_test)"
      ],
      "execution_count": 59,
      "outputs": []
    },
    {
      "cell_type": "code",
      "metadata": {
        "colab": {
          "base_uri": "https://localhost:8080/"
        },
        "id": "8f6T88SErUei",
        "outputId": "e965be25-197b-4968-f9e4-83759402afbd"
      },
      "source": [
        "x_test.shape"
      ],
      "execution_count": 60,
      "outputs": [
        {
          "output_type": "execute_result",
          "data": {
            "text/plain": [
              "(298, 60)"
            ]
          },
          "metadata": {
            "tags": []
          },
          "execution_count": 60
        }
      ]
    },
    {
      "cell_type": "code",
      "metadata": {
        "id": "vTgu21AMq_Y_"
      },
      "source": [
        "# Reshape the data\r\n",
        "x_test = np.reshape(x_test, (298, 60, 1))"
      ],
      "execution_count": 61,
      "outputs": []
    },
    {
      "cell_type": "code",
      "metadata": {
        "id": "5ohRpQBirr5-"
      },
      "source": [
        "# Get the model to predict the price value\r\n",
        "predictions = model.predict(x_test)\r\n",
        "predictions = scaler.inverse_transform(predictions)"
      ],
      "execution_count": 62,
      "outputs": []
    },
    {
      "cell_type": "code",
      "metadata": {
        "colab": {
          "base_uri": "https://localhost:8080/"
        },
        "id": "1VqR0-vbsRov",
        "outputId": "8a533f32-df20-4952-bbc8-fd6f9c1e2f26"
      },
      "source": [
        "# Get the Root Mean Square Erroe (RMSE)\r\n",
        "rmse = np.sqrt(np.mean(predictions - y_test) ** 2)\r\n",
        "rmse"
      ],
      "execution_count": 63,
      "outputs": [
        {
          "output_type": "execute_result",
          "data": {
            "text/plain": [
              "0.4630711446672478"
            ]
          },
          "metadata": {
            "tags": []
          },
          "execution_count": 63
        }
      ]
    },
    {
      "cell_type": "code",
      "metadata": {
        "colab": {
          "base_uri": "https://localhost:8080/",
          "height": 660
        },
        "id": "q0lsfYddsvf_",
        "outputId": "11a1470e-69a0-4e98-a017-d87e576b398a"
      },
      "source": [
        "# Plot the data\r\n",
        "train = data[:training_data_len]\r\n",
        "valid = data[training_data_len:]\r\n",
        "valid[\"Predictions\"] = predictions\r\n",
        "\r\n",
        "# Visulize the data\r\n",
        "plt.figure(figsize=(16,8))\r\n",
        "plt.title(\"Model\")\r\n",
        "plt.xlabel(\"date\", fontsize=18)\r\n",
        "plt.ylabel(\"Close Price USD ($)\", fontsize=18)\r\n",
        "plt.plot(train[\"Close\"])\r\n",
        "plt.plot(valid[[\"Close\", \"Predictions\"]])\r\n",
        "plt.legend([\"Train\", \"val\", \"pred\"], loc=\"lower right\")\r\n",
        "plt.show()"
      ],
      "execution_count": 66,
      "outputs": [
        {
          "output_type": "stream",
          "text": [
            "/usr/local/lib/python3.6/dist-packages/ipykernel_launcher.py:4: SettingWithCopyWarning: \n",
            "A value is trying to be set on a copy of a slice from a DataFrame.\n",
            "Try using .loc[row_indexer,col_indexer] = value instead\n",
            "\n",
            "See the caveats in the documentation: https://pandas.pydata.org/pandas-docs/stable/user_guide/indexing.html#returning-a-view-versus-a-copy\n",
            "  after removing the cwd from sys.path.\n"
          ],
          "name": "stderr"
        },
        {
          "output_type": "display_data",
          "data": {
            "image/png": "[encoded data removed]",
            "text/plain": [
              "<Figure size 1152x576 with 1 Axes>"
            ]
          },
          "metadata": {
            "tags": []
          }
        }
      ]
    },
    {
      "cell_type": "code",
      "metadata": {
        "colab": {
          "base_uri": "https://localhost:8080/",
          "height": 1000
        },
        "id": "ZDLtvnAA_L8s",
        "outputId": "0caf79cd-8cb5-4caf-cdd7-501db25c35c3"
      },
      "source": [
        "# Show the valid and prediction price\r\n",
        "valid.head(30)"
      ],
      "execution_count": 69,
      "outputs": [
        {
          "output_type": "execute_result",
          "data": {
            "text/html": [
              "<div>\n",
              "<style scoped>\n",
              "    .dataframe tbody tr th:only-of-type {\n",
              "        vertical-align: middle;\n",
              "    }\n",
              "\n",
              "    .dataframe tbody tr th {\n",
              "        vertical-align: top;\n",
              "    }\n",
              "\n",
              "    .dataframe thead th {\n",
              "        text-align: right;\n",
              "    }\n",
              "</style>\n",
              "<table border=\"1\" class=\"dataframe\">\n",
              "  <thead>\n",
              "    <tr style=\"text-align: right;\">\n",
              "      <th></th>\n",
              "      <th>Close</th>\n",
              "      <th>Predictions</th>\n",
              "    </tr>\n",
              "    <tr>\n",
              "      <th>Date</th>\n",
              "      <th></th>\n",
              "      <th></th>\n",
              "    </tr>\n",
              "  </thead>\n",
              "  <tbody>\n",
              "    <tr>\n",
              "      <th>2019-10-21</th>\n",
              "      <td>60.127499</td>\n",
              "      <td>60.712856</td>\n",
              "    </tr>\n",
              "    <tr>\n",
              "      <th>2019-10-22</th>\n",
              "      <td>59.990002</td>\n",
              "      <td>61.032276</td>\n",
              "    </tr>\n",
              "    <tr>\n",
              "      <th>2019-10-23</th>\n",
              "      <td>60.794998</td>\n",
              "      <td>61.336342</td>\n",
              "    </tr>\n",
              "    <tr>\n",
              "      <th>2019-10-24</th>\n",
              "      <td>60.895000</td>\n",
              "      <td>61.692837</td>\n",
              "    </tr>\n",
              "    <tr>\n",
              "      <th>2019-10-25</th>\n",
              "      <td>61.645000</td>\n",
              "      <td>62.046268</td>\n",
              "    </tr>\n",
              "    <tr>\n",
              "      <th>2019-10-28</th>\n",
              "      <td>62.262501</td>\n",
              "      <td>62.445969</td>\n",
              "    </tr>\n",
              "    <tr>\n",
              "      <th>2019-10-29</th>\n",
              "      <td>60.822498</td>\n",
              "      <td>62.894741</td>\n",
              "    </tr>\n",
              "    <tr>\n",
              "      <th>2019-10-30</th>\n",
              "      <td>60.814999</td>\n",
              "      <td>63.150913</td>\n",
              "    </tr>\n",
              "    <tr>\n",
              "      <th>2019-10-31</th>\n",
              "      <td>62.189999</td>\n",
              "      <td>63.284210</td>\n",
              "    </tr>\n",
              "    <tr>\n",
              "      <th>2019-11-01</th>\n",
              "      <td>63.955002</td>\n",
              "      <td>63.498642</td>\n",
              "    </tr>\n",
              "    <tr>\n",
              "      <th>2019-11-04</th>\n",
              "      <td>64.375000</td>\n",
              "      <td>63.930576</td>\n",
              "    </tr>\n",
              "    <tr>\n",
              "      <th>2019-11-05</th>\n",
              "      <td>64.282501</td>\n",
              "      <td>64.469345</td>\n",
              "    </tr>\n",
              "    <tr>\n",
              "      <th>2019-11-06</th>\n",
              "      <td>64.309998</td>\n",
              "      <td>64.991913</td>\n",
              "    </tr>\n",
              "    <tr>\n",
              "      <th>2019-11-07</th>\n",
              "      <td>64.857498</td>\n",
              "      <td>65.452522</td>\n",
              "    </tr>\n",
              "    <tr>\n",
              "      <th>2019-11-08</th>\n",
              "      <td>65.035004</td>\n",
              "      <td>65.894218</td>\n",
              "    </tr>\n",
              "    <tr>\n",
              "      <th>2019-11-11</th>\n",
              "      <td>65.550003</td>\n",
              "      <td>66.296135</td>\n",
              "    </tr>\n",
              "    <tr>\n",
              "      <th>2019-11-12</th>\n",
              "      <td>65.489998</td>\n",
              "      <td>66.692421</td>\n",
              "    </tr>\n",
              "    <tr>\n",
              "      <th>2019-11-13</th>\n",
              "      <td>66.117500</td>\n",
              "      <td>67.033104</td>\n",
              "    </tr>\n",
              "    <tr>\n",
              "      <th>2019-11-14</th>\n",
              "      <td>65.660004</td>\n",
              "      <td>67.380661</td>\n",
              "    </tr>\n",
              "    <tr>\n",
              "      <th>2019-11-15</th>\n",
              "      <td>66.440002</td>\n",
              "      <td>67.637680</td>\n",
              "    </tr>\n",
              "    <tr>\n",
              "      <th>2019-11-18</th>\n",
              "      <td>66.775002</td>\n",
              "      <td>67.912155</td>\n",
              "    </tr>\n",
              "    <tr>\n",
              "      <th>2019-11-19</th>\n",
              "      <td>66.572502</td>\n",
              "      <td>68.200829</td>\n",
              "    </tr>\n",
              "    <tr>\n",
              "      <th>2019-11-20</th>\n",
              "      <td>65.797501</td>\n",
              "      <td>68.439934</td>\n",
              "    </tr>\n",
              "    <tr>\n",
              "      <th>2019-11-21</th>\n",
              "      <td>65.502502</td>\n",
              "      <td>68.538002</td>\n",
              "    </tr>\n",
              "    <tr>\n",
              "      <th>2019-11-22</th>\n",
              "      <td>65.445000</td>\n",
              "      <td>68.521820</td>\n",
              "    </tr>\n",
              "    <tr>\n",
              "      <th>2019-11-25</th>\n",
              "      <td>66.592499</td>\n",
              "      <td>68.443100</td>\n",
              "    </tr>\n",
              "    <tr>\n",
              "      <th>2019-11-26</th>\n",
              "      <td>66.072502</td>\n",
              "      <td>68.474106</td>\n",
              "    </tr>\n",
              "    <tr>\n",
              "      <th>2019-11-27</th>\n",
              "      <td>66.959999</td>\n",
              "      <td>68.492569</td>\n",
              "    </tr>\n",
              "    <tr>\n",
              "      <th>2019-11-29</th>\n",
              "      <td>66.812500</td>\n",
              "      <td>68.607719</td>\n",
              "    </tr>\n",
              "    <tr>\n",
              "      <th>2019-12-02</th>\n",
              "      <td>66.040001</td>\n",
              "      <td>68.738968</td>\n",
              "    </tr>\n",
              "  </tbody>\n",
              "</table>\n",
              "</div>"
            ],
            "text/plain": [
              "                Close  Predictions\n",
              "Date                              \n",
              "2019-10-21  60.127499    60.712856\n",
              "2019-10-22  59.990002    61.032276\n",
              "2019-10-23  60.794998    61.336342\n",
              "2019-10-24  60.895000    61.692837\n",
              "2019-10-25  61.645000    62.046268\n",
              "2019-10-28  62.262501    62.445969\n",
              "2019-10-29  60.822498    62.894741\n",
              "2019-10-30  60.814999    63.150913\n",
              "2019-10-31  62.189999    63.284210\n",
              "2019-11-01  63.955002    63.498642\n",
              "2019-11-04  64.375000    63.930576\n",
              "2019-11-05  64.282501    64.469345\n",
              "2019-11-06  64.309998    64.991913\n",
              "2019-11-07  64.857498    65.452522\n",
              "2019-11-08  65.035004    65.894218\n",
              "2019-11-11  65.550003    66.296135\n",
              "2019-11-12  65.489998    66.692421\n",
              "2019-11-13  66.117500    67.033104\n",
              "2019-11-14  65.660004    67.380661\n",
              "2019-11-15  66.440002    67.637680\n",
              "2019-11-18  66.775002    67.912155\n",
              "2019-11-19  66.572502    68.200829\n",
              "2019-11-20  65.797501    68.439934\n",
              "2019-11-21  65.502502    68.538002\n",
              "2019-11-22  65.445000    68.521820\n",
              "2019-11-25  66.592499    68.443100\n",
              "2019-11-26  66.072502    68.474106\n",
              "2019-11-27  66.959999    68.492569\n",
              "2019-11-29  66.812500    68.607719\n",
              "2019-12-02  66.040001    68.738968"
            ]
          },
          "metadata": {
            "tags": []
          },
          "execution_count": 69
        }
      ]
    },
    {
      "cell_type": "code",
      "metadata": {
        "colab": {
          "base_uri": "https://localhost:8080/"
        },
        "id": "FNEkhPoD_k0g",
        "outputId": "5b61fd92-3cf6-49e0-9cf4-7e5bd3373965"
      },
      "source": [
        "# Get the quote\r\n",
        "apple_quote = web.DataReader(\"AAPl\", data_source=\"yahoo\", start=\"2015-01-23\", end=\"2020-12-23\")\r\n",
        "\r\n",
        "# Create a new datafram\r\n",
        "new_df = apple_quote.filter([\"Close\"])\r\n",
        "\r\n",
        "# Get the last 60 days closing price and convert it into numpy array\r\n",
        "last_60_days = new_df[-60:].values\r\n",
        "\r\n",
        "#scaled data b/w 0 to 1\r\n",
        "last_60_days_scaled = scaler.transform(last_60_days)\r\n",
        "\r\n",
        "X_test = list()\r\n",
        "X_test.append(last_60_days_scaled)\r\n",
        "X_test = np.array(X_test)\r\n",
        "\r\n",
        "# Reshape the data\r\n",
        "X_test = np.reshape(X_test, (X_test.shape[0], X_test.shape[1], 1))\r\n",
        "\r\n",
        "# Get the predicted scaled price\r\n",
        "pred_price = model.predict(X_test)\r\n",
        "\r\n",
        "# Undo the scalling\r\n",
        "pred_price = scaler.inverse_transform(pred_price)\r\n",
        "print(pred_price)"
      ],
      "execution_count": 71,
      "outputs": [
        {
          "output_type": "stream",
          "text": [
            "[[126.52617]]\n"
          ],
          "name": "stdout"
        }
      ]
    },
    {
      "cell_type": "code",
      "metadata": {
        "colab": {
          "base_uri": "https://localhost:8080/"
        },
        "id": "B4rztJk_DnFw",
        "outputId": "b6a4acf4-bd98-40c8-e26d-5240dc6c7b46"
      },
      "source": [
        "apple_quote2 = web.DataReader(\"AAPl\", data_source=\"yahoo\", start=\"2020-12-24\", end=\"2020-12-24\")\r\n",
        "print(apple_quote2[\"Close\"])"
      ],
      "execution_count": 72,
      "outputs": [
        {
          "output_type": "stream",
          "text": [
            "Date\n",
            "2020-12-24    131.970001\n",
            "Name: Close, dtype: float64\n"
          ],
          "name": "stdout"
        }
      ]
    },
    {
      "cell_type": "code",
      "metadata": {
        "id": "0GKGvcniEIEw"
      },
      "source": [
        ""
      ],
      "execution_count": null,
      "outputs": []
    }
  ]
}