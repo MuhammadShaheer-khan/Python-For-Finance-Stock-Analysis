{
  "nbformat": 4,
  "nbformat_minor": 0,
  "metadata": {
    "colab": {
      "name": "Python for finance.ipynb",
      "provenance": [],
      "authorship_tag": "ABX9TyMCDnNcri9KzgZXmYk/9JQm",
      "include_colab_link": true
    },
    "kernelspec": {
      "name": "python3",
      "display_name": "Python 3"
    }
  },
  "cells": [
    {
      "cell_type": "markdown",
      "metadata": {
        "id": "view-in-github",
        "colab_type": "text"
      },
      "source": [
        "<a href=\"https://colab.research.google.com/github/MuhammadShaheer-khan/Python-For-Finance-Stock-Analysis/blob/master/Python_for_finance.ipynb\" target=\"_parent\"><img src=\"https://colab.research.google.com/assets/colab-badge.svg\" alt=\"Open In Colab\"/></a>"
      ]
    },
    {
      "cell_type": "code",
      "metadata": {
        "id": "kZf4StGtOYPY",
        "colab_type": "code",
        "colab": {}
      },
      "source": [
        "import matplotlib.pyplot as plt\n",
        "from matplotlib import style\n",
        "import matplotlib.dates as mdates\n",
        "import datetime as dt\n",
        "import pandas as pd"
      ],
      "execution_count": 0,
      "outputs": []
    },
    {
      "cell_type": "code",
      "metadata": {
        "id": "QcStfwkeOfdt",
        "colab_type": "code",
        "colab": {}
      },
      "source": [
        "import pandas_datareader.data as web\n",
        "\n",
        "# import pandas.io.data as web"
      ],
      "execution_count": 0,
      "outputs": []
    },
    {
      "cell_type": "code",
      "metadata": {
        "id": "QB_GgtRmPIA6",
        "colab_type": "code",
        "colab": {}
      },
      "source": [
        "style.use('ggplot')"
      ],
      "execution_count": 0,
      "outputs": []
    },
    {
      "cell_type": "code",
      "metadata": {
        "id": "yXTcGZdCPPqa",
        "colab_type": "code",
        "colab": {}
      },
      "source": [
        "start = dt.datetime(2000,1,1)\n",
        "end = dt.datetime(2016,12,31)"
      ],
      "execution_count": 0,
      "outputs": []
    },
    {
      "cell_type": "code",
      "metadata": {
        "id": "bGWrtKEaPdBB",
        "colab_type": "code",
        "outputId": "47fa2bd2-b55f-4894-d024-9fb2e3a6e1a0",
        "colab": {
          "base_uri": "https://localhost:8080/",
          "height": 235
        }
      },
      "source": [
        "data = web.DataReader('TSLA','yahoo',start,end)\n",
        "data.head()"
      ],
      "execution_count": 61,
      "outputs": [
        {
          "output_type": "execute_result",
          "data": {
            "text/html": [
              "<div>\n",
              "<style scoped>\n",
              "    .dataframe tbody tr th:only-of-type {\n",
              "        vertical-align: middle;\n",
              "    }\n",
              "\n",
              "    .dataframe tbody tr th {\n",
              "        vertical-align: top;\n",
              "    }\n",
              "\n",
              "    .dataframe thead th {\n",
              "        text-align: right;\n",
              "    }\n",
              "</style>\n",
              "<table border=\"1\" class=\"dataframe\">\n",
              "  <thead>\n",
              "    <tr style=\"text-align: right;\">\n",
              "      <th></th>\n",
              "      <th>High</th>\n",
              "      <th>Low</th>\n",
              "      <th>Open</th>\n",
              "      <th>Close</th>\n",
              "      <th>Volume</th>\n",
              "      <th>Adj Close</th>\n",
              "    </tr>\n",
              "    <tr>\n",
              "      <th>Date</th>\n",
              "      <th></th>\n",
              "      <th></th>\n",
              "      <th></th>\n",
              "      <th></th>\n",
              "      <th></th>\n",
              "      <th></th>\n",
              "    </tr>\n",
              "  </thead>\n",
              "  <tbody>\n",
              "    <tr>\n",
              "      <th>2010-06-29</th>\n",
              "      <td>25.00</td>\n",
              "      <td>17.540001</td>\n",
              "      <td>19.000000</td>\n",
              "      <td>23.889999</td>\n",
              "      <td>18766300</td>\n",
              "      <td>23.889999</td>\n",
              "    </tr>\n",
              "    <tr>\n",
              "      <th>2010-06-30</th>\n",
              "      <td>30.42</td>\n",
              "      <td>23.299999</td>\n",
              "      <td>25.790001</td>\n",
              "      <td>23.830000</td>\n",
              "      <td>17187100</td>\n",
              "      <td>23.830000</td>\n",
              "    </tr>\n",
              "    <tr>\n",
              "      <th>2010-07-01</th>\n",
              "      <td>25.92</td>\n",
              "      <td>20.270000</td>\n",
              "      <td>25.000000</td>\n",
              "      <td>21.959999</td>\n",
              "      <td>8218800</td>\n",
              "      <td>21.959999</td>\n",
              "    </tr>\n",
              "    <tr>\n",
              "      <th>2010-07-02</th>\n",
              "      <td>23.10</td>\n",
              "      <td>18.709999</td>\n",
              "      <td>23.000000</td>\n",
              "      <td>19.200001</td>\n",
              "      <td>5139800</td>\n",
              "      <td>19.200001</td>\n",
              "    </tr>\n",
              "    <tr>\n",
              "      <th>2010-07-06</th>\n",
              "      <td>20.00</td>\n",
              "      <td>15.830000</td>\n",
              "      <td>20.000000</td>\n",
              "      <td>16.110001</td>\n",
              "      <td>6866900</td>\n",
              "      <td>16.110001</td>\n",
              "    </tr>\n",
              "  </tbody>\n",
              "</table>\n",
              "</div>"
            ],
            "text/plain": [
              "             High        Low       Open      Close    Volume  Adj Close\n",
              "Date                                                                   \n",
              "2010-06-29  25.00  17.540001  19.000000  23.889999  18766300  23.889999\n",
              "2010-06-30  30.42  23.299999  25.790001  23.830000  17187100  23.830000\n",
              "2010-07-01  25.92  20.270000  25.000000  21.959999   8218800  21.959999\n",
              "2010-07-02  23.10  18.709999  23.000000  19.200001   5139800  19.200001\n",
              "2010-07-06  20.00  15.830000  20.000000  16.110001   6866900  16.110001"
            ]
          },
          "metadata": {
            "tags": []
          },
          "execution_count": 61
        }
      ]
    },
    {
      "cell_type": "code",
      "metadata": {
        "id": "lW-ZIT1JPuS6",
        "colab_type": "code",
        "outputId": "7e97b31d-650b-4b45-be94-458b7cd63132",
        "colab": {
          "base_uri": "https://localhost:8080/",
          "height": 283
        }
      },
      "source": [
        "data.plot()\n",
        "plt.show()"
      ],
      "execution_count": 62,
      "outputs": [
        {
          "output_type": "display_data",
          "data": {
            "image/png": "[encoded data removed]",
            "text/plain": [
              "<Figure size 432x288 with 1 Axes>"
            ]
          },
          "metadata": {
            "tags": []
          }
        }
      ]
    },
    {
      "cell_type": "code",
      "metadata": {
        "id": "2AnzyPflRdNx",
        "colab_type": "code",
        "outputId": "51c0f922-6242-46fa-d2d5-21444b4deda7",
        "colab": {
          "base_uri": "https://localhost:8080/",
          "height": 272
        }
      },
      "source": [
        "data['Adj Close'].plot()\n",
        "plt.show()"
      ],
      "execution_count": 63,
      "outputs": [
        {
          "output_type": "display_data",
          "data": {
            "image/png": "[encoded data removed]",
            "text/plain": [
              "<Figure size 432x288 with 1 Axes>"
            ]
          },
          "metadata": {
            "tags": []
          }
        }
      ]
    },
    {
      "cell_type": "code",
      "metadata": {
        "id": "0VqGR-YuSSQj",
        "colab_type": "code",
        "outputId": "6d5369d4-223b-42b4-a7f8-d69b195ee349",
        "colab": {
          "base_uri": "https://localhost:8080/",
          "height": 136
        }
      },
      "source": [
        "print(data[['Close','Open']].head())"
      ],
      "execution_count": 64,
      "outputs": [
        {
          "output_type": "stream",
          "text": [
            "                Close       Open\n",
            "Date                            \n",
            "2010-06-29  23.889999  19.000000\n",
            "2010-06-30  23.830000  25.790001\n",
            "2010-07-01  21.959999  25.000000\n",
            "2010-07-02  19.200001  23.000000\n",
            "2010-07-06  16.110001  20.000000\n"
          ],
          "name": "stdout"
        }
      ]
    },
    {
      "cell_type": "code",
      "metadata": {
        "id": "MfWDj6g_SleD",
        "colab_type": "code",
        "outputId": "a806e71d-3e16-4934-ada3-cf76043a21ed",
        "colab": {
          "base_uri": "https://localhost:8080/",
          "height": 136
        }
      },
      "source": [
        "# 100 Moving average ka col banaya adj closing k uper\n",
        "#rolling?window?\n",
        "\n",
        "\n",
        "data['100ma'] = data['Adj Close'].rolling(window=100, min_periods=0).mean()\n",
        "data['100ma'].head()"
      ],
      "execution_count": 65,
      "outputs": [
        {
          "output_type": "execute_result",
          "data": {
            "text/plain": [
              "Date\n",
              "2010-06-29    23.889999\n",
              "2010-06-30    23.860000\n",
              "2010-07-01    23.226666\n",
              "2010-07-02    22.220000\n",
              "2010-07-06    20.998000\n",
              "Name: 100ma, dtype: float64"
            ]
          },
          "metadata": {
            "tags": []
          },
          "execution_count": 65
        }
      ]
    },
    {
      "cell_type": "code",
      "metadata": {
        "id": "mGlxAaZ4UCn7",
        "colab_type": "code",
        "outputId": "b4c2bd66-370a-4378-bcfb-f549ac8f3c47",
        "colab": {
          "base_uri": "https://localhost:8080/",
          "height": 235
        }
      },
      "source": [
        "data.head()"
      ],
      "execution_count": 66,
      "outputs": [
        {
          "output_type": "execute_result",
          "data": {
            "text/html": [
              "<div>\n",
              "<style scoped>\n",
              "    .dataframe tbody tr th:only-of-type {\n",
              "        vertical-align: middle;\n",
              "    }\n",
              "\n",
              "    .dataframe tbody tr th {\n",
              "        vertical-align: top;\n",
              "    }\n",
              "\n",
              "    .dataframe thead th {\n",
              "        text-align: right;\n",
              "    }\n",
              "</style>\n",
              "<table border=\"1\" class=\"dataframe\">\n",
              "  <thead>\n",
              "    <tr style=\"text-align: right;\">\n",
              "      <th></th>\n",
              "      <th>High</th>\n",
              "      <th>Low</th>\n",
              "      <th>Open</th>\n",
              "      <th>Close</th>\n",
              "      <th>Volume</th>\n",
              "      <th>Adj Close</th>\n",
              "      <th>100ma</th>\n",
              "    </tr>\n",
              "    <tr>\n",
              "      <th>Date</th>\n",
              "      <th></th>\n",
              "      <th></th>\n",
              "      <th></th>\n",
              "      <th></th>\n",
              "      <th></th>\n",
              "      <th></th>\n",
              "      <th></th>\n",
              "    </tr>\n",
              "  </thead>\n",
              "  <tbody>\n",
              "    <tr>\n",
              "      <th>2010-06-29</th>\n",
              "      <td>25.00</td>\n",
              "      <td>17.540001</td>\n",
              "      <td>19.000000</td>\n",
              "      <td>23.889999</td>\n",
              "      <td>18766300</td>\n",
              "      <td>23.889999</td>\n",
              "      <td>23.889999</td>\n",
              "    </tr>\n",
              "    <tr>\n",
              "      <th>2010-06-30</th>\n",
              "      <td>30.42</td>\n",
              "      <td>23.299999</td>\n",
              "      <td>25.790001</td>\n",
              "      <td>23.830000</td>\n",
              "      <td>17187100</td>\n",
              "      <td>23.830000</td>\n",
              "      <td>23.860000</td>\n",
              "    </tr>\n",
              "    <tr>\n",
              "      <th>2010-07-01</th>\n",
              "      <td>25.92</td>\n",
              "      <td>20.270000</td>\n",
              "      <td>25.000000</td>\n",
              "      <td>21.959999</td>\n",
              "      <td>8218800</td>\n",
              "      <td>21.959999</td>\n",
              "      <td>23.226666</td>\n",
              "    </tr>\n",
              "    <tr>\n",
              "      <th>2010-07-02</th>\n",
              "      <td>23.10</td>\n",
              "      <td>18.709999</td>\n",
              "      <td>23.000000</td>\n",
              "      <td>19.200001</td>\n",
              "      <td>5139800</td>\n",
              "      <td>19.200001</td>\n",
              "      <td>22.220000</td>\n",
              "    </tr>\n",
              "    <tr>\n",
              "      <th>2010-07-06</th>\n",
              "      <td>20.00</td>\n",
              "      <td>15.830000</td>\n",
              "      <td>20.000000</td>\n",
              "      <td>16.110001</td>\n",
              "      <td>6866900</td>\n",
              "      <td>16.110001</td>\n",
              "      <td>20.998000</td>\n",
              "    </tr>\n",
              "  </tbody>\n",
              "</table>\n",
              "</div>"
            ],
            "text/plain": [
              "             High        Low       Open  ...    Volume  Adj Close      100ma\n",
              "Date                                     ...                                \n",
              "2010-06-29  25.00  17.540001  19.000000  ...  18766300  23.889999  23.889999\n",
              "2010-06-30  30.42  23.299999  25.790001  ...  17187100  23.830000  23.860000\n",
              "2010-07-01  25.92  20.270000  25.000000  ...   8218800  21.959999  23.226666\n",
              "2010-07-02  23.10  18.709999  23.000000  ...   5139800  19.200001  22.220000\n",
              "2010-07-06  20.00  15.830000  20.000000  ...   6866900  16.110001  20.998000\n",
              "\n",
              "[5 rows x 7 columns]"
            ]
          },
          "metadata": {
            "tags": []
          },
          "execution_count": 66
        }
      ]
    },
    {
      "cell_type": "code",
      "metadata": {
        "id": "eYtW-2KpW_kp",
        "colab_type": "code",
        "outputId": "afae7b0c-57b0-46b7-f938-74dc57fd1726",
        "colab": {
          "base_uri": "https://localhost:8080/",
          "height": 265
        }
      },
      "source": [
        "ax1 = plt.subplot2grid((10,1), (0,0), rowspan=5, colspan=1)\n",
        "ax2 = plt.subplot2grid((10,1), (5,0), rowspan=5, colspan=1) #sharex=ax1\n",
        "\n",
        "ax1.plot(data.index, data['Adj Close'])\n",
        "ax1.plot(data.index, data['100ma'])\n",
        "ax2.bar(data.index, data['Volume'])\n",
        "\n",
        "plt.show()"
      ],
      "execution_count": 67,
      "outputs": [
        {
          "output_type": "display_data",
          "data": {
            "image/png": "[encoded data removed]",
            "text/plain": [
              "<Figure size 432x288 with 2 Axes>"
            ]
          },
          "metadata": {
            "tags": []
          }
        }
      ]
    },
    {
      "cell_type": "code",
      "metadata": {
        "id": "UwZBpGixX5nT",
        "colab_type": "code",
        "outputId": "dcbf1d5d-48c9-4e2a-d224-81c058aca3e4",
        "colab": {
          "base_uri": "https://localhost:8080/",
          "height": 292
        }
      },
      "source": [
        "# from plt.finance import candlestick_ohlc\n",
        "pip install https://github.com/matplotlib/mpl_finance/archive/master.zip"
      ],
      "execution_count": 68,
      "outputs": [
        {
          "output_type": "stream",
          "text": [
            "Collecting https://github.com/matplotlib/mpl_finance/archive/master.zip\n",
            "  Using cached https://github.com/matplotlib/mpl_finance/archive/master.zip\n",
            "Requirement already satisfied (use --upgrade to upgrade): mpl-finance==0.10.1 from https://github.com/matplotlib/mpl_finance/archive/master.zip in /usr/local/lib/python3.6/dist-packages\n",
            "Requirement already satisfied: matplotlib in /usr/local/lib/python3.6/dist-packages (from mpl-finance==0.10.1) (3.2.1)\n",
            "Requirement already satisfied: python-dateutil>=2.1 in /usr/local/lib/python3.6/dist-packages (from matplotlib->mpl-finance==0.10.1) (2.8.1)\n",
            "Requirement already satisfied: pyparsing!=2.0.4,!=2.1.2,!=2.1.6,>=2.0.1 in /usr/local/lib/python3.6/dist-packages (from matplotlib->mpl-finance==0.10.1) (2.4.7)\n",
            "Requirement already satisfied: kiwisolver>=1.0.1 in /usr/local/lib/python3.6/dist-packages (from matplotlib->mpl-finance==0.10.1) (1.2.0)\n",
            "Requirement already satisfied: numpy>=1.11 in /usr/local/lib/python3.6/dist-packages (from matplotlib->mpl-finance==0.10.1) (1.18.3)\n",
            "Requirement already satisfied: cycler>=0.10 in /usr/local/lib/python3.6/dist-packages (from matplotlib->mpl-finance==0.10.1) (0.10.0)\n",
            "Requirement already satisfied: six>=1.5 in /usr/local/lib/python3.6/dist-packages (from python-dateutil>=2.1->matplotlib->mpl-finance==0.10.1) (1.12.0)\n",
            "Building wheels for collected packages: mpl-finance\n",
            "  Building wheel for mpl-finance (setup.py) ... \u001b[?25l\u001b[?25hdone\n",
            "  Created wheel for mpl-finance: filename=mpl_finance-0.10.1-cp36-none-any.whl size=8423 sha256=ea2e773c11f902a02224444d4f11e1a237346f72cc7c1d670851bf03aa776bdd\n",
            "  Stored in directory: /tmp/pip-ephem-wheel-cache-caojui1x/wheels/8f/bf/8a/6c858b2a3be945c7b2d658fbf6ab797b451d686cbee8aa2679\n",
            "Successfully built mpl-finance\n"
          ],
          "name": "stdout"
        }
      ]
    },
    {
      "cell_type": "code",
      "metadata": {
        "id": "VzkQbcULdkED",
        "colab_type": "code",
        "colab": {}
      },
      "source": [
        "from mpl_finance import candlestick_ohlc"
      ],
      "execution_count": 0,
      "outputs": []
    },
    {
      "cell_type": "code",
      "metadata": {
        "id": "e0_RbM8Ke1X6",
        "colab_type": "code",
        "colab": {}
      },
      "source": [
        "# resample data by cal of ohlc\n",
        "data_ohlc = data['Adj Close'].resample(\"10D\").ohlc()\n",
        "\n",
        "# resample data by cal of sum\n",
        "data_vlume = data['Volume'].resample(\"10D\").sum()"
      ],
      "execution_count": 0,
      "outputs": []
    },
    {
      "cell_type": "code",
      "metadata": {
        "id": "Jl2Zcmu7fgLj",
        "colab_type": "code",
        "outputId": "a75d43a2-9f5a-4c96-8ec5-373dae767896",
        "colab": {
          "base_uri": "https://localhost:8080/",
          "height": 136
        }
      },
      "source": [
        "print(data_ohlc.head())"
      ],
      "execution_count": 71,
      "outputs": [
        {
          "output_type": "stream",
          "text": [
            "                 open       high        low      close\n",
            "Date                                                  \n",
            "2010-06-29  23.889999  23.889999  15.800000  17.459999\n",
            "2010-07-09  17.400000  20.639999  17.049999  20.639999\n",
            "2010-07-19  21.910000  21.910000  20.219999  20.719999\n",
            "2010-07-29  20.350000  21.950001  19.590000  19.590000\n",
            "2010-08-08  19.600000  19.600000  17.600000  19.150000\n"
          ],
          "name": "stdout"
        }
      ]
    },
    {
      "cell_type": "code",
      "metadata": {
        "id": "5kDe_4Xzfrjq",
        "colab_type": "code",
        "outputId": "6e983c7b-1e9b-4b52-9c97-42f0b0180cfe",
        "colab": {
          "base_uri": "https://localhost:8080/",
          "height": 136
        }
      },
      "source": [
        "print(data_vlume.head())"
      ],
      "execution_count": 72,
      "outputs": [
        {
          "output_type": "stream",
          "text": [
            "Date\n",
            "2010-06-29    70812000\n",
            "2010-07-09    19489500\n",
            "2010-07-19     9184800\n",
            "2010-07-29     5442600\n",
            "2010-08-08     5150300\n",
            "Freq: 10D, Name: Volume, dtype: int64\n"
          ],
          "name": "stdout"
        }
      ]
    },
    {
      "cell_type": "code",
      "metadata": {
        "id": "w_dDC1AHfwTU",
        "colab_type": "code",
        "outputId": "8d9a48c0-58db-4f9e-ce3c-f8b5e85a5176",
        "colab": {
          "base_uri": "https://localhost:8080/",
          "height": 204
        }
      },
      "source": [
        "# index pe date arahi thi usko hata k real index diya he\n",
        "\n",
        "data_ohlc.reset_index(inplace = True)\n",
        "data_ohlc.head()"
      ],
      "execution_count": 73,
      "outputs": [
        {
          "output_type": "execute_result",
          "data": {
            "text/html": [
              "<div>\n",
              "<style scoped>\n",
              "    .dataframe tbody tr th:only-of-type {\n",
              "        vertical-align: middle;\n",
              "    }\n",
              "\n",
              "    .dataframe tbody tr th {\n",
              "        vertical-align: top;\n",
              "    }\n",
              "\n",
              "    .dataframe thead th {\n",
              "        text-align: right;\n",
              "    }\n",
              "</style>\n",
              "<table border=\"1\" class=\"dataframe\">\n",
              "  <thead>\n",
              "    <tr style=\"text-align: right;\">\n",
              "      <th></th>\n",
              "      <th>Date</th>\n",
              "      <th>open</th>\n",
              "      <th>high</th>\n",
              "      <th>low</th>\n",
              "      <th>close</th>\n",
              "    </tr>\n",
              "  </thead>\n",
              "  <tbody>\n",
              "    <tr>\n",
              "      <th>0</th>\n",
              "      <td>2010-06-29</td>\n",
              "      <td>23.889999</td>\n",
              "      <td>23.889999</td>\n",
              "      <td>15.800000</td>\n",
              "      <td>17.459999</td>\n",
              "    </tr>\n",
              "    <tr>\n",
              "      <th>1</th>\n",
              "      <td>2010-07-09</td>\n",
              "      <td>17.400000</td>\n",
              "      <td>20.639999</td>\n",
              "      <td>17.049999</td>\n",
              "      <td>20.639999</td>\n",
              "    </tr>\n",
              "    <tr>\n",
              "      <th>2</th>\n",
              "      <td>2010-07-19</td>\n",
              "      <td>21.910000</td>\n",
              "      <td>21.910000</td>\n",
              "      <td>20.219999</td>\n",
              "      <td>20.719999</td>\n",
              "    </tr>\n",
              "    <tr>\n",
              "      <th>3</th>\n",
              "      <td>2010-07-29</td>\n",
              "      <td>20.350000</td>\n",
              "      <td>21.950001</td>\n",
              "      <td>19.590000</td>\n",
              "      <td>19.590000</td>\n",
              "    </tr>\n",
              "    <tr>\n",
              "      <th>4</th>\n",
              "      <td>2010-08-08</td>\n",
              "      <td>19.600000</td>\n",
              "      <td>19.600000</td>\n",
              "      <td>17.600000</td>\n",
              "      <td>19.150000</td>\n",
              "    </tr>\n",
              "  </tbody>\n",
              "</table>\n",
              "</div>"
            ],
            "text/plain": [
              "        Date       open       high        low      close\n",
              "0 2010-06-29  23.889999  23.889999  15.800000  17.459999\n",
              "1 2010-07-09  17.400000  20.639999  17.049999  20.639999\n",
              "2 2010-07-19  21.910000  21.910000  20.219999  20.719999\n",
              "3 2010-07-29  20.350000  21.950001  19.590000  19.590000\n",
              "4 2010-08-08  19.600000  19.600000  17.600000  19.150000"
            ]
          },
          "metadata": {
            "tags": []
          },
          "execution_count": 73
        }
      ]
    },
    {
      "cell_type": "code",
      "metadata": {
        "id": "H_J6H-TEgJA8",
        "colab_type": "code",
        "outputId": "595646f1-ae95-4027-f228-816924e4d1a5",
        "colab": {
          "base_uri": "https://localhost:8080/",
          "height": 204
        }
      },
      "source": [
        "data_ohlc['Date'] = data_ohlc['Date'].map(mdates.date2num)\n",
        "data_ohlc.head()"
      ],
      "execution_count": 74,
      "outputs": [
        {
          "output_type": "execute_result",
          "data": {
            "text/html": [
              "<div>\n",
              "<style scoped>\n",
              "    .dataframe tbody tr th:only-of-type {\n",
              "        vertical-align: middle;\n",
              "    }\n",
              "\n",
              "    .dataframe tbody tr th {\n",
              "        vertical-align: top;\n",
              "    }\n",
              "\n",
              "    .dataframe thead th {\n",
              "        text-align: right;\n",
              "    }\n",
              "</style>\n",
              "<table border=\"1\" class=\"dataframe\">\n",
              "  <thead>\n",
              "    <tr style=\"text-align: right;\">\n",
              "      <th></th>\n",
              "      <th>Date</th>\n",
              "      <th>open</th>\n",
              "      <th>high</th>\n",
              "      <th>low</th>\n",
              "      <th>close</th>\n",
              "    </tr>\n",
              "  </thead>\n",
              "  <tbody>\n",
              "    <tr>\n",
              "      <th>0</th>\n",
              "      <td>733952.0</td>\n",
              "      <td>23.889999</td>\n",
              "      <td>23.889999</td>\n",
              "      <td>15.800000</td>\n",
              "      <td>17.459999</td>\n",
              "    </tr>\n",
              "    <tr>\n",
              "      <th>1</th>\n",
              "      <td>733962.0</td>\n",
              "      <td>17.400000</td>\n",
              "      <td>20.639999</td>\n",
              "      <td>17.049999</td>\n",
              "      <td>20.639999</td>\n",
              "    </tr>\n",
              "    <tr>\n",
              "      <th>2</th>\n",
              "      <td>733972.0</td>\n",
              "      <td>21.910000</td>\n",
              "      <td>21.910000</td>\n",
              "      <td>20.219999</td>\n",
              "      <td>20.719999</td>\n",
              "    </tr>\n",
              "    <tr>\n",
              "      <th>3</th>\n",
              "      <td>733982.0</td>\n",
              "      <td>20.350000</td>\n",
              "      <td>21.950001</td>\n",
              "      <td>19.590000</td>\n",
              "      <td>19.590000</td>\n",
              "    </tr>\n",
              "    <tr>\n",
              "      <th>4</th>\n",
              "      <td>733992.0</td>\n",
              "      <td>19.600000</td>\n",
              "      <td>19.600000</td>\n",
              "      <td>17.600000</td>\n",
              "      <td>19.150000</td>\n",
              "    </tr>\n",
              "  </tbody>\n",
              "</table>\n",
              "</div>"
            ],
            "text/plain": [
              "       Date       open       high        low      close\n",
              "0  733952.0  23.889999  23.889999  15.800000  17.459999\n",
              "1  733962.0  17.400000  20.639999  17.049999  20.639999\n",
              "2  733972.0  21.910000  21.910000  20.219999  20.719999\n",
              "3  733982.0  20.350000  21.950001  19.590000  19.590000\n",
              "4  733992.0  19.600000  19.600000  17.600000  19.150000"
            ]
          },
          "metadata": {
            "tags": []
          },
          "execution_count": 74
        }
      ]
    },
    {
      "cell_type": "code",
      "metadata": {
        "id": "hk3J2782hvsc",
        "colab_type": "code",
        "outputId": "09f1a193-80bc-457e-ca3e-51138cef9e7c",
        "colab": {
          "base_uri": "https://localhost:8080/",
          "height": 34
        }
      },
      "source": [
        "type(data_ohlc['Date'])"
      ],
      "execution_count": 75,
      "outputs": [
        {
          "output_type": "execute_result",
          "data": {
            "text/plain": [
              "pandas.core.series.Series"
            ]
          },
          "metadata": {
            "tags": []
          },
          "execution_count": 75
        }
      ]
    },
    {
      "cell_type": "code",
      "metadata": {
        "id": "9lXE-Y4YiMrs",
        "colab_type": "code",
        "colab": {}
      },
      "source": [
        "# x-axis treates as date\n",
        "ax1.xaxis_date()"
      ],
      "execution_count": 0,
      "outputs": []
    },
    {
      "cell_type": "code",
      "metadata": {
        "id": "L-icL0AsiR-g",
        "colab_type": "code",
        "outputId": "3c236988-cb4f-4fc6-f326-a3bef0026679",
        "colab": {
          "base_uri": "https://localhost:8080/",
          "height": 265
        }
      },
      "source": [
        "ax1 = plt.subplot2grid((10,1), (0,0), rowspan=5, colspan=1)\n",
        "ax2 = plt.subplot2grid((10,1), (5,0), rowspan=5, colspan=1, sharex=ax1) #sharex=ax1\n",
        "\n",
        "candlestick_ohlc(ax1, data_ohlc.values, colorup='g')\n",
        "\n",
        "ax2.fill_between(data_vlume.index.map(mdates.date2num), data_vlume.values, 0)\n",
        "\n",
        "plt.show()"
      ],
      "execution_count": 77,
      "outputs": [
        {
          "output_type": "display_data",
          "data": {
            "image/png": "[encoded data removed]",
            "text/plain": [
              "<Figure size 432x288 with 2 Axes>"
            ]
          },
          "metadata": {
            "tags": []
          }
        }
      ]
    },
    {
      "cell_type": "markdown",
      "metadata": {
        "id": "MKxSXjutlvCy",
        "colab_type": "text"
      },
      "source": [
        "**Ichimoku cloud**\n",
        "\n",
        "* Tenkan-Sen – the conversion line\n",
        "* Kijun-Sen – the baseline\n",
        "* Chikou Span- lagging span\n",
        "* Senkou Span A- leading span A\n",
        "* Senkou Span B – leading span B\n",
        "\n",
        "**Calculation**\n",
        "* Kijun-sen = (26-day high + 26-day low) / 2\n",
        "* Tenkan-sen = (9-day high + 9-day low) / 2\n",
        "* Senkou Span B = (52-day high + 52-day low) / 2\n",
        "* Senkou Span A = (Tenkan-sen + Kijun-sen) / 2\n",
        "* Chikou Span = Close plotted 26 days in the past"
      ]
    },
    {
      "cell_type": "code",
      "metadata": {
        "id": "joVtw5Bzjnnc",
        "colab_type": "code",
        "outputId": "43ee300e-c743-4357-f49d-b8e46190c868",
        "colab": {
          "base_uri": "https://localhost:8080/",
          "height": 235
        }
      },
      "source": [
        "# The baseline\n",
        "\n",
        "data_H_L = data[['High','Low']]\n",
        "data_H_L.head()"
      ],
      "execution_count": 78,
      "outputs": [
        {
          "output_type": "execute_result",
          "data": {
            "text/html": [
              "<div>\n",
              "<style scoped>\n",
              "    .dataframe tbody tr th:only-of-type {\n",
              "        vertical-align: middle;\n",
              "    }\n",
              "\n",
              "    .dataframe tbody tr th {\n",
              "        vertical-align: top;\n",
              "    }\n",
              "\n",
              "    .dataframe thead th {\n",
              "        text-align: right;\n",
              "    }\n",
              "</style>\n",
              "<table border=\"1\" class=\"dataframe\">\n",
              "  <thead>\n",
              "    <tr style=\"text-align: right;\">\n",
              "      <th></th>\n",
              "      <th>High</th>\n",
              "      <th>Low</th>\n",
              "    </tr>\n",
              "    <tr>\n",
              "      <th>Date</th>\n",
              "      <th></th>\n",
              "      <th></th>\n",
              "    </tr>\n",
              "  </thead>\n",
              "  <tbody>\n",
              "    <tr>\n",
              "      <th>2010-06-29</th>\n",
              "      <td>25.00</td>\n",
              "      <td>17.540001</td>\n",
              "    </tr>\n",
              "    <tr>\n",
              "      <th>2010-06-30</th>\n",
              "      <td>30.42</td>\n",
              "      <td>23.299999</td>\n",
              "    </tr>\n",
              "    <tr>\n",
              "      <th>2010-07-01</th>\n",
              "      <td>25.92</td>\n",
              "      <td>20.270000</td>\n",
              "    </tr>\n",
              "    <tr>\n",
              "      <th>2010-07-02</th>\n",
              "      <td>23.10</td>\n",
              "      <td>18.709999</td>\n",
              "    </tr>\n",
              "    <tr>\n",
              "      <th>2010-07-06</th>\n",
              "      <td>20.00</td>\n",
              "      <td>15.830000</td>\n",
              "    </tr>\n",
              "  </tbody>\n",
              "</table>\n",
              "</div>"
            ],
            "text/plain": [
              "             High        Low\n",
              "Date                        \n",
              "2010-06-29  25.00  17.540001\n",
              "2010-06-30  30.42  23.299999\n",
              "2010-07-01  25.92  20.270000\n",
              "2010-07-02  23.10  18.709999\n",
              "2010-07-06  20.00  15.830000"
            ]
          },
          "metadata": {
            "tags": []
          },
          "execution_count": 78
        }
      ]
    },
    {
      "cell_type": "code",
      "metadata": {
        "id": "us3NIuLLmwoP",
        "colab_type": "code",
        "outputId": "3da5aa9e-c7af-4e38-b018-b9620d9e94f5",
        "colab": {
          "base_uri": "https://localhost:8080/",
          "height": 170
        }
      },
      "source": [
        "data_H_L.info()"
      ],
      "execution_count": 79,
      "outputs": [
        {
          "output_type": "stream",
          "text": [
            "<class 'pandas.core.frame.DataFrame'>\n",
            "DatetimeIndex: 1640 entries, 2010-06-29 to 2016-12-30\n",
            "Data columns (total 2 columns):\n",
            " #   Column  Non-Null Count  Dtype  \n",
            "---  ------  --------------  -----  \n",
            " 0   High    1640 non-null   float64\n",
            " 1   Low     1640 non-null   float64\n",
            "dtypes: float64(2)\n",
            "memory usage: 38.4 KB\n"
          ],
          "name": "stdout"
        }
      ]
    },
    {
      "cell_type": "code",
      "metadata": {
        "id": "F0e1nqLGnAkN",
        "colab_type": "code",
        "colab": {}
      },
      "source": [
        "baseline = (data['High'].rolling(window=26).max() + data['Low'].rolling(window=26).min())/2"
      ],
      "execution_count": 0,
      "outputs": []
    },
    {
      "cell_type": "code",
      "metadata": {
        "id": "gqrjv5AznaHM",
        "colab_type": "code",
        "outputId": "cda429e5-3cce-4fc6-fea1-d055fae88309",
        "colab": {
          "base_uri": "https://localhost:8080/",
          "height": 238
        }
      },
      "source": [
        "baseline"
      ],
      "execution_count": 81,
      "outputs": [
        {
          "output_type": "execute_result",
          "data": {
            "text/plain": [
              "Date\n",
              "2010-06-29           NaN\n",
              "2010-06-30           NaN\n",
              "2010-07-01           NaN\n",
              "2010-07-02           NaN\n",
              "2010-07-06           NaN\n",
              "                 ...    \n",
              "2016-12-23    196.724998\n",
              "2016-12-27    201.125000\n",
              "2016-12-28    201.900002\n",
              "2016-12-29    201.900002\n",
              "2016-12-30    201.900002\n",
              "Length: 1640, dtype: float64"
            ]
          },
          "metadata": {
            "tags": []
          },
          "execution_count": 81
        }
      ]
    },
    {
      "cell_type": "code",
      "metadata": {
        "id": "WoxjNdVca9B-",
        "colab_type": "code",
        "outputId": "7a43a9a6-bd5d-4d74-ef12-43b483324a0b",
        "colab": {
          "base_uri": "https://localhost:8080/",
          "height": 235
        }
      },
      "source": [
        "data[\"base_line\"] = baseline\n",
        "data.tail()"
      ],
      "execution_count": 82,
      "outputs": [
        {
          "output_type": "execute_result",
          "data": {
            "text/html": [
              "<div>\n",
              "<style scoped>\n",
              "    .dataframe tbody tr th:only-of-type {\n",
              "        vertical-align: middle;\n",
              "    }\n",
              "\n",
              "    .dataframe tbody tr th {\n",
              "        vertical-align: top;\n",
              "    }\n",
              "\n",
              "    .dataframe thead th {\n",
              "        text-align: right;\n",
              "    }\n",
              "</style>\n",
              "<table border=\"1\" class=\"dataframe\">\n",
              "  <thead>\n",
              "    <tr style=\"text-align: right;\">\n",
              "      <th></th>\n",
              "      <th>High</th>\n",
              "      <th>Low</th>\n",
              "      <th>Open</th>\n",
              "      <th>Close</th>\n",
              "      <th>Volume</th>\n",
              "      <th>Adj Close</th>\n",
              "      <th>100ma</th>\n",
              "      <th>base_line</th>\n",
              "    </tr>\n",
              "    <tr>\n",
              "      <th>Date</th>\n",
              "      <th></th>\n",
              "      <th></th>\n",
              "      <th></th>\n",
              "      <th></th>\n",
              "      <th></th>\n",
              "      <th></th>\n",
              "      <th></th>\n",
              "      <th></th>\n",
              "    </tr>\n",
              "  </thead>\n",
              "  <tbody>\n",
              "    <tr>\n",
              "      <th>2016-12-23</th>\n",
              "      <td>213.449997</td>\n",
              "      <td>207.710007</td>\n",
              "      <td>208.000000</td>\n",
              "      <td>213.339996</td>\n",
              "      <td>4670500</td>\n",
              "      <td>213.339996</td>\n",
              "      <td>202.6190</td>\n",
              "      <td>196.724998</td>\n",
              "    </tr>\n",
              "    <tr>\n",
              "      <th>2016-12-27</th>\n",
              "      <td>222.250000</td>\n",
              "      <td>214.419998</td>\n",
              "      <td>214.880005</td>\n",
              "      <td>219.529999</td>\n",
              "      <td>5915700</td>\n",
              "      <td>219.529999</td>\n",
              "      <td>202.5082</td>\n",
              "      <td>201.125000</td>\n",
              "    </tr>\n",
              "    <tr>\n",
              "      <th>2016-12-28</th>\n",
              "      <td>223.800003</td>\n",
              "      <td>217.199997</td>\n",
              "      <td>221.529999</td>\n",
              "      <td>219.740005</td>\n",
              "      <td>3782500</td>\n",
              "      <td>219.740005</td>\n",
              "      <td>202.4053</td>\n",
              "      <td>201.900002</td>\n",
              "    </tr>\n",
              "    <tr>\n",
              "      <th>2016-12-29</th>\n",
              "      <td>219.199997</td>\n",
              "      <td>214.119995</td>\n",
              "      <td>218.559998</td>\n",
              "      <td>214.679993</td>\n",
              "      <td>4045000</td>\n",
              "      <td>214.679993</td>\n",
              "      <td>202.2905</td>\n",
              "      <td>201.900002</td>\n",
              "    </tr>\n",
              "    <tr>\n",
              "      <th>2016-12-30</th>\n",
              "      <td>217.500000</td>\n",
              "      <td>211.679993</td>\n",
              "      <td>216.300003</td>\n",
              "      <td>213.690002</td>\n",
              "      <td>4642600</td>\n",
              "      <td>213.690002</td>\n",
              "      <td>202.1366</td>\n",
              "      <td>201.900002</td>\n",
              "    </tr>\n",
              "  </tbody>\n",
              "</table>\n",
              "</div>"
            ],
            "text/plain": [
              "                  High         Low  ...     100ma   base_line\n",
              "Date                                ...                      \n",
              "2016-12-23  213.449997  207.710007  ...  202.6190  196.724998\n",
              "2016-12-27  222.250000  214.419998  ...  202.5082  201.125000\n",
              "2016-12-28  223.800003  217.199997  ...  202.4053  201.900002\n",
              "2016-12-29  219.199997  214.119995  ...  202.2905  201.900002\n",
              "2016-12-30  217.500000  211.679993  ...  202.1366  201.900002\n",
              "\n",
              "[5 rows x 8 columns]"
            ]
          },
          "metadata": {
            "tags": []
          },
          "execution_count": 82
        }
      ]
    },
    {
      "cell_type": "code",
      "metadata": {
        "id": "rbyTfxwKZlPf",
        "colab_type": "code",
        "outputId": "2fd1d147-9283-4580-f452-99d5d3903d70",
        "colab": {
          "base_uri": "https://localhost:8080/",
          "height": 290
        }
      },
      "source": [
        "# Baseline Ploting\n",
        "\n",
        "data[['High', 'Low', 'Close', 'base_line']].plot()"
      ],
      "execution_count": 83,
      "outputs": [
        {
          "output_type": "execute_result",
          "data": {
            "text/plain": [
              "<matplotlib.axes._subplots.AxesSubplot at 0x7fbc64a1fdd8>"
            ]
          },
          "metadata": {
            "tags": []
          },
          "execution_count": 83
        },
        {
          "output_type": "display_data",
          "data": {
            "image/png": "[encoded data removed]",
            "text/plain": [
              "<Figure size 432x288 with 1 Axes>"
            ]
          },
          "metadata": {
            "tags": []
          }
        }
      ]
    },
    {
      "cell_type": "code",
      "metadata": {
        "id": "97ZVsgRhnbL8",
        "colab_type": "code",
        "colab": {}
      },
      "source": [
        "# baseline 26"
      ],
      "execution_count": 0,
      "outputs": []
    },
    {
      "cell_type": "code",
      "metadata": {
        "id": "tfy5wrEJU1r0",
        "colab_type": "code",
        "colab": {}
      },
      "source": [
        "# The Conversion/Turning line\n",
        "\n",
        "Turning_line = (data['High'].rolling(window=9).max() + data['Low'].rolling(window=9).min())/2"
      ],
      "execution_count": 0,
      "outputs": []
    },
    {
      "cell_type": "code",
      "metadata": {
        "id": "Ksk6xEeqXmgE",
        "colab_type": "code",
        "outputId": "8913f090-edfc-45d3-ae25-e2dfa0f41fae",
        "colab": {
          "base_uri": "https://localhost:8080/",
          "height": 391
        }
      },
      "source": [
        "Turning_line.head(20)"
      ],
      "execution_count": 86,
      "outputs": [
        {
          "output_type": "execute_result",
          "data": {
            "text/plain": [
              "Date\n",
              "2010-06-29       NaN\n",
              "2010-06-30       NaN\n",
              "2010-07-01       NaN\n",
              "2010-07-02       NaN\n",
              "2010-07-06       NaN\n",
              "2010-07-07       NaN\n",
              "2010-07-08       NaN\n",
              "2010-07-09       NaN\n",
              "2010-07-12    22.700\n",
              "2010-07-13    22.700\n",
              "2010-07-14    20.450\n",
              "2010-07-15    19.040\n",
              "2010-07-16    18.240\n",
              "2010-07-19    18.615\n",
              "2010-07-20    18.910\n",
              "2010-07-21    19.400\n",
              "2010-07-22    19.575\n",
              "2010-07-23    19.575\n",
              "2010-07-26    20.005\n",
              "2010-07-27    20.625\n",
              "dtype: float64"
            ]
          },
          "metadata": {
            "tags": []
          },
          "execution_count": 86
        }
      ]
    },
    {
      "cell_type": "code",
      "metadata": {
        "id": "72qCWKJTYn6g",
        "colab_type": "code",
        "outputId": "cb398145-f6fa-48c5-8528-52ff06a99b8d",
        "colab": {
          "base_uri": "https://localhost:8080/",
          "height": 235
        }
      },
      "source": [
        "# Adding a Turning line coloumn in data\n",
        "\n",
        "data['TurningLine'] = Turning_line\n",
        "data.tail()"
      ],
      "execution_count": 87,
      "outputs": [
        {
          "output_type": "execute_result",
          "data": {
            "text/html": [
              "<div>\n",
              "<style scoped>\n",
              "    .dataframe tbody tr th:only-of-type {\n",
              "        vertical-align: middle;\n",
              "    }\n",
              "\n",
              "    .dataframe tbody tr th {\n",
              "        vertical-align: top;\n",
              "    }\n",
              "\n",
              "    .dataframe thead th {\n",
              "        text-align: right;\n",
              "    }\n",
              "</style>\n",
              "<table border=\"1\" class=\"dataframe\">\n",
              "  <thead>\n",
              "    <tr style=\"text-align: right;\">\n",
              "      <th></th>\n",
              "      <th>High</th>\n",
              "      <th>Low</th>\n",
              "      <th>Open</th>\n",
              "      <th>Close</th>\n",
              "      <th>Volume</th>\n",
              "      <th>Adj Close</th>\n",
              "      <th>100ma</th>\n",
              "      <th>base_line</th>\n",
              "      <th>TurningLine</th>\n",
              "    </tr>\n",
              "    <tr>\n",
              "      <th>Date</th>\n",
              "      <th></th>\n",
              "      <th></th>\n",
              "      <th></th>\n",
              "      <th></th>\n",
              "      <th></th>\n",
              "      <th></th>\n",
              "      <th></th>\n",
              "      <th></th>\n",
              "      <th></th>\n",
              "    </tr>\n",
              "  </thead>\n",
              "  <tbody>\n",
              "    <tr>\n",
              "      <th>2016-12-23</th>\n",
              "      <td>213.449997</td>\n",
              "      <td>207.710007</td>\n",
              "      <td>208.000000</td>\n",
              "      <td>213.339996</td>\n",
              "      <td>4670500</td>\n",
              "      <td>213.339996</td>\n",
              "      <td>202.6190</td>\n",
              "      <td>196.724998</td>\n",
              "      <td>203.224998</td>\n",
              "    </tr>\n",
              "    <tr>\n",
              "      <th>2016-12-27</th>\n",
              "      <td>222.250000</td>\n",
              "      <td>214.419998</td>\n",
              "      <td>214.880005</td>\n",
              "      <td>219.529999</td>\n",
              "      <td>5915700</td>\n",
              "      <td>219.529999</td>\n",
              "      <td>202.5082</td>\n",
              "      <td>201.125000</td>\n",
              "      <td>209.504997</td>\n",
              "    </tr>\n",
              "    <tr>\n",
              "      <th>2016-12-28</th>\n",
              "      <td>223.800003</td>\n",
              "      <td>217.199997</td>\n",
              "      <td>221.529999</td>\n",
              "      <td>219.740005</td>\n",
              "      <td>3782500</td>\n",
              "      <td>219.740005</td>\n",
              "      <td>202.4053</td>\n",
              "      <td>201.900002</td>\n",
              "      <td>210.595001</td>\n",
              "    </tr>\n",
              "    <tr>\n",
              "      <th>2016-12-29</th>\n",
              "      <td>219.199997</td>\n",
              "      <td>214.119995</td>\n",
              "      <td>218.559998</td>\n",
              "      <td>214.679993</td>\n",
              "      <td>4045000</td>\n",
              "      <td>214.679993</td>\n",
              "      <td>202.2905</td>\n",
              "      <td>201.900002</td>\n",
              "      <td>210.700005</td>\n",
              "    </tr>\n",
              "    <tr>\n",
              "      <th>2016-12-30</th>\n",
              "      <td>217.500000</td>\n",
              "      <td>211.679993</td>\n",
              "      <td>216.300003</td>\n",
              "      <td>213.690002</td>\n",
              "      <td>4642600</td>\n",
              "      <td>213.690002</td>\n",
              "      <td>202.1366</td>\n",
              "      <td>201.900002</td>\n",
              "      <td>211.820000</td>\n",
              "    </tr>\n",
              "  </tbody>\n",
              "</table>\n",
              "</div>"
            ],
            "text/plain": [
              "                  High         Low  ...   base_line  TurningLine\n",
              "Date                                ...                         \n",
              "2016-12-23  213.449997  207.710007  ...  196.724998   203.224998\n",
              "2016-12-27  222.250000  214.419998  ...  201.125000   209.504997\n",
              "2016-12-28  223.800003  217.199997  ...  201.900002   210.595001\n",
              "2016-12-29  219.199997  214.119995  ...  201.900002   210.700005\n",
              "2016-12-30  217.500000  211.679993  ...  201.900002   211.820000\n",
              "\n",
              "[5 rows x 9 columns]"
            ]
          },
          "metadata": {
            "tags": []
          },
          "execution_count": 87
        }
      ]
    },
    {
      "cell_type": "code",
      "metadata": {
        "id": "iMm-azvJXw13",
        "colab_type": "code",
        "outputId": "234bcefd-e6c8-4c27-c59c-bd6ede369e72",
        "colab": {
          "base_uri": "https://localhost:8080/",
          "height": 290
        }
      },
      "source": [
        "data[['High','Low','Open','Close','base_line','TurningLine']].plot()"
      ],
      "execution_count": 88,
      "outputs": [
        {
          "output_type": "execute_result",
          "data": {
            "text/plain": [
              "<matplotlib.axes._subplots.AxesSubplot at 0x7fbc6413b0b8>"
            ]
          },
          "metadata": {
            "tags": []
          },
          "execution_count": 88
        },
        {
          "output_type": "display_data",
          "data": {
            "image/png": "[encoded data removed]",
            "text/plain": [
              "<Figure size 432x288 with 1 Axes>"
            ]
          },
          "metadata": {
            "tags": []
          }
        }
      ]
    },
    {
      "cell_type": "code",
      "metadata": {
        "id": "Tthj4OlQX-CP",
        "colab_type": "code",
        "outputId": "98c9d50c-4635-4627-c606-89854a8e84b3",
        "colab": {
          "base_uri": "https://localhost:8080/",
          "height": 592
        }
      },
      "source": [
        "plt.figure(figsize=(20,10))\n",
        "plt.plot(data[['High','Low','Open','Close','base_line','TurningLine']])\n",
        "plt.show()"
      ],
      "execution_count": 89,
      "outputs": [
        {
          "output_type": "display_data",
          "data": {
            "image/png": "[encoded data removed]",
            "text/plain": [
              "<Figure size 1440x720 with 1 Axes>"
            ]
          },
          "metadata": {
            "tags": []
          }
        }
      ]
    },
    {
      "cell_type": "code",
      "metadata": {
        "id": "9sqgs_gDyd1U",
        "colab_type": "code",
        "colab": {}
      },
      "source": [
        "# import plot tools for zoom etc\n",
        "# pip install plottools\n",
        "# import plottools\n",
        "\n",
        "import mpl_toolkits as plttools"
      ],
      "execution_count": 0,
      "outputs": []
    },
    {
      "cell_type": "code",
      "metadata": {
        "id": "M_x1VvEAuV72",
        "colab_type": "code",
        "outputId": "5a7ea89a-7f75-4a5b-b506-9c1409cd4cb3",
        "colab": {
          "base_uri": "https://localhost:8080/",
          "height": 320
        }
      },
      "source": [
        "# Zooming Plots\n",
        "\n",
        "\n",
        "plt.figure(figsize=(10,5))\n",
        "plt.plot(data[['High','Low','Open','Close','base_line','TurningLine']])\n",
        "# plt.margins()\n",
        "# plt.xscale('symlog',linthreshx=2016)\n",
        "\n",
        "plt.show()"
      ],
      "execution_count": 91,
      "outputs": [
        {
          "output_type": "display_data",
          "data": {
            "image/png": "[encoded data removed]",
            "text/plain": [
              "<Figure size 720x360 with 1 Axes>"
            ]
          },
          "metadata": {
            "tags": []
          }
        }
      ]
    },
    {
      "cell_type": "markdown",
      "metadata": {
        "id": "fXEYKAGA00vL",
        "colab_type": "text"
      },
      "source": [
        "**https://www.babypips.com/learn/forex/ichimoku-kinko-hyo**\n",
        "**https://stackoverflow.com/questions/28477222/python-pandas-calculate-ichimoku-chart-components**\n",
        "**https://blog.quantinsti.com/ichimoku-cloud-trading-strategy/**\n",
        "**http://akuederle.com/matplotlib-zoomed-up-inset**\n",
        "**https://matplotlib.org/1.3.1/mpl_toolkits/axes_grid/users/overview.html**"
      ]
    },
    {
      "cell_type": "code",
      "metadata": {
        "id": "BCSAvsPZvgTy",
        "colab_type": "code",
        "colab": {}
      },
      "source": [
        ""
      ],
      "execution_count": 0,
      "outputs": []
    },
    {
      "cell_type": "code",
      "metadata": {
        "id": "MbUCh6NpmzzN",
        "colab_type": "code",
        "colab": {}
      },
      "source": [
        ""
      ],
      "execution_count": 0,
      "outputs": []
    },
    {
      "cell_type": "code",
      "metadata": {
        "id": "OEpcoosZmz4y",
        "colab_type": "code",
        "colab": {}
      },
      "source": [
        "# Web scrapping\n",
        "\n",
        "import bs4 as bs\n",
        "import pickle\n",
        "import requests"
      ],
      "execution_count": 0,
      "outputs": []
    },
    {
      "cell_type": "code",
      "metadata": {
        "id": "vPnNJ2mRnOKK",
        "colab_type": "code",
        "outputId": "8a00e534-cd84-44c0-c472-b2033e920671",
        "colab": {
          "base_uri": "https://localhost:8080/",
          "height": 1000
        }
      },
      "source": [
        "# make a function to save data into script not going again and again to web\n",
        "\n",
        "def save_sp500_data():\n",
        "  response = requests.get(\"https://en.wikipedia.org/wiki/List_of_S%26P_500_companies\")\n",
        "  soup = bs.BeautifulSoup(response.text, 'lxml')\n",
        "  table = soup.find('table', {'class':'wikitable sortable'})\n",
        "  trickers = []\n",
        "  for row in table.findAll(\"tr\")[1:]:\n",
        "    tricker = row.findAll(\"td\")[0].text\n",
        "    trickers.append(tricker)\n",
        "\n",
        "  with open(\"sp500trickers.pickle\",\"wb\") as f:\n",
        "    pickle.dump(trickers, f)\n",
        "  \n",
        "  print(trickers)\n",
        "\n",
        "  return trickers\n",
        "\n",
        "\n",
        "save_sp500_data()"
      ],
      "execution_count": 95,
      "outputs": [
        {
          "output_type": "stream",
          "text": [
            "['MMM\\n', 'ABT\\n', 'ABBV\\n', 'ABMD\\n', 'ACN\\n', 'ATVI\\n', 'ADBE\\n', 'AMD\\n', 'AAP\\n', 'AES\\n', 'AFL\\n', 'A\\n', 'APD\\n', 'AKAM\\n', 'ALK\\n', 'ALB\\n', 'ARE\\n', 'ALXN\\n', 'ALGN\\n', 'ALLE\\n', 'AGN\\n', 'ADS\\n', 'LNT\\n', 'ALL\\n', 'GOOGL\\n', 'GOOG\\n', 'MO\\n', 'AMZN\\n', 'AMCR\\n', 'AEE\\n', 'AAL\\n', 'AEP\\n', 'AXP\\n', 'AIG\\n', 'AMT\\n', 'AWK\\n', 'AMP\\n', 'ABC\\n', 'AME\\n', 'AMGN\\n', 'APH\\n', 'ADI\\n', 'ANSS\\n', 'ANTM\\n', 'AON\\n', 'AOS\\n', 'APA\\n', 'AIV\\n', 'AAPL\\n', 'AMAT\\n', 'APTV\\n', 'ADM\\n', 'ANET\\n', 'AJG\\n', 'AIZ\\n', 'T\\n', 'ATO\\n', 'ADSK\\n', 'ADP\\n', 'AZO\\n', 'AVB\\n', 'AVY\\n', 'BKR\\n', 'BLL\\n', 'BAC\\n', 'BK\\n', 'BAX\\n', 'BDX\\n', 'BRK.B\\n', 'BBY\\n', 'BIIB\\n', 'BLK\\n', 'BA\\n', 'BKNG\\n', 'BWA\\n', 'BXP\\n', 'BSX\\n', 'BMY\\n', 'AVGO\\n', 'BR\\n', 'BF.B\\n', 'CHRW\\n', 'COG\\n', 'CDNS\\n', 'CPB\\n', 'COF\\n', 'CPRI\\n', 'CAH\\n', 'KMX\\n', 'CCL\\n', 'CARR\\n', 'CAT\\n', 'CBOE\\n', 'CBRE\\n', 'CDW\\n', 'CE\\n', 'CNC\\n', 'CNP\\n', 'CTL\\n', 'CERN\\n', 'CF\\n', 'SCHW\\n', 'CHTR\\n', 'CVX\\n', 'CMG\\n', 'CB\\n', 'CHD\\n', 'CI\\n', 'CINF\\n', 'CTAS\\n', 'CSCO\\n', 'C\\n', 'CFG\\n', 'CTXS\\n', 'CLX\\n', 'CME\\n', 'CMS\\n', 'KO\\n', 'CTSH\\n', 'CL\\n', 'CMCSA\\n', 'CMA\\n', 'CAG\\n', 'CXO\\n', 'COP\\n', 'ED\\n', 'STZ\\n', 'COO\\n', 'CPRT\\n', 'GLW\\n', 'CTVA\\n', 'COST\\n', 'COTY\\n', 'CCI\\n', 'CSX\\n', 'CMI\\n', 'CVS\\n', 'DHI\\n', 'DHR\\n', 'DRI\\n', 'DVA\\n', 'DE\\n', 'DAL\\n', 'XRAY\\n', 'DVN\\n', 'FANG\\n', 'DLR\\n', 'DFS\\n', 'DISCA\\n', 'DISCK\\n', 'DISH\\n', 'DG\\n', 'DLTR\\n', 'D\\n', 'DOV\\n', 'DOW\\n', 'DTE\\n', 'DUK\\n', 'DRE\\n', 'DD\\n', 'DXC\\n', 'ETFC\\n', 'EMN\\n', 'ETN\\n', 'EBAY\\n', 'ECL\\n', 'EIX\\n', 'EW\\n', 'EA\\n', 'EMR\\n', 'ETR\\n', 'EOG\\n', 'EFX\\n', 'EQIX\\n', 'EQR\\n', 'ESS\\n', 'EL\\n', 'EVRG\\n', 'ES\\n', 'RE\\n', 'EXC\\n', 'EXPE\\n', 'EXPD\\n', 'EXR\\n', 'XOM\\n', 'FFIV\\n', 'FB\\n', 'FAST\\n', 'FRT\\n', 'FDX\\n', 'FIS\\n', 'FITB\\n', 'FE\\n', 'FRC\\n', 'FISV\\n', 'FLT\\n', 'FLIR\\n', 'FLS\\n', 'FMC\\n', 'F\\n', 'FTNT\\n', 'FTV\\n', 'FBHS\\n', 'FOXA\\n', 'FOX\\n', 'BEN\\n', 'FCX\\n', 'GPS\\n', 'GRMN\\n', 'IT\\n', 'GD\\n', 'GE\\n', 'GIS\\n', 'GM\\n', 'GPC\\n', 'GILD\\n', 'GL\\n', 'GPN\\n', 'GS\\n', 'GWW\\n', 'HRB\\n', 'HAL\\n', 'HBI\\n', 'HOG\\n', 'HIG\\n', 'HAS\\n', 'HCA\\n', 'PEAK\\n', 'HP\\n', 'HSIC\\n', 'HSY\\n', 'HES\\n', 'HPE\\n', 'HLT\\n', 'HFC\\n', 'HOLX\\n', 'HD\\n', 'HON\\n', 'HRL\\n', 'HST\\n', 'HWM\\n', 'HPQ\\n', 'HUM\\n', 'HBAN\\n', 'HII\\n', 'IEX\\n', 'IDXX\\n', 'INFO\\n', 'ITW\\n', 'ILMN\\n', 'INCY\\n', 'IR\\n', 'INTC\\n', 'ICE\\n', 'IBM\\n', 'IP\\n', 'IPG\\n', 'IFF\\n', 'INTU\\n', 'ISRG\\n', 'IVZ\\n', 'IPGP\\n', 'IQV\\n', 'IRM\\n', 'JKHY\\n', 'J\\n', 'JBHT\\n', 'SJM\\n', 'JNJ\\n', 'JCI\\n', 'JPM\\n', 'JNPR\\n', 'KSU\\n', 'K\\n', 'KEY\\n', 'KEYS\\n', 'KMB\\n', 'KIM\\n', 'KMI\\n', 'KLAC\\n', 'KSS\\n', 'KHC\\n', 'KR\\n', 'LB\\n', 'LHX\\n', 'LH\\n', 'LRCX\\n', 'LW\\n', 'LVS\\n', 'LEG\\n', 'LDOS\\n', 'LEN\\n', 'LLY\\n', 'LNC\\n', 'LIN\\n', 'LYV\\n', 'LKQ\\n', 'LMT\\n', 'L\\n', 'LOW\\n', 'LYB\\n', 'MTB\\n', 'MRO\\n', 'MPC\\n', 'MKTX\\n', 'MAR\\n', 'MMC\\n', 'MLM\\n', 'MAS\\n', 'MA\\n', 'MKC\\n', 'MXIM\\n', 'MCD\\n', 'MCK\\n', 'MDT\\n', 'MRK\\n', 'MET\\n', 'MTD\\n', 'MGM\\n', 'MCHP\\n', 'MU\\n', 'MSFT\\n', 'MAA\\n', 'MHK\\n', 'TAP\\n', 'MDLZ\\n', 'MNST\\n', 'MCO\\n', 'MS\\n', 'MOS\\n', 'MSI\\n', 'MSCI\\n', 'MYL\\n', 'NDAQ\\n', 'NOV\\n', 'NTAP\\n', 'NFLX\\n', 'NWL\\n', 'NEM\\n', 'NWSA\\n', 'NWS\\n', 'NEE\\n', 'NLSN\\n', 'NKE\\n', 'NI\\n', 'NBL\\n', 'JWN\\n', 'NSC\\n', 'NTRS\\n', 'NOC\\n', 'NLOK\\n', 'NCLH\\n', 'NRG\\n', 'NUE\\n', 'NVDA\\n', 'NVR\\n', 'ORLY\\n', 'OXY\\n', 'ODFL\\n', 'OMC\\n', 'OKE\\n', 'ORCL\\n', 'OTIS\\n', 'PCAR\\n', 'PKG\\n', 'PH\\n', 'PAYX\\n', 'PAYC\\n', 'PYPL\\n', 'PNR\\n', 'PBCT\\n', 'PEP\\n', 'PKI\\n', 'PRGO\\n', 'PFE\\n', 'PM\\n', 'PSX\\n', 'PNW\\n', 'PXD\\n', 'PNC\\n', 'PPG\\n', 'PPL\\n', 'PFG\\n', 'PG\\n', 'PGR\\n', 'PLD\\n', 'PRU\\n', 'PEG\\n', 'PSA\\n', 'PHM\\n', 'PVH\\n', 'QRVO\\n', 'PWR\\n', 'QCOM\\n', 'DGX\\n', 'RL\\n', 'RJF\\n', 'RTX\\n', 'O\\n', 'REG\\n', 'REGN\\n', 'RF\\n', 'RSG\\n', 'RMD\\n', 'RHI\\n', 'ROK\\n', 'ROL\\n', 'ROP\\n', 'ROST\\n', 'RCL\\n', 'SPGI\\n', 'CRM\\n', 'SBAC\\n', 'SLB\\n', 'STX\\n', 'SEE\\n', 'SRE\\n', 'NOW\\n', 'SHW\\n', 'SPG\\n', 'SWKS\\n', 'SLG\\n', 'SNA\\n', 'SO\\n', 'LUV\\n', 'SWK\\n', 'SBUX\\n', 'STT\\n', 'STE\\n', 'SYK\\n', 'SIVB\\n', 'SYF\\n', 'SNPS\\n', 'SYY\\n', 'TMUS\\n', 'TROW\\n', 'TTWO\\n', 'TPR\\n', 'TGT\\n', 'TEL\\n', 'FTI\\n', 'TFX\\n', 'TXN\\n', 'TXT\\n', 'TMO\\n', 'TIF\\n', 'TJX\\n', 'TSCO\\n', 'TT\\n', 'TDG\\n', 'TRV\\n', 'TFC\\n', 'TWTR\\n', 'TSN\\n', 'UDR\\n', 'ULTA\\n', 'USB\\n', 'UAA\\n', 'UA\\n', 'UNP\\n', 'UAL\\n', 'UNH\\n', 'UPS\\n', 'URI\\n', 'UHS\\n', 'UNM\\n', 'VFC\\n', 'VLO\\n', 'VAR\\n', 'VTR\\n', 'VRSN\\n', 'VRSK\\n', 'VZ\\n', 'VRTX\\n', 'VIAC\\n', 'V\\n', 'VNO\\n', 'VMC\\n', 'WRB\\n', 'WAB\\n', 'WMT\\n', 'WBA\\n', 'DIS\\n', 'WM\\n', 'WAT\\n', 'WEC\\n', 'WFC\\n', 'WELL\\n', 'WDC\\n', 'WU\\n', 'WRK\\n', 'WY\\n', 'WHR\\n', 'WMB\\n', 'WLTW\\n', 'WYNN\\n', 'XEL\\n', 'XRX\\n', 'XLNX\\n', 'XYL\\n', 'YUM\\n', 'ZBRA\\n', 'ZBH\\n', 'ZION\\n', 'ZTS\\n']\n"
          ],
          "name": "stdout"
        },
        {
          "output_type": "execute_result",
          "data": {
            "text/plain": [
              "['MMM\\n',\n",
              " 'ABT\\n',\n",
              " 'ABBV\\n',\n",
              " 'ABMD\\n',\n",
              " 'ACN\\n',\n",
              " 'ATVI\\n',\n",
              " 'ADBE\\n',\n",
              " 'AMD\\n',\n",
              " 'AAP\\n',\n",
              " 'AES\\n',\n",
              " 'AFL\\n',\n",
              " 'A\\n',\n",
              " 'APD\\n',\n",
              " 'AKAM\\n',\n",
              " 'ALK\\n',\n",
              " 'ALB\\n',\n",
              " 'ARE\\n',\n",
              " 'ALXN\\n',\n",
              " 'ALGN\\n',\n",
              " 'ALLE\\n',\n",
              " 'AGN\\n',\n",
              " 'ADS\\n',\n",
              " 'LNT\\n',\n",
              " 'ALL\\n',\n",
              " 'GOOGL\\n',\n",
              " 'GOOG\\n',\n",
              " 'MO\\n',\n",
              " 'AMZN\\n',\n",
              " 'AMCR\\n',\n",
              " 'AEE\\n',\n",
              " 'AAL\\n',\n",
              " 'AEP\\n',\n",
              " 'AXP\\n',\n",
              " 'AIG\\n',\n",
              " 'AMT\\n',\n",
              " 'AWK\\n',\n",
              " 'AMP\\n',\n",
              " 'ABC\\n',\n",
              " 'AME\\n',\n",
              " 'AMGN\\n',\n",
              " 'APH\\n',\n",
              " 'ADI\\n',\n",
              " 'ANSS\\n',\n",
              " 'ANTM\\n',\n",
              " 'AON\\n',\n",
              " 'AOS\\n',\n",
              " 'APA\\n',\n",
              " 'AIV\\n',\n",
              " 'AAPL\\n',\n",
              " 'AMAT\\n',\n",
              " 'APTV\\n',\n",
              " 'ADM\\n',\n",
              " 'ANET\\n',\n",
              " 'AJG\\n',\n",
              " 'AIZ\\n',\n",
              " 'T\\n',\n",
              " 'ATO\\n',\n",
              " 'ADSK\\n',\n",
              " 'ADP\\n',\n",
              " 'AZO\\n',\n",
              " 'AVB\\n',\n",
              " 'AVY\\n',\n",
              " 'BKR\\n',\n",
              " 'BLL\\n',\n",
              " 'BAC\\n',\n",
              " 'BK\\n',\n",
              " 'BAX\\n',\n",
              " 'BDX\\n',\n",
              " 'BRK.B\\n',\n",
              " 'BBY\\n',\n",
              " 'BIIB\\n',\n",
              " 'BLK\\n',\n",
              " 'BA\\n',\n",
              " 'BKNG\\n',\n",
              " 'BWA\\n',\n",
              " 'BXP\\n',\n",
              " 'BSX\\n',\n",
              " 'BMY\\n',\n",
              " 'AVGO\\n',\n",
              " 'BR\\n',\n",
              " 'BF.B\\n',\n",
              " 'CHRW\\n',\n",
              " 'COG\\n',\n",
              " 'CDNS\\n',\n",
              " 'CPB\\n',\n",
              " 'COF\\n',\n",
              " 'CPRI\\n',\n",
              " 'CAH\\n',\n",
              " 'KMX\\n',\n",
              " 'CCL\\n',\n",
              " 'CARR\\n',\n",
              " 'CAT\\n',\n",
              " 'CBOE\\n',\n",
              " 'CBRE\\n',\n",
              " 'CDW\\n',\n",
              " 'CE\\n',\n",
              " 'CNC\\n',\n",
              " 'CNP\\n',\n",
              " 'CTL\\n',\n",
              " 'CERN\\n',\n",
              " 'CF\\n',\n",
              " 'SCHW\\n',\n",
              " 'CHTR\\n',\n",
              " 'CVX\\n',\n",
              " 'CMG\\n',\n",
              " 'CB\\n',\n",
              " 'CHD\\n',\n",
              " 'CI\\n',\n",
              " 'CINF\\n',\n",
              " 'CTAS\\n',\n",
              " 'CSCO\\n',\n",
              " 'C\\n',\n",
              " 'CFG\\n',\n",
              " 'CTXS\\n',\n",
              " 'CLX\\n',\n",
              " 'CME\\n',\n",
              " 'CMS\\n',\n",
              " 'KO\\n',\n",
              " 'CTSH\\n',\n",
              " 'CL\\n',\n",
              " 'CMCSA\\n',\n",
              " 'CMA\\n',\n",
              " 'CAG\\n',\n",
              " 'CXO\\n',\n",
              " 'COP\\n',\n",
              " 'ED\\n',\n",
              " 'STZ\\n',\n",
              " 'COO\\n',\n",
              " 'CPRT\\n',\n",
              " 'GLW\\n',\n",
              " 'CTVA\\n',\n",
              " 'COST\\n',\n",
              " 'COTY\\n',\n",
              " 'CCI\\n',\n",
              " 'CSX\\n',\n",
              " 'CMI\\n',\n",
              " 'CVS\\n',\n",
              " 'DHI\\n',\n",
              " 'DHR\\n',\n",
              " 'DRI\\n',\n",
              " 'DVA\\n',\n",
              " 'DE\\n',\n",
              " 'DAL\\n',\n",
              " 'XRAY\\n',\n",
              " 'DVN\\n',\n",
              " 'FANG\\n',\n",
              " 'DLR\\n',\n",
              " 'DFS\\n',\n",
              " 'DISCA\\n',\n",
              " 'DISCK\\n',\n",
              " 'DISH\\n',\n",
              " 'DG\\n',\n",
              " 'DLTR\\n',\n",
              " 'D\\n',\n",
              " 'DOV\\n',\n",
              " 'DOW\\n',\n",
              " 'DTE\\n',\n",
              " 'DUK\\n',\n",
              " 'DRE\\n',\n",
              " 'DD\\n',\n",
              " 'DXC\\n',\n",
              " 'ETFC\\n',\n",
              " 'EMN\\n',\n",
              " 'ETN\\n',\n",
              " 'EBAY\\n',\n",
              " 'ECL\\n',\n",
              " 'EIX\\n',\n",
              " 'EW\\n',\n",
              " 'EA\\n',\n",
              " 'EMR\\n',\n",
              " 'ETR\\n',\n",
              " 'EOG\\n',\n",
              " 'EFX\\n',\n",
              " 'EQIX\\n',\n",
              " 'EQR\\n',\n",
              " 'ESS\\n',\n",
              " 'EL\\n',\n",
              " 'EVRG\\n',\n",
              " 'ES\\n',\n",
              " 'RE\\n',\n",
              " 'EXC\\n',\n",
              " 'EXPE\\n',\n",
              " 'EXPD\\n',\n",
              " 'EXR\\n',\n",
              " 'XOM\\n',\n",
              " 'FFIV\\n',\n",
              " 'FB\\n',\n",
              " 'FAST\\n',\n",
              " 'FRT\\n',\n",
              " 'FDX\\n',\n",
              " 'FIS\\n',\n",
              " 'FITB\\n',\n",
              " 'FE\\n',\n",
              " 'FRC\\n',\n",
              " 'FISV\\n',\n",
              " 'FLT\\n',\n",
              " 'FLIR\\n',\n",
              " 'FLS\\n',\n",
              " 'FMC\\n',\n",
              " 'F\\n',\n",
              " 'FTNT\\n',\n",
              " 'FTV\\n',\n",
              " 'FBHS\\n',\n",
              " 'FOXA\\n',\n",
              " 'FOX\\n',\n",
              " 'BEN\\n',\n",
              " 'FCX\\n',\n",
              " 'GPS\\n',\n",
              " 'GRMN\\n',\n",
              " 'IT\\n',\n",
              " 'GD\\n',\n",
              " 'GE\\n',\n",
              " 'GIS\\n',\n",
              " 'GM\\n',\n",
              " 'GPC\\n',\n",
              " 'GILD\\n',\n",
              " 'GL\\n',\n",
              " 'GPN\\n',\n",
              " 'GS\\n',\n",
              " 'GWW\\n',\n",
              " 'HRB\\n',\n",
              " 'HAL\\n',\n",
              " 'HBI\\n',\n",
              " 'HOG\\n',\n",
              " 'HIG\\n',\n",
              " 'HAS\\n',\n",
              " 'HCA\\n',\n",
              " 'PEAK\\n',\n",
              " 'HP\\n',\n",
              " 'HSIC\\n',\n",
              " 'HSY\\n',\n",
              " 'HES\\n',\n",
              " 'HPE\\n',\n",
              " 'HLT\\n',\n",
              " 'HFC\\n',\n",
              " 'HOLX\\n',\n",
              " 'HD\\n',\n",
              " 'HON\\n',\n",
              " 'HRL\\n',\n",
              " 'HST\\n',\n",
              " 'HWM\\n',\n",
              " 'HPQ\\n',\n",
              " 'HUM\\n',\n",
              " 'HBAN\\n',\n",
              " 'HII\\n',\n",
              " 'IEX\\n',\n",
              " 'IDXX\\n',\n",
              " 'INFO\\n',\n",
              " 'ITW\\n',\n",
              " 'ILMN\\n',\n",
              " 'INCY\\n',\n",
              " 'IR\\n',\n",
              " 'INTC\\n',\n",
              " 'ICE\\n',\n",
              " 'IBM\\n',\n",
              " 'IP\\n',\n",
              " 'IPG\\n',\n",
              " 'IFF\\n',\n",
              " 'INTU\\n',\n",
              " 'ISRG\\n',\n",
              " 'IVZ\\n',\n",
              " 'IPGP\\n',\n",
              " 'IQV\\n',\n",
              " 'IRM\\n',\n",
              " 'JKHY\\n',\n",
              " 'J\\n',\n",
              " 'JBHT\\n',\n",
              " 'SJM\\n',\n",
              " 'JNJ\\n',\n",
              " 'JCI\\n',\n",
              " 'JPM\\n',\n",
              " 'JNPR\\n',\n",
              " 'KSU\\n',\n",
              " 'K\\n',\n",
              " 'KEY\\n',\n",
              " 'KEYS\\n',\n",
              " 'KMB\\n',\n",
              " 'KIM\\n',\n",
              " 'KMI\\n',\n",
              " 'KLAC\\n',\n",
              " 'KSS\\n',\n",
              " 'KHC\\n',\n",
              " 'KR\\n',\n",
              " 'LB\\n',\n",
              " 'LHX\\n',\n",
              " 'LH\\n',\n",
              " 'LRCX\\n',\n",
              " 'LW\\n',\n",
              " 'LVS\\n',\n",
              " 'LEG\\n',\n",
              " 'LDOS\\n',\n",
              " 'LEN\\n',\n",
              " 'LLY\\n',\n",
              " 'LNC\\n',\n",
              " 'LIN\\n',\n",
              " 'LYV\\n',\n",
              " 'LKQ\\n',\n",
              " 'LMT\\n',\n",
              " 'L\\n',\n",
              " 'LOW\\n',\n",
              " 'LYB\\n',\n",
              " 'MTB\\n',\n",
              " 'MRO\\n',\n",
              " 'MPC\\n',\n",
              " 'MKTX\\n',\n",
              " 'MAR\\n',\n",
              " 'MMC\\n',\n",
              " 'MLM\\n',\n",
              " 'MAS\\n',\n",
              " 'MA\\n',\n",
              " 'MKC\\n',\n",
              " 'MXIM\\n',\n",
              " 'MCD\\n',\n",
              " 'MCK\\n',\n",
              " 'MDT\\n',\n",
              " 'MRK\\n',\n",
              " 'MET\\n',\n",
              " 'MTD\\n',\n",
              " 'MGM\\n',\n",
              " 'MCHP\\n',\n",
              " 'MU\\n',\n",
              " 'MSFT\\n',\n",
              " 'MAA\\n',\n",
              " 'MHK\\n',\n",
              " 'TAP\\n',\n",
              " 'MDLZ\\n',\n",
              " 'MNST\\n',\n",
              " 'MCO\\n',\n",
              " 'MS\\n',\n",
              " 'MOS\\n',\n",
              " 'MSI\\n',\n",
              " 'MSCI\\n',\n",
              " 'MYL\\n',\n",
              " 'NDAQ\\n',\n",
              " 'NOV\\n',\n",
              " 'NTAP\\n',\n",
              " 'NFLX\\n',\n",
              " 'NWL\\n',\n",
              " 'NEM\\n',\n",
              " 'NWSA\\n',\n",
              " 'NWS\\n',\n",
              " 'NEE\\n',\n",
              " 'NLSN\\n',\n",
              " 'NKE\\n',\n",
              " 'NI\\n',\n",
              " 'NBL\\n',\n",
              " 'JWN\\n',\n",
              " 'NSC\\n',\n",
              " 'NTRS\\n',\n",
              " 'NOC\\n',\n",
              " 'NLOK\\n',\n",
              " 'NCLH\\n',\n",
              " 'NRG\\n',\n",
              " 'NUE\\n',\n",
              " 'NVDA\\n',\n",
              " 'NVR\\n',\n",
              " 'ORLY\\n',\n",
              " 'OXY\\n',\n",
              " 'ODFL\\n',\n",
              " 'OMC\\n',\n",
              " 'OKE\\n',\n",
              " 'ORCL\\n',\n",
              " 'OTIS\\n',\n",
              " 'PCAR\\n',\n",
              " 'PKG\\n',\n",
              " 'PH\\n',\n",
              " 'PAYX\\n',\n",
              " 'PAYC\\n',\n",
              " 'PYPL\\n',\n",
              " 'PNR\\n',\n",
              " 'PBCT\\n',\n",
              " 'PEP\\n',\n",
              " 'PKI\\n',\n",
              " 'PRGO\\n',\n",
              " 'PFE\\n',\n",
              " 'PM\\n',\n",
              " 'PSX\\n',\n",
              " 'PNW\\n',\n",
              " 'PXD\\n',\n",
              " 'PNC\\n',\n",
              " 'PPG\\n',\n",
              " 'PPL\\n',\n",
              " 'PFG\\n',\n",
              " 'PG\\n',\n",
              " 'PGR\\n',\n",
              " 'PLD\\n',\n",
              " 'PRU\\n',\n",
              " 'PEG\\n',\n",
              " 'PSA\\n',\n",
              " 'PHM\\n',\n",
              " 'PVH\\n',\n",
              " 'QRVO\\n',\n",
              " 'PWR\\n',\n",
              " 'QCOM\\n',\n",
              " 'DGX\\n',\n",
              " 'RL\\n',\n",
              " 'RJF\\n',\n",
              " 'RTX\\n',\n",
              " 'O\\n',\n",
              " 'REG\\n',\n",
              " 'REGN\\n',\n",
              " 'RF\\n',\n",
              " 'RSG\\n',\n",
              " 'RMD\\n',\n",
              " 'RHI\\n',\n",
              " 'ROK\\n',\n",
              " 'ROL\\n',\n",
              " 'ROP\\n',\n",
              " 'ROST\\n',\n",
              " 'RCL\\n',\n",
              " 'SPGI\\n',\n",
              " 'CRM\\n',\n",
              " 'SBAC\\n',\n",
              " 'SLB\\n',\n",
              " 'STX\\n',\n",
              " 'SEE\\n',\n",
              " 'SRE\\n',\n",
              " 'NOW\\n',\n",
              " 'SHW\\n',\n",
              " 'SPG\\n',\n",
              " 'SWKS\\n',\n",
              " 'SLG\\n',\n",
              " 'SNA\\n',\n",
              " 'SO\\n',\n",
              " 'LUV\\n',\n",
              " 'SWK\\n',\n",
              " 'SBUX\\n',\n",
              " 'STT\\n',\n",
              " 'STE\\n',\n",
              " 'SYK\\n',\n",
              " 'SIVB\\n',\n",
              " 'SYF\\n',\n",
              " 'SNPS\\n',\n",
              " 'SYY\\n',\n",
              " 'TMUS\\n',\n",
              " 'TROW\\n',\n",
              " 'TTWO\\n',\n",
              " 'TPR\\n',\n",
              " 'TGT\\n',\n",
              " 'TEL\\n',\n",
              " 'FTI\\n',\n",
              " 'TFX\\n',\n",
              " 'TXN\\n',\n",
              " 'TXT\\n',\n",
              " 'TMO\\n',\n",
              " 'TIF\\n',\n",
              " 'TJX\\n',\n",
              " 'TSCO\\n',\n",
              " 'TT\\n',\n",
              " 'TDG\\n',\n",
              " 'TRV\\n',\n",
              " 'TFC\\n',\n",
              " 'TWTR\\n',\n",
              " 'TSN\\n',\n",
              " 'UDR\\n',\n",
              " 'ULTA\\n',\n",
              " 'USB\\n',\n",
              " 'UAA\\n',\n",
              " 'UA\\n',\n",
              " 'UNP\\n',\n",
              " 'UAL\\n',\n",
              " 'UNH\\n',\n",
              " 'UPS\\n',\n",
              " 'URI\\n',\n",
              " 'UHS\\n',\n",
              " 'UNM\\n',\n",
              " 'VFC\\n',\n",
              " 'VLO\\n',\n",
              " 'VAR\\n',\n",
              " 'VTR\\n',\n",
              " 'VRSN\\n',\n",
              " 'VRSK\\n',\n",
              " 'VZ\\n',\n",
              " 'VRTX\\n',\n",
              " 'VIAC\\n',\n",
              " 'V\\n',\n",
              " 'VNO\\n',\n",
              " 'VMC\\n',\n",
              " 'WRB\\n',\n",
              " 'WAB\\n',\n",
              " 'WMT\\n',\n",
              " 'WBA\\n',\n",
              " 'DIS\\n',\n",
              " 'WM\\n',\n",
              " 'WAT\\n',\n",
              " 'WEC\\n',\n",
              " 'WFC\\n',\n",
              " 'WELL\\n',\n",
              " 'WDC\\n',\n",
              " 'WU\\n',\n",
              " 'WRK\\n',\n",
              " 'WY\\n',\n",
              " 'WHR\\n',\n",
              " 'WMB\\n',\n",
              " 'WLTW\\n',\n",
              " 'WYNN\\n',\n",
              " 'XEL\\n',\n",
              " 'XRX\\n',\n",
              " 'XLNX\\n',\n",
              " 'XYL\\n',\n",
              " 'YUM\\n',\n",
              " 'ZBRA\\n',\n",
              " 'ZBH\\n',\n",
              " 'ZION\\n',\n",
              " 'ZTS\\n']"
            ]
          },
          "metadata": {
            "tags": []
          },
          "execution_count": 95
        }
      ]
    },
    {
      "cell_type": "code",
      "metadata": {
        "id": "NXvnYz4SsPny",
        "colab_type": "code",
        "colab": {}
      },
      "source": [
        ""
      ],
      "execution_count": 0,
      "outputs": []
    }
  ]
}